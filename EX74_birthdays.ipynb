{
  "nbformat": 4,
  "nbformat_minor": 0,
  "metadata": {
    "colab": {
      "provenance": [],
      "authorship_tag": "ABX9TyMKlHeegCy4/5CpfZfDWn6b",
      "include_colab_link": true
    },
    "kernelspec": {
      "name": "python3",
      "display_name": "Python 3"
    },
    "language_info": {
      "name": "python"
    }
  },
  "cells": [
    {
      "cell_type": "markdown",
      "metadata": {
        "id": "view-in-github",
        "colab_type": "text"
      },
      "source": [
        "<a href=\"https://colab.research.google.com/github/Sanjana-Sarma/NTTF_Training/blob/main/EX74_birthdays.ipynb\" target=\"_parent\"><img src=\"https://colab.research.google.com/assets/colab-badge.svg\" alt=\"Open In Colab\"/></a>"
      ]
    },
    {
      "cell_type": "code",
      "execution_count": 1,
      "metadata": {
        "id": "Bn0spQgrJ4q1"
      },
      "outputs": [],
      "source": [
        "import json\n",
        "from datetime import datetime, timedelta"
      ]
    },
    {
      "cell_type": "code",
      "source": [
        "\n",
        "def load_birthday_data():\n",
        "    try:\n",
        "        with open('birthdays.json', 'r') as file:\n",
        "            return json.load(file)\n",
        "    except FileNotFoundError:\n",
        "        return {}"
      ],
      "metadata": {
        "id": "KkiUkS1mMoiH"
      },
      "execution_count": 2,
      "outputs": []
    },
    {
      "cell_type": "code",
      "source": [
        "def save_birthday_data(data):\n",
        "    with open('birthdays.json', 'w') as file:\n",
        "        json.dump(data, file)"
      ],
      "metadata": {
        "id": "eX3yungJMovV"
      },
      "execution_count": 3,
      "outputs": []
    },
    {
      "cell_type": "code",
      "source": [
        "def add_birthday(name, date):\n",
        "    birthday_data = load_birthday_data()\n",
        "    birthday_data[name] = date\n",
        "    save_birthday_data(birthday_data)"
      ],
      "metadata": {
        "id": "J8l00KZ-Mo1r"
      },
      "execution_count": 4,
      "outputs": []
    },
    {
      "cell_type": "code",
      "source": [
        "def list_upcoming_birthdays(days=30):\n",
        "    birthday_data = load_birthday_data()\n",
        "    today = datetime.today()\n",
        "    upcoming_birthdays = []\n",
        "\n",
        "    for name, date in birthday_data.items():\n",
        "        birthdate = datetime.strptime(date, '%Y-%m-%d')\n",
        "        next_birthday = datetime(today.year, birthdate.month, birthdate.day)\n",
        "\n",
        "        if next_birthday < today:\n",
        "            next_birthday = next_birthday.replace(year=today.year + 1)\n",
        "\n",
        "        days_until_birthday = (next_birthday - today).days\n",
        "\n",
        "        if 0 <= days_until_birthday <= days:\n",
        "            upcoming_birthdays.append((name, next_birthday))\n",
        "\n",
        "    if upcoming_birthdays:\n",
        "        upcoming_birthdays.sort(key=lambda x: x[1])\n",
        "        print(\"Upcoming Birthdays:\")\n",
        "        for name, date in upcoming_birthdays:\n",
        "            days_until_birthday = (date - today).days\n",
        "            print(f\"{name}: {date.strftime('%B %d')} ({days_until_birthday} days)\")\n",
        "    else:\n",
        "        print(\"No upcoming birthdays in the next 30 days.\")"
      ],
      "metadata": {
        "id": "lv_MhzbSMo5o"
      },
      "execution_count": 5,
      "outputs": []
    },
    {
      "cell_type": "code",
      "source": [
        "def main():\n",
        "    while True:\n",
        "        print(\"\\nBirthday Reminder App\")\n",
        "        print(\"1. Add a Birthday\")\n",
        "        print(\"2. List Upcoming Birthdays\")\n",
        "        print(\"3. Exit\")\n",
        "        choice = input(\"Enter your choice: \")\n",
        "\n",
        "        if choice == '1':\n",
        "            name = input(\"Enter the name: \")\n",
        "            date = input(\"Enter the birthdate (YYYY-MM-DD): \")\n",
        "            add_birthday(name, date)\n",
        "            print(\"Birthday added successfully!\")\n",
        "        elif choice == '2':\n",
        "            list_upcoming_birthdays()\n",
        "        elif choice == '3':\n",
        "            print(\"Goodbye!\")\n",
        "            break\n",
        "        else:\n",
        "            print(\"Invalid choice. Please try again.\")"
      ],
      "metadata": {
        "id": "nKGW-Rc-Mo_G"
      },
      "execution_count": 6,
      "outputs": []
    },
    {
      "cell_type": "code",
      "source": [
        "if __name__ == \"__main__\":\n",
        "    main()"
      ],
      "metadata": {
        "colab": {
          "base_uri": "https://localhost:8080/"
        },
        "id": "6QK4GUOGMpBS",
        "outputId": "1ae7d723-81f1-4121-e589-0228fc15d442"
      },
      "execution_count": 7,
      "outputs": [
        {
          "output_type": "stream",
          "name": "stdout",
          "text": [
            "\n",
            "Birthday Reminder App\n",
            "1. Add a Birthday\n",
            "2. List Upcoming Birthdays\n",
            "3. Exit\n",
            "Enter your choice: 1\n",
            "Enter the name: Sanjana Sarma\n",
            "Enter the birthdate (YYYY-MM-DD): 1996-03-16\n",
            "Birthday added successfully!\n",
            "\n",
            "Birthday Reminder App\n",
            "1. Add a Birthday\n",
            "2. List Upcoming Birthdays\n",
            "3. Exit\n",
            "Enter your choice: 1\n",
            "Enter the name: Saurabh uncle\n",
            "Enter the birthdate (YYYY-MM-DD): 1952-09-11\n",
            "Birthday added successfully!\n",
            "\n",
            "Birthday Reminder App\n",
            "1. Add a Birthday\n",
            "2. List Upcoming Birthdays\n",
            "3. Exit\n",
            "Enter your choice: 2\n",
            "Upcoming Birthdays:\n",
            "Saurabh uncle: September 11 (2 days)\n",
            "\n",
            "Birthday Reminder App\n",
            "1. Add a Birthday\n",
            "2. List Upcoming Birthdays\n",
            "3. Exit\n",
            "Enter your choice: 3\n",
            "Goodbye!\n"
          ]
        }
      ]
    }
  ]
}