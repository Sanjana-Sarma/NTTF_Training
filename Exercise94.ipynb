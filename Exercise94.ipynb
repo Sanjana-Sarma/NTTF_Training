{
  "nbformat": 4,
  "nbformat_minor": 0,
  "metadata": {
    "colab": {
      "provenance": [],
      "authorship_tag": "ABX9TyP4IFWVDGHzAmwBjTfVXOyJ",
      "include_colab_link": true
    },
    "kernelspec": {
      "name": "python3",
      "display_name": "Python 3"
    },
    "language_info": {
      "name": "python"
    }
  },
  "cells": [
    {
      "cell_type": "markdown",
      "metadata": {
        "id": "view-in-github",
        "colab_type": "text"
      },
      "source": [
        "<a href=\"https://colab.research.google.com/github/Sanjana-Sarma/NTTF_Training/blob/main/Exercise94.ipynb\" target=\"_parent\"><img src=\"https://colab.research.google.com/assets/colab-badge.svg\" alt=\"Open In Colab\"/></a>"
      ]
    },
    {
      "cell_type": "markdown",
      "source": [
        "1. Write a Python function called find_max that takes a variable number of arguments and\n",
        "returns the maximum value among those arguments."
      ],
      "metadata": {
        "id": "2oxYwNHcnhSM"
      }
    },
    {
      "cell_type": "code",
      "source": [
        "def find_max(*args):\n",
        "    if not args:\n",
        "        # If no arguments are provided, return None or raise an exception\n",
        "        return None\n",
        "    else:\n",
        "        # Use the max function to find the maximum value among the arguments\n",
        "        maximum = max(args)\n",
        "        return maximum\n",
        "\n",
        "# Example usage:\n",
        "result = find_max(10, 5, 20, 15, 26, 4, 8, 67, 54, 129, 56, 23, 99)\n",
        "print(\"Maximum value:\", result)\n"
      ],
      "metadata": {
        "colab": {
          "base_uri": "https://localhost:8080/"
        },
        "id": "h0nrXhYNnmdx",
        "outputId": "4c8d7b45-1c6d-4561-e0b3-abb99915283d"
      },
      "execution_count": 107,
      "outputs": [
        {
          "output_type": "stream",
          "name": "stdout",
          "text": [
            "Maximum value: 129\n"
          ]
        }
      ]
    },
    {
      "cell_type": "markdown",
      "source": [
        "2. Write a Python function that takes a variable number of arguments and returns a list of\n",
        "factorials corresponding to those arguments."
      ],
      "metadata": {
        "id": "8o7pISwVn6E_"
      }
    },
    {
      "cell_type": "code",
      "source": [
        "def factorial(n):\n",
        "    if n == 0:\n",
        "        return 1\n",
        "    else:\n",
        "        return n * factorial(n - 1)\n",
        "\n",
        "def calculate_factorials(*args):\n",
        "    factorial_list = []\n",
        "    for num in args:\n",
        "        factorial_list.append(factorial(num))\n",
        "    return factorial_list\n",
        "\n",
        "# Example usage:\n",
        "result = calculate_factorials(0, 1, 2, 3, 4,5, 6, 7, 8, 9)\n",
        "print(\"Factorials:\", result)\n"
      ],
      "metadata": {
        "colab": {
          "base_uri": "https://localhost:8080/"
        },
        "id": "MsHCiIfJn5PZ",
        "outputId": "60f16fe1-6ae6-41f0-eabf-126513860bc5"
      },
      "execution_count": 108,
      "outputs": [
        {
          "output_type": "stream",
          "name": "stdout",
          "text": [
            "Factorials: [1, 1, 2, 6, 24, 120, 720, 5040, 40320, 362880]\n"
          ]
        }
      ]
    },
    {
      "cell_type": "markdown",
      "source": [
        "3. Write a Python function that takes a variable number of string arguments and returns a\n",
        "single string that concatenates all the input strings with a specified delimiter."
      ],
      "metadata": {
        "id": "Jxfh3l4hoyij"
      }
    },
    {
      "cell_type": "code",
      "source": [
        "def concatenate_strings(delimiter, *args):\n",
        "    # Use the join method to concatenate the input strings with the specified delimiter\n",
        "    concatenated_string = delimiter.join(args)\n",
        "    return concatenated_string\n",
        "\n",
        "# Example usage:\n",
        "result = concatenate_strings(\" \", \"Apple,\", \"banana,\", \"cherry\", \"and\", \"mango\", \"are\", \"my\", \"favourite\", \"fruits\", \".\")\n",
        "print(\"Concatenated string:\", result)\n"
      ],
      "metadata": {
        "colab": {
          "base_uri": "https://localhost:8080/"
        },
        "id": "er8SoSWgo2fF",
        "outputId": "cd981a8a-a90b-454e-8c41-a92dfa503229"
      },
      "execution_count": 109,
      "outputs": [
        {
          "output_type": "stream",
          "name": "stdout",
          "text": [
            "Concatenated string: Apple, banana, cherry and mango are my favourite fruits .\n"
          ]
        }
      ]
    },
    {
      "cell_type": "markdown",
      "source": [
        "4. You are to write a Python function that takes a variable number of arguments and returns\n",
        "the median of those arguments."
      ],
      "metadata": {
        "id": "nGtm64hYpdDx"
      }
    },
    {
      "cell_type": "code",
      "source": [
        "def calculate_median(*args):\n",
        "    # Convert the variable arguments into a list\n",
        "    values = list(args)\n",
        "\n",
        "    # Sort the list of values\n",
        "    values.sort()\n",
        "    print(\"Sorted List of Values: \", values, \"\\nTotal number of values: \", len(values))\n",
        "    # Calculate the middle index\n",
        "    middle_index = len(values) // 2\n",
        "\n",
        "    if len(values) % 2 == 1:\n",
        "        # If the list has an odd number of elements, return the middle element\n",
        "        median = values[middle_index]\n",
        "    else:\n",
        "        # If the list has an even number of elements, calculate the average of the two middle elements\n",
        "        median = (values[middle_index - 1] + values[middle_index]) / 2\n",
        "\n",
        "    return int(median)\n",
        "\n",
        "# Example usage:\n",
        "result = calculate_median(3, 1, 4, 1, 5, 9, 2, 6, 5, 3, 4, 6, 3, 10, 11, 12, 5, 6, 3, 6, 8, 5, 4, 2, 7)\n",
        "print(\"Median:\", result)\n"
      ],
      "metadata": {
        "colab": {
          "base_uri": "https://localhost:8080/"
        },
        "id": "wjvbItytpgj3",
        "outputId": "5c289d1b-9834-437d-815d-971c26879ec9"
      },
      "execution_count": 110,
      "outputs": [
        {
          "output_type": "stream",
          "name": "stdout",
          "text": [
            "Sorted List of Values:  [1, 1, 2, 2, 3, 3, 3, 3, 4, 4, 4, 5, 5, 5, 5, 6, 6, 6, 6, 7, 8, 9, 10, 11, 12] \n",
            "Total number of values:  25\n",
            "Median: 5\n"
          ]
        }
      ]
    },
    {
      "cell_type": "markdown",
      "source": [
        "5. Write a Python function that takes a variable number of item-price pairs as arguments\n",
        "and returns the total cost of all items in the shopping cart."
      ],
      "metadata": {
        "id": "p17Tg43CqtXJ"
      }
    },
    {
      "cell_type": "code",
      "source": [
        "def calculate_total_cost(*args):\n",
        "    total_cost = 0\n",
        "\n",
        "    # Iterate through the item-price pairs as tuples\n",
        "    for item, price in args:\n",
        "        # Add the price of the item to the total cost\n",
        "        total_cost += price\n",
        "\n",
        "    return total_cost\n",
        "\n",
        "# Example usage with tuples:\n",
        "result = calculate_total_cost((\"apple\", 0.75), (\"banana\", 0.50), (\"cherry\", 1.25), (\"mango\", 3.50), (\"muskmelon\", 2.45), (\"peach\", 2.20))\n",
        "print(f\"Total cost: {result:.2f}$\")"
      ],
      "metadata": {
        "colab": {
          "base_uri": "https://localhost:8080/"
        },
        "id": "rc1-F6jhqzlb",
        "outputId": "a45c01cd-f958-451e-dc5a-613261a7b5db"
      },
      "execution_count": 111,
      "outputs": [
        {
          "output_type": "stream",
          "name": "stdout",
          "text": [
            "Total cost: 10.65$\n"
          ]
        }
      ]
    },
    {
      "cell_type": "markdown",
      "source": [
        "6. You are to write a Python function that takes the name and age as required arguments\n",
        "and additional information as keyword arguments (**kwargs) and returns a dictionary\n",
        "containing all this information."
      ],
      "metadata": {
        "id": "8ukfsrq4stiE"
      }
    },
    {
      "cell_type": "code",
      "source": [
        "def create_person_info(name, age, **kwargs):\n",
        "    # Create a dictionary to store the information\n",
        "    person_info = {\n",
        "        \"Name\": name,\n",
        "        \"Age\": age,\n",
        "    }\n",
        "\n",
        "    # Add any additional information from kwargs\n",
        "    person_info.update(kwargs)\n",
        "    return person_info\n",
        "\n",
        "result = create_person_info(\"Satish\", 28, City=\"Chennai\", Occupation=\"Computer Engineer\", Education=\"Bachelor's\")\n",
        "print(result)\n"
      ],
      "metadata": {
        "colab": {
          "base_uri": "https://localhost:8080/"
        },
        "id": "eF60HyWdtIAH",
        "outputId": "e6716a2b-214b-461a-d8c9-287791866527"
      },
      "execution_count": 112,
      "outputs": [
        {
          "output_type": "stream",
          "name": "stdout",
          "text": [
            "{'Name': 'Satish', 'Age': 28, 'City': 'Chennai', 'Occupation': 'Computer Engineer', 'Education': \"Bachelor's\"}\n"
          ]
        }
      ]
    },
    {
      "cell_type": "markdown",
      "source": [
        "7. Create a Python function that takes recipient, subject and message contents as required\n",
        "arguments and allows additional customization using **kwargs. The function should return a\n",
        "formatted email message."
      ],
      "metadata": {
        "id": "LKdqgl65trfL"
      }
    },
    {
      "cell_type": "code",
      "source": [
        "def create_email(recipient, subject, message, **kwargs):\n",
        "    # Create a dictionary to store email components\n",
        "    email = {\n",
        "        \"Recipient\": recipient,\n",
        "    }\n",
        "\n",
        "    # Add any additional customization using kwargs\n",
        "    email.update(kwargs)\n",
        "\n",
        "    # Format the email message\n",
        "    formatted_email = \"\\n\".join(f\"{key}: {value}\" for key, value in email.items())\n",
        "    formatted_email += f\"\\nSubject: {subject}\\n{message}\"\n",
        "    return formatted_email\n",
        "\n",
        "# Example usage:\n",
        "customizations = {\n",
        "    \"Sender\": \"rohan_joshi@gmail.com\",\n",
        "    \"CC\": \"tanmay_bhatt@gmail.com\",\n",
        "    \"BCC\": \"akshay_kumar@gmail.com\",\n",
        "}\n",
        "\n",
        "email_message = create_email(\"rahuna_bhatt@yahoo.com\", \"Email Check\", \"Hello, \\nThis is the email body.\\nRegards\\nRohan Joshi\", **customizations)\n",
        "print(email_message)\n"
      ],
      "metadata": {
        "colab": {
          "base_uri": "https://localhost:8080/"
        },
        "id": "BveKXxg4tyJu",
        "outputId": "d81bc562-a9cb-43d9-f474-4f47afdfe336"
      },
      "execution_count": 113,
      "outputs": [
        {
          "output_type": "stream",
          "name": "stdout",
          "text": [
            "Recipient: rahuna_bhatt@yahoo.com\n",
            "Sender: rohan_joshi@gmail.com\n",
            "CC: tanmay_bhatt@gmail.com\n",
            "BCC: akshay_kumar@gmail.com\n",
            "Subject: Email Check\n",
            "Hello, \n",
            "This is the email body.\n",
            "Regards\n",
            "Rohan Joshi\n"
          ]
        }
      ]
    },
    {
      "cell_type": "markdown",
      "source": [
        "8. You are to create a Python function that takes customer name, purchase total and date\n",
        "as required arguments and allows for additional transaction details using **kwargs. The\n",
        "function should return a summary report."
      ],
      "metadata": {
        "id": "Eb5H6Di3yb5-"
      }
    },
    {
      "cell_type": "code",
      "source": [
        "def generate_transaction_summary(customer_name, purchase_total, date, **kwargs):\n",
        "    # Create a dictionary to store transaction details\n",
        "    transaction_details = {\n",
        "        \"Customer Name\": customer_name,\n",
        "        \"Purchase Total\": purchase_total,\n",
        "        \"Date\": date,\n",
        "    }\n",
        "\n",
        "    # Add any additional transaction details using kwargs\n",
        "    transaction_details.update(kwargs)\n",
        "\n",
        "    # Generate the summary report\n",
        "    report = \"Transaction Summary:\\n\"\n",
        "    for key, value in transaction_details.items():\n",
        "        report += f\"{key}: {value}\\n\"\n",
        "\n",
        "    return report\n",
        "\n",
        "# Example usage:\n",
        "transaction_info = {\n",
        "    \"Payment Method\": \"Credit Card\",\n",
        "    \"Items Purchased\": [\"Floor Cleaner\", \"Baking Flour\", \"Toilet Paper\"],\n",
        "    \"Discount Applied\": True,\n",
        "}\n",
        "\n",
        "summary_report = generate_transaction_summary(\"Rahutosh\", \"750 INR\", \"2023-10-03\", **transaction_info)\n",
        "print(summary_report)\n"
      ],
      "metadata": {
        "colab": {
          "base_uri": "https://localhost:8080/"
        },
        "id": "iPXNL_-_yh4Q",
        "outputId": "67cab02a-4fb1-4f95-b11a-8cb8cdff1067"
      },
      "execution_count": 114,
      "outputs": [
        {
          "output_type": "stream",
          "name": "stdout",
          "text": [
            "Transaction Summary:\n",
            "Customer Name: Rahutosh\n",
            "Purchase Total: 750 INR\n",
            "Date: 2023-10-03\n",
            "Payment Method: Credit Card\n",
            "Items Purchased: ['Floor Cleaner', 'Baking Flour', 'Toilet Paper']\n",
            "Discount Applied: True\n",
            "\n"
          ]
        }
      ]
    },
    {
      "cell_type": "markdown",
      "source": [
        "9. Write a Python function that takes a variable number of item-price pairs as *args and\n",
        "allows for discounts using **kwargs. This function should return the total cost after applying\n",
        "discounts"
      ],
      "metadata": {
        "id": "fs8t1U3WzTT0"
      }
    },
    {
      "cell_type": "code",
      "source": [
        "def calculate_total_cost_with_discounts(*args, **kwargs):\n",
        "    total_cost = 0\n",
        "\n",
        "    # Create a dictionary to store item-specific discounts\n",
        "    item_discounts = kwargs.get(\"item_discounts\", {})\n",
        "\n",
        "    for item, price in args:\n",
        "        # Apply item-specific discount if available, otherwise use 0% discount\n",
        "        discount = item_discounts.get(item, 0)\n",
        "        discounted_price = price - (price * discount / 100)\n",
        "        total_cost += discounted_price\n",
        "\n",
        "    return total_cost\n",
        "\n",
        "# Example usage:\n",
        "item_prices = [(\"apple\", 0.75), (\"banana\", 0.50), (\"cherry\", 1.25), (\"mango\", 3.50), (\"muskmelon\", 2.45), (\"peach\", 2.20)]\n",
        "discounts = {\n",
        "    'item_discounts': {\n",
        "        'apple': 10,\n",
        "        'banana': 5,\n",
        "        'cherry': 20,\n",
        "        'mango': 5,\n",
        "        'muskmelon':30,\n",
        "        'peach': 25\n",
        "    }\n",
        "}#In %\n",
        "\n",
        "total_cost = calculate_total_cost_with_discounts(*item_prices, **discounts)\n",
        "print(\"Total cost after individual discounts: \", total_cost,\"$\")\n"
      ],
      "metadata": {
        "colab": {
          "base_uri": "https://localhost:8080/"
        },
        "id": "_M968ztyzZLi",
        "outputId": "34fb2e62-f4ba-49a3-971e-d386e485b7fc"
      },
      "execution_count": 115,
      "outputs": [
        {
          "output_type": "stream",
          "name": "stdout",
          "text": [
            "Total cost after individual discounts:  8.84 $\n"
          ]
        }
      ]
    }
  ]
}