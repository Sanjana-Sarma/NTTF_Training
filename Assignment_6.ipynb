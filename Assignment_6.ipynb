{
  "nbformat": 4,
  "nbformat_minor": 0,
  "metadata": {
    "colab": {
      "provenance": [],
      "authorship_tag": "ABX9TyN4FkuYNKMXlo37AO9SQOH1",
      "include_colab_link": true
    },
    "kernelspec": {
      "name": "python3",
      "display_name": "Python 3"
    },
    "language_info": {
      "name": "python"
    }
  },
  "cells": [
    {
      "cell_type": "markdown",
      "metadata": {
        "id": "view-in-github",
        "colab_type": "text"
      },
      "source": [
        "<a href=\"https://colab.research.google.com/github/Sanjana-Sarma/NTTF_Training/blob/main/Assignment_6.ipynb\" target=\"_parent\"><img src=\"https://colab.research.google.com/assets/colab-badge.svg\" alt=\"Open In Colab\"/></a>"
      ]
    },
    {
      "cell_type": "code",
      "execution_count": null,
      "metadata": {
        "colab": {
          "base_uri": "https://localhost:8080/"
        },
        "id": "yeLKWyc8jF0J",
        "outputId": "ef56d0de-ca06-42b2-c861-9a106bb81ca1"
      },
      "outputs": [
        {
          "output_type": "stream",
          "name": "stdout",
          "text": [
            "Enter the string to be checked: jksdbfksjdv krjhfgwnljdfnlak  ksaetykjbgsjkdcn ksjdfhudjgbvnsk ksjdgbsjkld\n",
            "List of substrings with no character repeated: ['jksdbf', 'ksjdv ', 'krjhfgwnl', 'jdfnlak ', ' ksaety', 'kjbgs', 'jkdcn ', 'ksjdfhu', 'djgbvnsk ', 'ksjdgb', 'sjkld']\n",
            "\n",
            "Enter the longest substring: krjhfgwnl\n",
            "\n",
            "Enter the longest length: 9\n"
          ]
        }
      ],
      "source": [
        "def length_of_longest_substring(string):\n",
        "  def substrings_list(string):\n",
        "    substrings = []\n",
        "    start=0\n",
        "    for i in range(len(string)):\n",
        "      if string[i] in string[start:i]:\n",
        "        substrings.append(string[start:i])\n",
        "        start=i\n",
        "    substrings.append(string[start:])\n",
        "    return substrings\n",
        "  substrings = substrings_list(string)\n",
        "  max_length=0\n",
        "  max_substring=\"\"\n",
        "  for substring in substrings:\n",
        "    length=len(substring)\n",
        "    if length>max_length:\n",
        "      max_length=length\n",
        "      max_substring=substring\n",
        "  print(\"List of substrings with no character repeated: {}\".format(substrings))\n",
        "  return max_substring,max_length\n",
        "def main():\n",
        "  try:\n",
        "    string = str(input(\"Enter the string to be checked: \"))\n",
        "    max_substring, max_length = length_of_longest_substring(string)\n",
        "    print(\"\\nEnter the longest substring: {}\".format(max_substring))\n",
        "    print(\"\\nEnter the longest length: {}\".format(max_length))\n",
        "  except ValueError:\n",
        "    print(\"Invalid Input!!!\")\n",
        "if __name__ == \"__main__\":\n",
        "  main()\n"
      ]
    },
    {
      "cell_type": "code",
      "source": [
        "def sum_check(nums, target):\n",
        "  num_index_dict = {}\n",
        "  for index, num in enumerate(nums):\n",
        "    complement = target - num\n",
        "    if complement in num_index_dict:\n",
        "      return [num_index_dict[complement], index]\n",
        "    num_index_dict[num] = index\n",
        "  return []\n",
        "def main():\n",
        "  input_nums = input(\"Enter the numbers separated by a space: \")\n",
        "  nums = [int(num) for num in input_nums.split()]\n",
        "  target = int(input(\"Enter The target sum: \"))\n",
        "  result = sum_check(nums, target)\n",
        "  if result:\n",
        "    print(\"The indices of the two number that form the target sum are: {} and {}\".format(result[0], result[1]))\n",
        "  else:\n",
        "    print(\"No solution found!!\")\n",
        "if __name__ == \"__main__\":\n",
        "  main()"
      ],
      "metadata": {
        "colab": {
          "base_uri": "https://localhost:8080/"
        },
        "id": "Ut8jOiRPos-4",
        "outputId": "3524dc53-f46d-4598-a5a3-2eba8b447cb6"
      },
      "execution_count": null,
      "outputs": [
        {
          "output_type": "stream",
          "name": "stdout",
          "text": [
            "Enter the numbers separated by a space: 12 54 22 43 66 22 87 29 12 65 23\n",
            "Enter The target sum: 88\n",
            "The indices of the two number that form the target sum are: 2 and 4\n"
          ]
        }
      ]
    },
    {
      "cell_type": "code",
      "source": [
        "def max_subarray_sum(nums):\n",
        "    if not nums:\n",
        "        return 0\n",
        "    max_sum = current_sum = nums[0]\n",
        "    start = end = 0\n",
        "    temp_start = 0\n",
        "    for i, num in enumerate(nums[1:], start=1):\n",
        "        if num > current_sum + num:\n",
        "            current_sum = num\n",
        "            temp_start = i\n",
        "        else:\n",
        "            current_sum += num\n",
        "\n",
        "        if current_sum > max_sum:\n",
        "            max_sum = current_sum\n",
        "            start = temp_start\n",
        "            end = i\n",
        "    max_subarray = nums[start:end + 1]\n",
        "    return max_subarray, max_sum\n",
        "\n",
        "def main():\n",
        "  try:\n",
        "    arr_input = input(\"Enter the array elements separated by spaces: \")\n",
        "    arr = [int(arr_) for arr_ in arr_input.split()]\n",
        "    max_subarray, max_sum = max_subarray_sum(arr)\n",
        "    print(\"\\nMaximum Subarray:\", max_subarray)\n",
        "    print(\"\\nSum of Maximum Subarray:\", max_sum)\n",
        "  except ValueError:\n",
        "    print(\"Invalid Input!!\")\n",
        "if __name__ == \"__main__\":\n",
        "  main()\n",
        "\n"
      ],
      "metadata": {
        "colab": {
          "base_uri": "https://localhost:8080/"
        },
        "id": "ot3_JH00rTZd",
        "outputId": "4c8ccfcf-fb34-4416-9aee-bf8d8c723a41"
      },
      "execution_count": null,
      "outputs": [
        {
          "output_type": "stream",
          "name": "stdout",
          "text": [
            "Enter the array elements separated by spaces: 3 -5 5 -12 5 9 -5 -2 5 6 -9 2 -4 8\n",
            "\n",
            "Maximum Subarray: [5, 9, -5, -2, 5, 6]\n",
            "\n",
            "Sum of Maximum Subarray: 18\n"
          ]
        }
      ]
    },
    {
      "cell_type": "code",
      "source": [
        "def is_one_edit_away(word1, word2):\n",
        "    count_diff = 0\n",
        "    for c1, c2 in zip(word1, word2):\n",
        "        if c1 != c2:\n",
        "            count_diff += 1\n",
        "            if count_diff > 1:\n",
        "                return False\n",
        "    return count_diff == 1\n",
        "def find_shortest_transformation_length(beginWord, endWord, wordList):\n",
        "    if endWord not in wordList:\n",
        "        return 0\n",
        "    queue = [(beginWord, 1)]\n",
        "    while queue:\n",
        "        word, level = queue.pop(0)\n",
        "\n",
        "        if word == endWord:\n",
        "            return level\n",
        "\n",
        "        for next_word in wordList.copy():\n",
        "            if is_one_edit_away(word, next_word):\n",
        "                queue.append((next_word, level + 1))\n",
        "                wordList.remove(next_word)\n",
        "    return 0\n",
        "\n",
        "wordList = input(\"Enter: \").split()\n",
        "beginWord = input(\"Enter beginWord: \")\n",
        "endWord = input(\"Enter endWord: \")\n",
        "shortest_length = find_shortest_transformation_length(beginWord, endWord, wordList)\n",
        "print(\"Length of the shortest transformation sequence:\", shortest_length)\n"
      ],
      "metadata": {
        "colab": {
          "base_uri": "https://localhost:8080/"
        },
        "id": "3WGfykyryxDk",
        "outputId": "1f953dd5-972e-4c04-d297-5d9c618af650"
      },
      "execution_count": null,
      "outputs": [
        {
          "output_type": "stream",
          "name": "stdout",
          "text": [
            "Enter: hot dot dog lot log cog\n",
            "Enter beginWord: hit\n",
            "Enter endWord: cog\n",
            "Length of the shortest transformation sequence: 5\n"
          ]
        }
      ]
    },
    {
      "cell_type": "code",
      "source": [
        "def is_valid_move(board, row, col, num):\n",
        "    for i in range(9):\n",
        "        if board[row][i] == num or board[i][col] == num:\n",
        "            return False\n",
        "    box_row, box_col = 3 * (row // 3), 3 * (col // 3)\n",
        "    for i in range(box_row, box_row + 3):\n",
        "        for j in range(box_col, box_col + 3):\n",
        "            if board[i][j] == num:\n",
        "                return False\n",
        "    return True\n",
        "\n",
        "def find_empty_cell(board):\n",
        "    for i in range(9):\n",
        "        for j in range(9):\n",
        "            if board[i][j] == 0:\n",
        "                return i, j\n",
        "    return None, None\n",
        "\n",
        "def solve_sudoku(board):\n",
        "    row, col = find_empty_cell(board)\n",
        "    if row is None:\n",
        "        return True\n",
        "    for num in range(1, 10):\n",
        "        if is_valid_move(board, row, col, num):\n",
        "            board[row][col] = num\n",
        "            if solve_sudoku(board):\n",
        "                return True\n",
        "            board[row][col] = 0\n",
        "    return False\n",
        "\n",
        "def main():\n",
        "  partially_filled_grid = [\n",
        "      [5, 3, 0, 0, 7, 0, 0, 0, 0],\n",
        "      [6, 0, 0, 1, 9, 5, 0, 0, 0],\n",
        "      [0, 9, 8, 0, 0, 0, 0, 6, 0],\n",
        "      [8, 0, 0, 0, 6, 0, 0, 0, 3],\n",
        "      [4, 0, 0, 8, 0, 3, 0, 0, 1],\n",
        "      [7, 0, 0, 0, 2, 0, 0, 0, 6],\n",
        "      [0, 6, 0, 0, 0, 0, 2, 8, 0],\n",
        "      [0, 0, 0, 4, 1, 9, 0, 0, 5],\n",
        "      [0, 0, 0, 0, 8, 0, 0, 7, 9]\n",
        "  ]\n",
        "\n",
        "  if solve_sudoku(partially_filled_grid):\n",
        "      print(\"Sudoku puzzle solved successfully:\")\n",
        "      for row in partially_filled_grid:\n",
        "          print(row)\n",
        "  else:\n",
        "      print(\"No solution exists for the given Sudoku puzzle.\")\n",
        "if __name__ == \"__main__\":\n",
        "  main()\n"
      ],
      "metadata": {
        "colab": {
          "base_uri": "https://localhost:8080/"
        },
        "id": "L_5fKr6f4u4v",
        "outputId": "2fe21558-c5a7-4685-9e83-75107ab83f91"
      },
      "execution_count": null,
      "outputs": [
        {
          "output_type": "stream",
          "name": "stdout",
          "text": [
            "Sudoku puzzle solved successfully:\n",
            "[5, 3, 4, 6, 7, 8, 9, 1, 2]\n",
            "[6, 7, 2, 1, 9, 5, 3, 4, 8]\n",
            "[1, 9, 8, 3, 4, 2, 5, 6, 7]\n",
            "[8, 5, 9, 7, 6, 1, 4, 2, 3]\n",
            "[4, 2, 6, 8, 5, 3, 7, 9, 1]\n",
            "[7, 1, 3, 9, 2, 4, 8, 5, 6]\n",
            "[9, 6, 1, 5, 3, 7, 2, 8, 4]\n",
            "[2, 8, 7, 4, 1, 9, 6, 3, 5]\n",
            "[3, 4, 5, 2, 8, 6, 1, 7, 9]\n"
          ]
        }
      ]
    },
    {
      "cell_type": "code",
      "source": [],
      "metadata": {
        "id": "rZiUKrxO2Edi"
      },
      "execution_count": null,
      "outputs": []
    }
  ]
}