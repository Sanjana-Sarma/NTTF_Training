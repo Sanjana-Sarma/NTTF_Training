{
  "nbformat": 4,
  "nbformat_minor": 0,
  "metadata": {
    "colab": {
      "provenance": [],
      "gpuType": "T4",
      "authorship_tag": "ABX9TyMdA+sGK1TygIzL3pI9Rx6p",
      "include_colab_link": true
    },
    "kernelspec": {
      "name": "python3",
      "display_name": "Python 3"
    },
    "language_info": {
      "name": "python"
    },
    "accelerator": "GPU"
  },
  "cells": [
    {
      "cell_type": "markdown",
      "metadata": {
        "id": "view-in-github",
        "colab_type": "text"
      },
      "source": [
        "<a href=\"https://colab.research.google.com/github/Sanjana-Sarma/NTTF_Training/blob/main/Exercise44_SpanObjects.ipynb\" target=\"_parent\"><img src=\"https://colab.research.google.com/assets/colab-badge.svg\" alt=\"Open In Colab\"/></a>"
      ]
    },
    {
      "cell_type": "code",
      "execution_count": 71,
      "metadata": {
        "id": "iBxAHD-BRdQ2"
      },
      "outputs": [],
      "source": [
        "import spacy"
      ]
    },
    {
      "cell_type": "code",
      "source": [
        "import spacy.cli\n",
        "spacy.cli.download(\"en_core_web_md\")"
      ],
      "metadata": {
        "colab": {
          "base_uri": "https://localhost:8080/"
        },
        "id": "aNoef_NPS5Bz",
        "outputId": "72eb2268-74ce-40e6-bfec-f785e4d1f21d"
      },
      "execution_count": 72,
      "outputs": [
        {
          "output_type": "stream",
          "name": "stdout",
          "text": [
            "\u001b[38;5;2m✔ Download and installation successful\u001b[0m\n",
            "You can now load the package via spacy.load('en_core_web_md')\n"
          ]
        }
      ]
    },
    {
      "cell_type": "code",
      "source": [
        "nlp=spacy.load(\"en_core_web_md\")"
      ],
      "metadata": {
        "id": "hNeGS_yxSXvb"
      },
      "execution_count": 73,
      "outputs": []
    },
    {
      "cell_type": "code",
      "source": [
        "sentence_1 = \"I want to fly from Chennai to Mumbai and rest there.\"\n",
        "sentence_2 = \"I will not be there if you are there!\"\n",
        "sentence_3 = \"The sweet red fox jumps over the sharp brown fence everyday.\"\n"
      ],
      "metadata": {
        "id": "kYJS5t6tTFuW"
      },
      "execution_count": 74,
      "outputs": []
    },
    {
      "cell_type": "code",
      "source": [
        "doc=nlp(sentence_1)\n",
        "doc.text"
      ],
      "metadata": {
        "colab": {
          "base_uri": "https://localhost:8080/",
          "height": 35
        },
        "id": "bEZWruAqUOMJ",
        "outputId": "b7476ca6-cae6-423c-cfd4-5b53459eed9b"
      },
      "execution_count": 75,
      "outputs": [
        {
          "output_type": "execute_result",
          "data": {
            "text/plain": [
              "'I want to fly from Chennai to Mumbai and rest there.'"
            ],
            "application/vnd.google.colaboratory.intrinsic+json": {
              "type": "string"
            }
          },
          "metadata": {},
          "execution_count": 75
        }
      ]
    },
    {
      "cell_type": "code",
      "source": [
        "header = [\"Token\", \"Lemma\", \"POS\", \"Tag\", \"POS Explanation\", \"Tag Explanation\"]\n",
        "print(\" | \".join(f\"{field:<25}\" for field in header))\n",
        "print(\"=\" * 160)\n",
        "for token in doc:\n",
        "    fields = [token.text, token.lemma_, token.pos_, token.tag_, spacy.explain(token.pos_), spacy.explain(token.tag_)]\n",
        "    print(\" | \".join(f\"{field:<25}\" for field in fields))"
      ],
      "metadata": {
        "colab": {
          "base_uri": "https://localhost:8080/"
        },
        "id": "WX2OjVz3UmqD",
        "outputId": "a9c861c3-6206-43d2-8519-127cf5f2f170"
      },
      "execution_count": 37,
      "outputs": [
        {
          "output_type": "stream",
          "name": "stdout",
          "text": [
            "Token                     | Lemma                     | POS                       | Tag                       | POS Explanation           | Tag Explanation          \n",
            "================================================================================================================================================================\n",
            "I                         | I                         | PRON                      | PRP                       | pronoun                   | pronoun, personal        \n",
            "want                      | want                      | VERB                      | VBP                       | verb                      | verb, non-3rd person singular present\n",
            "to                        | to                        | PART                      | TO                        | particle                  | infinitival \"to\"         \n",
            "fly                       | fly                       | VERB                      | VB                        | verb                      | verb, base form          \n",
            "from                      | from                      | ADP                       | IN                        | adposition                | conjunction, subordinating or preposition\n",
            "Chennai                   | Chennai                   | PROPN                     | NNP                       | proper noun               | noun, proper singular    \n",
            "to                        | to                        | ADP                       | IN                        | adposition                | conjunction, subordinating or preposition\n",
            "Mumbai                    | Mumbai                    | PROPN                     | NNP                       | proper noun               | noun, proper singular    \n",
            "and                       | and                       | CCONJ                     | CC                        | coordinating conjunction  | conjunction, coordinating\n",
            "rest                      | rest                      | VERB                      | VB                        | verb                      | verb, base form          \n",
            "there                     | there                     | ADV                       | RB                        | adverb                    | adverb                   \n",
            ".                         | .                         | PUNCT                     | .                         | punctuation               | punctuation mark, sentence closer\n"
          ]
        }
      ]
    },
    {
      "cell_type": "code",
      "source": [
        "doc[1:5]"
      ],
      "metadata": {
        "colab": {
          "base_uri": "https://localhost:8080/"
        },
        "id": "dJKgq8KoU16a",
        "outputId": "2d19627b-c966-45ef-8eff-f8b5c398af5f"
      },
      "execution_count": null,
      "outputs": [
        {
          "output_type": "execute_result",
          "data": {
            "text/plain": [
              "want to fly from"
            ]
          },
          "metadata": {},
          "execution_count": 7
        }
      ]
    },
    {
      "cell_type": "code",
      "source": [
        "doc.char_span(4,15)"
      ],
      "metadata": {
        "id": "7OAltDtzVRVn"
      },
      "execution_count": null,
      "outputs": []
    },
    {
      "cell_type": "code",
      "source": [
        "span_1 = doc[1:8]\n",
        "span_1"
      ],
      "metadata": {
        "colab": {
          "base_uri": "https://localhost:8080/"
        },
        "id": "VLiB1wDnVh5B",
        "outputId": "19cf318e-2627-4c23-cf18-0f9551cc52d7"
      },
      "execution_count": 42,
      "outputs": [
        {
          "output_type": "execute_result",
          "data": {
            "text/plain": [
              "want to fly from Chennai to Mumbai"
            ]
          },
          "metadata": {},
          "execution_count": 42
        }
      ]
    },
    {
      "cell_type": "code",
      "source": [
        "for token in span_1:\n",
        "  print(\"Word in span selected from sentence: \", token)"
      ],
      "metadata": {
        "colab": {
          "base_uri": "https://localhost:8080/"
        },
        "id": "XQs_lbxGaHST",
        "outputId": "e0e3eb39-cd4e-490e-94dd-1ad380b63093"
      },
      "execution_count": 43,
      "outputs": [
        {
          "output_type": "stream",
          "name": "stdout",
          "text": [
            "Word in span selected from sentence:  want\n",
            "Word in span selected from sentence:  to\n",
            "Word in span selected from sentence:  fly\n",
            "Word in span selected from sentence:  from\n",
            "Word in span selected from sentence:  Chennai\n",
            "Word in span selected from sentence:  to\n",
            "Word in span selected from sentence:  Mumbai\n"
          ]
        }
      ]
    },
    {
      "cell_type": "code",
      "source": [
        "sub_span_1 = span_1[0:4]\n",
        "print(\"Sub span sentence extracted from span: \", sub_span_1, \"\\nLength of sub-span: \", len(sub_span_1))\n",
        "print(\"Length of span of given sentence: \", len(span_1))"
      ],
      "metadata": {
        "colab": {
          "base_uri": "https://localhost:8080/"
        },
        "id": "vJXpUykuaOfS",
        "outputId": "7ff71298-dc2e-40eb-98c3-2ea2ea254658"
      },
      "execution_count": 44,
      "outputs": [
        {
          "output_type": "stream",
          "name": "stdout",
          "text": [
            "Sub span sentence extracted from span:  want to fly from \n",
            "Length of sub-span:  4\n",
            "Length of span of given sentence:  7\n"
          ]
        }
      ]
    },
    {
      "cell_type": "code",
      "source": [
        "header = [\"Token\", \"Lemma\", \"POS\", \"Tag\", \"POS Explanation\", \"Tag Explanation\"]\n",
        "print(\" | \".join(f\"{field:<25}\" for field in header))\n",
        "print(\"=\" * 160)\n",
        "for token in span_1:\n",
        "    fields = [token.text, token.lemma_, token.pos_, token.tag_, spacy.explain(token.pos_), spacy.explain(token.tag_)]\n",
        "    print(\" | \".join(f\"{field:<25}\" for field in fields))"
      ],
      "metadata": {
        "colab": {
          "base_uri": "https://localhost:8080/"
        },
        "id": "B5l4EZi3aTN_",
        "outputId": "8e80ce54-f52f-4c12-a61a-6cca38c70529"
      },
      "execution_count": 45,
      "outputs": [
        {
          "output_type": "stream",
          "name": "stdout",
          "text": [
            "Token                     | Lemma                     | POS                       | Tag                       | POS Explanation           | Tag Explanation          \n",
            "================================================================================================================================================================\n",
            "want                      | want                      | VERB                      | VBP                       | verb                      | verb, non-3rd person singular present\n",
            "to                        | to                        | PART                      | TO                        | particle                  | infinitival \"to\"         \n",
            "fly                       | fly                       | VERB                      | VB                        | verb                      | verb, base form          \n",
            "from                      | from                      | ADP                       | IN                        | adposition                | conjunction, subordinating or preposition\n",
            "Chennai                   | Chennai                   | PROPN                     | NNP                       | proper noun               | noun, proper singular    \n",
            "to                        | to                        | ADP                       | IN                        | adposition                | conjunction, subordinating or preposition\n",
            "Mumbai                    | Mumbai                    | PROPN                     | NNP                       | proper noun               | noun, proper singular    \n"
          ]
        }
      ]
    },
    {
      "cell_type": "code",
      "source": [
        "span_1.sent"
      ],
      "metadata": {
        "colab": {
          "base_uri": "https://localhost:8080/"
        },
        "id": "uKJZxu0FW6V3",
        "outputId": "cdf16874-6482-4c75-d73a-3b429d8bafe9"
      },
      "execution_count": 46,
      "outputs": [
        {
          "output_type": "execute_result",
          "data": {
            "text/plain": [
              "I want to fly from Chennai to Mumbai and rest there."
            ]
          },
          "metadata": {},
          "execution_count": 46
        }
      ]
    },
    {
      "cell_type": "code",
      "source": [
        "span_1.start"
      ],
      "metadata": {
        "colab": {
          "base_uri": "https://localhost:8080/"
        },
        "id": "o8BA666tXD73",
        "outputId": "b4936726-2f96-42f7-f4d1-a630e7a6ffca"
      },
      "execution_count": 47,
      "outputs": [
        {
          "output_type": "execute_result",
          "data": {
            "text/plain": [
              "1"
            ]
          },
          "metadata": {},
          "execution_count": 47
        }
      ]
    },
    {
      "cell_type": "code",
      "source": [
        "span_1.end"
      ],
      "metadata": {
        "colab": {
          "base_uri": "https://localhost:8080/"
        },
        "id": "tFgQhT6dXGmj",
        "outputId": "4b465d00-8a7a-4e57-a7d8-c53b2b6a00ec"
      },
      "execution_count": 48,
      "outputs": [
        {
          "output_type": "execute_result",
          "data": {
            "text/plain": [
              "8"
            ]
          },
          "metadata": {},
          "execution_count": 48
        }
      ]
    },
    {
      "cell_type": "code",
      "source": [
        "span_1.start_char"
      ],
      "metadata": {
        "colab": {
          "base_uri": "https://localhost:8080/"
        },
        "id": "zReeJ3wFXJYC",
        "outputId": "611c0762-1c60-40bd-b981-a5b1edbaa3d1"
      },
      "execution_count": 49,
      "outputs": [
        {
          "output_type": "execute_result",
          "data": {
            "text/plain": [
              "2"
            ]
          },
          "metadata": {},
          "execution_count": 49
        }
      ]
    },
    {
      "cell_type": "code",
      "source": [
        "span_1.end_char"
      ],
      "metadata": {
        "colab": {
          "base_uri": "https://localhost:8080/"
        },
        "id": "5iU2nIANXOTN",
        "outputId": "581e9278-17b2-4949-f78e-d95241555dad"
      },
      "execution_count": 50,
      "outputs": [
        {
          "output_type": "execute_result",
          "data": {
            "text/plain": [
              "36"
            ]
          },
          "metadata": {},
          "execution_count": 50
        }
      ]
    },
    {
      "cell_type": "code",
      "source": [
        "type(span_1)"
      ],
      "metadata": {
        "colab": {
          "base_uri": "https://localhost:8080/"
        },
        "id": "mmd0tqfqXSZx",
        "outputId": "267d4699-e53d-4d8d-f378-e0a89f018fd1"
      },
      "execution_count": 51,
      "outputs": [
        {
          "output_type": "execute_result",
          "data": {
            "text/plain": [
              "spacy.tokens.span.Span"
            ]
          },
          "metadata": {},
          "execution_count": 51
        }
      ]
    },
    {
      "cell_type": "code",
      "source": [
        "small_doc=span_1.as_doc()"
      ],
      "metadata": {
        "id": "ZSmc4nK8Xw9f"
      },
      "execution_count": 52,
      "outputs": []
    },
    {
      "cell_type": "code",
      "source": [
        "type(small_doc)"
      ],
      "metadata": {
        "colab": {
          "base_uri": "https://localhost:8080/"
        },
        "id": "HTmG30tDXtM8",
        "outputId": "bc05fa89-9424-4f6a-fd7f-f0a0465ba464"
      },
      "execution_count": 53,
      "outputs": [
        {
          "output_type": "execute_result",
          "data": {
            "text/plain": [
              "spacy.tokens.doc.Doc"
            ]
          },
          "metadata": {},
          "execution_count": 53
        }
      ]
    },
    {
      "cell_type": "code",
      "source": [
        "doc=nlp(sentence_2)\n",
        "doc"
      ],
      "metadata": {
        "colab": {
          "base_uri": "https://localhost:8080/"
        },
        "id": "9SjDlxtFX0xa",
        "outputId": "4828ad2a-16b4-4790-d16f-e29d37fadad4"
      },
      "execution_count": 54,
      "outputs": [
        {
          "output_type": "execute_result",
          "data": {
            "text/plain": [
              "I will not be there if you are there!"
            ]
          },
          "metadata": {},
          "execution_count": 54
        }
      ]
    },
    {
      "cell_type": "code",
      "source": [
        "header = [\"Token\", \"Lemma\", \"POS\", \"Tag\", \"POS Explanation\", \"Tag Explanation\"]\n",
        "print(\" | \".join(f\"{field:<25}\" for field in header))\n",
        "print(\"=\" * 160)\n",
        "for token in doc:\n",
        "    fields = [token.text, token.lemma_, token.pos_, token.tag_, spacy.explain(token.pos_), spacy.explain(token.tag_)]\n",
        "    print(\" | \".join(f\"{field:<25}\" for field in fields))"
      ],
      "metadata": {
        "colab": {
          "base_uri": "https://localhost:8080/"
        },
        "id": "mtKj_r-2awEv",
        "outputId": "94520074-3399-43ef-fd4b-cc33353e9056"
      },
      "execution_count": 55,
      "outputs": [
        {
          "output_type": "stream",
          "name": "stdout",
          "text": [
            "Token                     | Lemma                     | POS                       | Tag                       | POS Explanation           | Tag Explanation          \n",
            "================================================================================================================================================================\n",
            "I                         | I                         | PRON                      | PRP                       | pronoun                   | pronoun, personal        \n",
            "will                      | will                      | AUX                       | MD                        | auxiliary                 | verb, modal auxiliary    \n",
            "not                       | not                       | PART                      | RB                        | particle                  | adverb                   \n",
            "be                        | be                        | AUX                       | VB                        | auxiliary                 | verb, base form          \n",
            "there                     | there                     | ADV                       | RB                        | adverb                    | adverb                   \n",
            "if                        | if                        | SCONJ                     | IN                        | subordinating conjunction | conjunction, subordinating or preposition\n",
            "you                       | you                       | PRON                      | PRP                       | pronoun                   | pronoun, personal        \n",
            "are                       | be                        | AUX                       | VBP                       | auxiliary                 | verb, non-3rd person singular present\n",
            "there                     | there                     | ADV                       | RB                        | adverb                    | adverb                   \n",
            "!                         | !                         | PUNCT                     | .                         | punctuation               | punctuation mark, sentence closer\n"
          ]
        }
      ]
    },
    {
      "cell_type": "code",
      "source": [
        "span_1 = doc[0:6]\n",
        "span_1"
      ],
      "metadata": {
        "colab": {
          "base_uri": "https://localhost:8080/"
        },
        "id": "aQjqozS-a1jV",
        "outputId": "1e712672-404d-41e0-a76e-dc0ac5a6b358"
      },
      "execution_count": 56,
      "outputs": [
        {
          "output_type": "execute_result",
          "data": {
            "text/plain": [
              "I will not be there if"
            ]
          },
          "metadata": {},
          "execution_count": 56
        }
      ]
    },
    {
      "cell_type": "code",
      "source": [
        "for token in span_1:\n",
        "  print(\"Word in span selected from sentence: \", token)"
      ],
      "metadata": {
        "colab": {
          "base_uri": "https://localhost:8080/"
        },
        "id": "iQnlxWCDa9Ja",
        "outputId": "077019fe-f170-42bd-d9f0-820f5e78c86f"
      },
      "execution_count": 57,
      "outputs": [
        {
          "output_type": "stream",
          "name": "stdout",
          "text": [
            "Word in span selected from sentence:  I\n",
            "Word in span selected from sentence:  will\n",
            "Word in span selected from sentence:  not\n",
            "Word in span selected from sentence:  be\n",
            "Word in span selected from sentence:  there\n",
            "Word in span selected from sentence:  if\n"
          ]
        }
      ]
    },
    {
      "cell_type": "code",
      "source": [
        "sub_span_1 = span_1[0:3]\n",
        "print(\"Sub span sentence extracted from span: \", sub_span_1, \"\\nLength of sub-span: \", len(sub_span_1))\n",
        "print(\"Length of span of given sentence: \", len(span_1))"
      ],
      "metadata": {
        "colab": {
          "base_uri": "https://localhost:8080/"
        },
        "id": "AxraTiDDbBuY",
        "outputId": "14e53249-13f8-4b15-e666-fcd6500900a0"
      },
      "execution_count": 58,
      "outputs": [
        {
          "output_type": "stream",
          "name": "stdout",
          "text": [
            "Sub span sentence extracted from span:  I will not \n",
            "Length of sub-span:  3\n",
            "Length of span of given sentence:  6\n"
          ]
        }
      ]
    },
    {
      "cell_type": "code",
      "source": [
        "header = [\"Token\", \"Lemma\", \"POS\", \"Tag\", \"POS Explanation\", \"Tag Explanation\"]\n",
        "print(\" | \".join(f\"{field:<25}\" for field in header))\n",
        "print(\"=\" * 160)\n",
        "for token in span_1:\n",
        "    fields = [token.text, token.lemma_, token.pos_, token.tag_, spacy.explain(token.pos_), spacy.explain(token.tag_)]\n",
        "    print(\" | \".join(f\"{field:<25}\" for field in fields))"
      ],
      "metadata": {
        "colab": {
          "base_uri": "https://localhost:8080/"
        },
        "id": "kVRjTcuNbB8P",
        "outputId": "7320eb6a-dd48-446e-b02d-e7f7b7603581"
      },
      "execution_count": 59,
      "outputs": [
        {
          "output_type": "stream",
          "name": "stdout",
          "text": [
            "Token                     | Lemma                     | POS                       | Tag                       | POS Explanation           | Tag Explanation          \n",
            "================================================================================================================================================================\n",
            "I                         | I                         | PRON                      | PRP                       | pronoun                   | pronoun, personal        \n",
            "will                      | will                      | AUX                       | MD                        | auxiliary                 | verb, modal auxiliary    \n",
            "not                       | not                       | PART                      | RB                        | particle                  | adverb                   \n",
            "be                        | be                        | AUX                       | VB                        | auxiliary                 | verb, base form          \n",
            "there                     | there                     | ADV                       | RB                        | adverb                    | adverb                   \n",
            "if                        | if                        | SCONJ                     | IN                        | subordinating conjunction | conjunction, subordinating or preposition\n"
          ]
        }
      ]
    },
    {
      "cell_type": "code",
      "source": [
        "print(span_1.sent)\n",
        "print(span_1.start)\n",
        "print(span_1.end)\n",
        "print(span_1.start_char)\n",
        "print(span_1.end_char)\n",
        "print(type(span_1))\n",
        "small_doc=span_1.as_doc()\n",
        "print(type(small_doc))"
      ],
      "metadata": {
        "colab": {
          "base_uri": "https://localhost:8080/"
        },
        "id": "3A4Nk-HMbL76",
        "outputId": "99b4f2a7-ebf0-435b-b2dd-5924a437a7f6"
      },
      "execution_count": 60,
      "outputs": [
        {
          "output_type": "stream",
          "name": "stdout",
          "text": [
            "I will not be there if you are there!\n",
            "0\n",
            "6\n",
            "0\n",
            "22\n",
            "<class 'spacy.tokens.span.Span'>\n",
            "<class 'spacy.tokens.doc.Doc'>\n"
          ]
        }
      ]
    },
    {
      "cell_type": "code",
      "source": [
        "doc=nlp(sentence_3)\n",
        "doc"
      ],
      "metadata": {
        "colab": {
          "base_uri": "https://localhost:8080/"
        },
        "id": "MB4A8JEjb0lA",
        "outputId": "0648f66d-9d3d-4fa8-e9e6-5e360fd2256c"
      },
      "execution_count": 61,
      "outputs": [
        {
          "output_type": "execute_result",
          "data": {
            "text/plain": [
              "The sweet red fox jumps over the sharp brown fence everyday."
            ]
          },
          "metadata": {},
          "execution_count": 61
        }
      ]
    },
    {
      "cell_type": "code",
      "source": [
        "header = [\"Token\", \"Lemma\", \"POS\", \"Tag\", \"POS Explanation\", \"Tag Explanation\"]\n",
        "print(\" | \".join(f\"{field:<25}\" for field in header))\n",
        "print(\"=\" * 160)\n",
        "for token in doc:\n",
        "    fields = [token.text, token.lemma_, token.pos_, token.tag_, spacy.explain(token.pos_), spacy.explain(token.tag_)]\n",
        "    print(\" | \".join(f\"{field:<25}\" for field in fields))"
      ],
      "metadata": {
        "colab": {
          "base_uri": "https://localhost:8080/"
        },
        "id": "_e1GiftRb5Na",
        "outputId": "cab7f5d9-9f2c-44b9-d1ea-4f3d9ccbb962"
      },
      "execution_count": 62,
      "outputs": [
        {
          "output_type": "stream",
          "name": "stdout",
          "text": [
            "Token                     | Lemma                     | POS                       | Tag                       | POS Explanation           | Tag Explanation          \n",
            "================================================================================================================================================================\n",
            "The                       | the                       | DET                       | DT                        | determiner                | determiner               \n",
            "sweet                     | sweet                     | ADJ                       | JJ                        | adjective                 | adjective (English), other noun-modifier (Chinese)\n",
            "red                       | red                       | ADJ                       | JJ                        | adjective                 | adjective (English), other noun-modifier (Chinese)\n",
            "fox                       | fox                       | NOUN                      | NN                        | noun                      | noun, singular or mass   \n",
            "jumps                     | jump                      | VERB                      | VBZ                       | verb                      | verb, 3rd person singular present\n",
            "over                      | over                      | ADP                       | IN                        | adposition                | conjunction, subordinating or preposition\n",
            "the                       | the                       | DET                       | DT                        | determiner                | determiner               \n",
            "sharp                     | sharp                     | ADJ                       | JJ                        | adjective                 | adjective (English), other noun-modifier (Chinese)\n",
            "brown                     | brown                     | ADJ                       | JJ                        | adjective                 | adjective (English), other noun-modifier (Chinese)\n",
            "fence                     | fence                     | NOUN                      | NN                        | noun                      | noun, singular or mass   \n",
            "everyday                  | everyday                  | NOUN                      | NN                        | noun                      | noun, singular or mass   \n",
            ".                         | .                         | PUNCT                     | .                         | punctuation               | punctuation mark, sentence closer\n"
          ]
        }
      ]
    },
    {
      "cell_type": "code",
      "source": [
        "span_1 = doc[2:9]\n",
        "span_1"
      ],
      "metadata": {
        "colab": {
          "base_uri": "https://localhost:8080/"
        },
        "id": "rADKAsqBb-Xx",
        "outputId": "848de999-90e5-4b03-bdd2-a744b9ad26a1"
      },
      "execution_count": 64,
      "outputs": [
        {
          "output_type": "execute_result",
          "data": {
            "text/plain": [
              "red fox jumps over the sharp brown"
            ]
          },
          "metadata": {},
          "execution_count": 64
        }
      ]
    },
    {
      "cell_type": "code",
      "source": [
        "for token in span_1:\n",
        "  print(\"Word in span selected from sentence: \", token)"
      ],
      "metadata": {
        "colab": {
          "base_uri": "https://localhost:8080/"
        },
        "id": "3rqumRM3cIAB",
        "outputId": "b81170f9-e1ab-4f81-c2d8-42c78203087e"
      },
      "execution_count": 65,
      "outputs": [
        {
          "output_type": "stream",
          "name": "stdout",
          "text": [
            "Word in span selected from sentence:  red\n",
            "Word in span selected from sentence:  fox\n",
            "Word in span selected from sentence:  jumps\n",
            "Word in span selected from sentence:  over\n",
            "Word in span selected from sentence:  the\n",
            "Word in span selected from sentence:  sharp\n",
            "Word in span selected from sentence:  brown\n"
          ]
        }
      ]
    },
    {
      "cell_type": "code",
      "source": [
        "sub_span_1 = span_1[0:4]\n",
        "print(\"Sub span sentence extracted from span: \", sub_span_1, \"\\nLength of sub-span: \", len(sub_span_1))\n",
        "print(\"Length of span of given sentence: \", len(span_1))"
      ],
      "metadata": {
        "colab": {
          "base_uri": "https://localhost:8080/"
        },
        "id": "sck23Dk2cNXN",
        "outputId": "007762f6-d938-4206-a482-63515a8eff2e"
      },
      "execution_count": 68,
      "outputs": [
        {
          "output_type": "stream",
          "name": "stdout",
          "text": [
            "Sub span sentence extracted from span:  red fox jumps over \n",
            "Length of sub-span:  4\n",
            "Length of span of given sentence:  7\n"
          ]
        }
      ]
    },
    {
      "cell_type": "code",
      "source": [
        "header = [\"Token\", \"Lemma\", \"POS\", \"Tag\", \"POS Explanation\", \"Tag Explanation\"]\n",
        "print(\" | \".join(f\"{field:<25}\" for field in header))\n",
        "print(\"=\" * 160)\n",
        "for token in span_1:\n",
        "    fields = [token.text, token.lemma_, token.pos_, token.tag_, spacy.explain(token.pos_), spacy.explain(token.tag_)]\n",
        "    print(\" | \".join(f\"{field:<25}\" for field in fields))"
      ],
      "metadata": {
        "colab": {
          "base_uri": "https://localhost:8080/"
        },
        "id": "manfMuNLcRoe",
        "outputId": "383e3185-863c-483f-e353-2d27179de95e"
      },
      "execution_count": 69,
      "outputs": [
        {
          "output_type": "stream",
          "name": "stdout",
          "text": [
            "Token                     | Lemma                     | POS                       | Tag                       | POS Explanation           | Tag Explanation          \n",
            "================================================================================================================================================================\n",
            "red                       | red                       | ADJ                       | JJ                        | adjective                 | adjective (English), other noun-modifier (Chinese)\n",
            "fox                       | fox                       | NOUN                      | NN                        | noun                      | noun, singular or mass   \n",
            "jumps                     | jump                      | VERB                      | VBZ                       | verb                      | verb, 3rd person singular present\n",
            "over                      | over                      | ADP                       | IN                        | adposition                | conjunction, subordinating or preposition\n",
            "the                       | the                       | DET                       | DT                        | determiner                | determiner               \n",
            "sharp                     | sharp                     | ADJ                       | JJ                        | adjective                 | adjective (English), other noun-modifier (Chinese)\n",
            "brown                     | brown                     | ADJ                       | JJ                        | adjective                 | adjective (English), other noun-modifier (Chinese)\n"
          ]
        }
      ]
    },
    {
      "cell_type": "code",
      "source": [
        "print(span_1.sent)\n",
        "print(span_1.start)\n",
        "print(span_1.end)\n",
        "print(span_1.start_char)\n",
        "print(span_1.end_char)\n",
        "print(type(span_1))\n",
        "small_doc=span_1.as_doc()\n",
        "print(type(small_doc))"
      ],
      "metadata": {
        "colab": {
          "base_uri": "https://localhost:8080/"
        },
        "id": "YGcb-YVYcWvu",
        "outputId": "4e6fcf0b-6c23-4baa-97b8-2de4645ade21"
      },
      "execution_count": 70,
      "outputs": [
        {
          "output_type": "stream",
          "name": "stdout",
          "text": [
            "The sweet red fox jumps over the sharp brown fence everyday.\n",
            "2\n",
            "9\n",
            "10\n",
            "44\n",
            "<class 'spacy.tokens.span.Span'>\n",
            "<class 'spacy.tokens.doc.Doc'>\n"
          ]
        }
      ]
    }
  ]
}