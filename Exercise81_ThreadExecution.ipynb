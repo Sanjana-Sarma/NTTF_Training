{
  "nbformat": 4,
  "nbformat_minor": 0,
  "metadata": {
    "colab": {
      "provenance": [],
      "authorship_tag": "ABX9TyM+bBj1hHCyz3DH/t4ywzOg",
      "include_colab_link": true
    },
    "kernelspec": {
      "name": "python3",
      "display_name": "Python 3"
    },
    "language_info": {
      "name": "python"
    }
  },
  "cells": [
    {
      "cell_type": "markdown",
      "metadata": {
        "id": "view-in-github",
        "colab_type": "text"
      },
      "source": [
        "<a href=\"https://colab.research.google.com/github/Sanjana-Sarma/NTTF_Training/blob/main/Exercise81_ThreadExecution.ipynb\" target=\"_parent\"><img src=\"https://colab.research.google.com/assets/colab-badge.svg\" alt=\"Open In Colab\"/></a>"
      ]
    },
    {
      "cell_type": "code",
      "execution_count": 1,
      "metadata": {
        "id": "GyGyaS3j95-o"
      },
      "outputs": [],
      "source": [
        "import threading\n",
        "import time\n",
        "output_lock=threading.Lock()"
      ]
    },
    {
      "cell_type": "code",
      "source": [
        "def thread_function(thread_id):\n",
        "  with output_lock:\n",
        "    print(f\"\\nThread {thread_id} is starting...\")\n",
        "  for j in range(3):\n",
        "    with output_lock:\n",
        "      print(f\"Work part {j} is being done....\")\n",
        "      time.sleep(2)\n",
        "  with output_lock:\n",
        "    print(f\"\\nThread {thread_id} is done.\")"
      ],
      "metadata": {
        "id": "lxRUj4-b-Xoz"
      },
      "execution_count": 2,
      "outputs": []
    },
    {
      "cell_type": "code",
      "source": [
        "# Create and start multiple threads\n",
        "num_threads = 2\n",
        "threads = []\n",
        "\n",
        "for i in range(num_threads):\n",
        "    thread = threading.Thread(target=thread_function, args=(i,))\n",
        "    threads.append(thread)\n",
        "    thread.start()\n",
        "\n",
        "# Wait for all threads to finish\n",
        "for thread in threads:\n",
        "    thread.join()\n",
        "\n",
        "print(\"\\nAll threads have finished.\")"
      ],
      "metadata": {
        "colab": {
          "base_uri": "https://localhost:8080/"
        },
        "id": "jvIE4GnI-rnB",
        "outputId": "2205203d-cc11-4d84-8f8d-8c748d26d3f0"
      },
      "execution_count": 3,
      "outputs": [
        {
          "output_type": "stream",
          "name": "stdout",
          "text": [
            "\n",
            "Thread 0 is starting...\n",
            "\n",
            "Thread 1 is starting...\n",
            "Work part 0 is being done....\n",
            "Work part 1 is being done....\n",
            "Work part 0 is being done....\n",
            "Work part 1 is being done....\n",
            "Work part 2 is being done....\n",
            "\n",
            "Thread 0 is done.\n",
            "Work part 2 is being done....\n",
            "\n",
            "Thread 1 is done.\n",
            "\n",
            "All threads have finished.\n"
          ]
        }
      ]
    }
  ]
}