{
  "nbformat": 4,
  "nbformat_minor": 0,
  "metadata": {
    "colab": {
      "provenance": [],
      "authorship_tag": "ABX9TyN9A+qOfr8xjVzDNhvhipDV",
      "include_colab_link": true
    },
    "kernelspec": {
      "name": "python3",
      "display_name": "Python 3"
    },
    "language_info": {
      "name": "python"
    }
  },
  "cells": [
    {
      "cell_type": "markdown",
      "metadata": {
        "id": "view-in-github",
        "colab_type": "text"
      },
      "source": [
        "<a href=\"https://colab.research.google.com/github/Sanjana-Sarma/NTTF_Training/blob/main/Exercise78_Threading%26Queueing.ipynb\" target=\"_parent\"><img src=\"https://colab.research.google.com/assets/colab-badge.svg\" alt=\"Open In Colab\"/></a>"
      ]
    },
    {
      "cell_type": "code",
      "execution_count": 6,
      "metadata": {
        "id": "SN6z0A_zdrDV"
      },
      "outputs": [],
      "source": [
        "import threading\n",
        "import queue"
      ]
    },
    {
      "cell_type": "code",
      "source": [
        "shared_queue=queue.Queue()"
      ],
      "metadata": {
        "id": "abPEBp7leKSP"
      },
      "execution_count": 7,
      "outputs": []
    },
    {
      "cell_type": "code",
      "source": [
        "def producer():\n",
        "    for i in range(10):\n",
        "        shared_queue.put(i)\n",
        "        print(f\"Thread-1: Produced {i}\")"
      ],
      "metadata": {
        "id": "SYU3DZFJeelP"
      },
      "execution_count": 8,
      "outputs": []
    },
    {
      "cell_type": "code",
      "source": [
        "def consumer():\n",
        "    while True:\n",
        "        item = shared_queue.get()\n",
        "        if item is None:\n",
        "            break\n",
        "        print(f\"Thread-2: Consumed {item}\")"
      ],
      "metadata": {
        "id": "R7huy0eOeibV"
      },
      "execution_count": 9,
      "outputs": []
    },
    {
      "cell_type": "code",
      "source": [
        "# Create producer and consumer threads\n",
        "producer_thread = threading.Thread(target=producer)\n",
        "consumer_thread = threading.Thread(target=consumer)\n",
        "\n",
        "producer_thread.start()\n",
        "consumer_thread.start()\n",
        "\n",
        "producer_thread.join()\n",
        "shared_queue.put(None)  # Signal the consumer to exit\n",
        "consumer_thread.join()\n",
        "print(\"Both threads have finished\")"
      ],
      "metadata": {
        "colab": {
          "base_uri": "https://localhost:8080/"
        },
        "id": "SjNvgW8zeoEc",
        "outputId": "2063f1a6-72d2-41d5-872c-7869d864f47b"
      },
      "execution_count": 10,
      "outputs": [
        {
          "output_type": "stream",
          "name": "stdout",
          "text": [
            "Thread-1: Produced 0\n",
            "Thread-1: Produced 1\n",
            "Thread-1: Produced 2\n",
            "Thread-1: Produced 3\n",
            "Thread-1: Produced 4\n",
            "Thread-1: Produced 5\n",
            "Thread-1: Produced 6\n",
            "Thread-1: Produced 7\n",
            "Thread-1: Produced 8\n",
            "Thread-1: Produced 9\n",
            "Thread-2: Consumed 0\n",
            "Thread-2: Consumed 1\n",
            "Thread-2: Consumed 2\n",
            "Thread-2: Consumed 3\n",
            "Thread-2: Consumed 4\n",
            "Thread-2: Consumed 5\n",
            "Thread-2: Consumed 6\n",
            "Thread-2: Consumed 7\n",
            "Thread-2: Consumed 8\n",
            "Thread-2: Consumed 9\n",
            "Both threads have finished\n"
          ]
        }
      ]
    }
  ]
}