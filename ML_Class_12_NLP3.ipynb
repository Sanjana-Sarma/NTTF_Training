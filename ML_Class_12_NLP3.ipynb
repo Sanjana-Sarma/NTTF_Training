{
  "nbformat": 4,
  "nbformat_minor": 0,
  "metadata": {
    "colab": {
      "provenance": [],
      "gpuType": "T4",
      "authorship_tag": "ABX9TyOGSy05XnwZwzPem5GBVWGB",
      "include_colab_link": true
    },
    "kernelspec": {
      "name": "python3",
      "display_name": "Python 3"
    },
    "language_info": {
      "name": "python"
    },
    "accelerator": "GPU"
  },
  "cells": [
    {
      "cell_type": "markdown",
      "metadata": {
        "id": "view-in-github",
        "colab_type": "text"
      },
      "source": [
        "<a href=\"https://colab.research.google.com/github/Sanjana-Sarma/NTTF_Training/blob/main/ML_Class_12_NLP3.ipynb\" target=\"_parent\"><img src=\"https://colab.research.google.com/assets/colab-badge.svg\" alt=\"Open In Colab\"/></a>"
      ]
    },
    {
      "cell_type": "code",
      "execution_count": null,
      "metadata": {
        "id": "y6pLwcUYISke"
      },
      "outputs": [],
      "source": [
        "pip install spacy"
      ]
    },
    {
      "cell_type": "code",
      "source": [
        "pip install en_core_web_sm"
      ],
      "metadata": {
        "id": "aVlzN1HgMJ4e"
      },
      "execution_count": null,
      "outputs": []
    },
    {
      "cell_type": "code",
      "source": [
        "!python -m spacy download en_core_web_lg"
      ],
      "metadata": {
        "id": "Cp3dKZMAMJ6q"
      },
      "execution_count": null,
      "outputs": []
    },
    {
      "cell_type": "code",
      "source": [
        "!python -m spacy download en_core_web_md"
      ],
      "metadata": {
        "id": "si61SI-6NxB2"
      },
      "execution_count": null,
      "outputs": []
    },
    {
      "cell_type": "code",
      "source": [
        "import en_core_web_md\n",
        "nlp=en_core_web_md.load()\n",
        "doc=nlp(\"I have a ginger cat.\")\n",
        "doc"
      ],
      "metadata": {
        "colab": {
          "base_uri": "https://localhost:8080/"
        },
        "id": "9a7Kk9HjOAGW",
        "outputId": "ea33e5a5-8a3e-4462-8afc-c1f3ce6ced8d"
      },
      "execution_count": 5,
      "outputs": [
        {
          "output_type": "execute_result",
          "data": {
            "text/plain": [
              "I have a ginger cat."
            ]
          },
          "metadata": {},
          "execution_count": 5
        }
      ]
    },
    {
      "cell_type": "code",
      "source": [
        "s1=\"I flew to Rome\"\n",
        "s2=\"I'm flying to Rome\"\n",
        "s3=\"I will fly to Rome\"\n",
        "\n",
        "doc1=nlp(s1)\n",
        "doc2=nlp(s2)\n",
        "doc3=nlp(s3)\n",
        "\n",
        "for doc in [doc1,doc2,doc3]:\n",
        "  print([(w.text, w.lemma_) for w in doc if w.tag_=='VBG' or w.tag_=='VB'])"
      ],
      "metadata": {
        "colab": {
          "base_uri": "https://localhost:8080/"
        },
        "id": "EiRx2J1KNxEF",
        "outputId": "a9f345fd-b72e-4053-f4b3-6cb7024d7b17"
      },
      "execution_count": 6,
      "outputs": [
        {
          "output_type": "stream",
          "name": "stdout",
          "text": [
            "[]\n",
            "[('flying', 'fly')]\n",
            "[('fly', 'fly')]\n"
          ]
        }
      ]
    },
    {
      "cell_type": "code",
      "source": [
        "doc=nlp(\"he earned $5.5 million in 2020 and paid %35 tax\")"
      ],
      "metadata": {
        "id": "D9CmARTtS9sf"
      },
      "execution_count": 7,
      "outputs": []
    },
    {
      "cell_type": "code",
      "source": [
        "import spacy\n",
        "for token in doc:\n",
        "  token.text, token.tag_, spacy.explain(token.tag_)"
      ],
      "metadata": {
        "id": "EaoOQmfYTcXK"
      },
      "execution_count": 9,
      "outputs": []
    },
    {
      "cell_type": "code",
      "source": [
        "s1=\"I forwarded you the email and you forwarded me the email.\""
      ],
      "metadata": {
        "id": "3XNqRNDjU2V9"
      },
      "execution_count": null,
      "outputs": []
    },
    {
      "cell_type": "code",
      "source": [
        "doc=nlp(\"blue flower\")\n",
        "for token in doc:\n",
        "  token.text, token.dep_"
      ],
      "metadata": {
        "id": "KD59PNA_V22D"
      },
      "execution_count": 11,
      "outputs": []
    },
    {
      "cell_type": "code",
      "source": [
        "s1=\"I have a ginger cat.\"\n",
        "doc=nlp(s1)\n",
        "for token in doc:\n",
        "  token.text, token.dep_, token.tag_, spacy.explain(token.tag_)"
      ],
      "metadata": {
        "id": "bs9Jg2EqXTSU"
      },
      "execution_count": 15,
      "outputs": []
    },
    {
      "cell_type": "code",
      "source": [
        "s1=\"I counted white sheep\"\n",
        "doc=nlp(s1)\n",
        "for token in doc:\n",
        "  token.text, token.pos_, token.dep_"
      ],
      "metadata": {
        "id": "jxNePLLNYPlZ"
      },
      "execution_count": 16,
      "outputs": []
    },
    {
      "cell_type": "code",
      "source": [
        "doc=nlp(\"We are trying to understand the difference\")\n",
        "for token in doc:\n",
        "  token.text, token.tag_, token.dep_, token.head"
      ],
      "metadata": {
        "id": "-LmpJl-da_Ql"
      },
      "execution_count": 17,
      "outputs": []
    },
    {
      "cell_type": "code",
      "source": [
        "doc=nlp(\"Queen Katherine, who was the mother of Mary Tudor, died at 1536\")\n",
        "for token in doc:\n",
        "  token.text, token.tag_, token.dep_, token.head"
      ],
      "metadata": {
        "id": "exGhWy_4cJLX"
      },
      "execution_count": 19,
      "outputs": []
    }
  ]
}