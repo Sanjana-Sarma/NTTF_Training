{
  "nbformat": 4,
  "nbformat_minor": 0,
  "metadata": {
    "colab": {
      "provenance": [],
      "authorship_tag": "ABX9TyNxK4j6CpM66L0B2HU0TP0f",
      "include_colab_link": true
    },
    "kernelspec": {
      "name": "python3",
      "display_name": "Python 3"
    },
    "language_info": {
      "name": "python"
    }
  },
  "cells": [
    {
      "cell_type": "markdown",
      "metadata": {
        "id": "view-in-github",
        "colab_type": "text"
      },
      "source": [
        "<a href=\"https://colab.research.google.com/github/Sanjana-Sarma/NTTF_Training/blob/main/Exercise68_ModelTuning.ipynb\" target=\"_parent\"><img src=\"https://colab.research.google.com/assets/colab-badge.svg\" alt=\"Open In Colab\"/></a>"
      ]
    },
    {
      "cell_type": "code",
      "execution_count": 88,
      "metadata": {
        "id": "zwKhTPORHAp4"
      },
      "outputs": [],
      "source": [
        "import numpy as np\n",
        "import pandas as pd\n",
        "from sklearn.datasets import load_diabetes\n",
        "from sklearn.model_selection import train_test_split\n",
        "from sklearn.linear_model import LinearRegression\n",
        "from sklearn.tree import DecisionTreeRegressor\n",
        "from sklearn.ensemble import RandomForestRegressor\n",
        "from sklearn.svm import SVR\n",
        "from sklearn.neighbors import KNeighborsRegressor\n",
        "from sklearn.neural_network import MLPRegressor\n",
        "from sklearn.gaussian_process import GaussianProcessRegressor\n",
        "from sklearn.gaussian_process.kernels import RBF\n",
        "import warnings"
      ]
    },
    {
      "cell_type": "code",
      "source": [
        "diabetes = load_diabetes()\n",
        "print(diabetes.feature_names)"
      ],
      "metadata": {
        "colab": {
          "base_uri": "https://localhost:8080/"
        },
        "id": "WVuaiRjxHHGw",
        "outputId": "c9bfad73-43dc-4cc5-dbb4-8c449ebfee13"
      },
      "execution_count": 89,
      "outputs": [
        {
          "output_type": "stream",
          "name": "stdout",
          "text": [
            "['age', 'sex', 'bmi', 'bp', 's1', 's2', 's3', 's4', 's5', 's6']\n"
          ]
        }
      ]
    },
    {
      "cell_type": "code",
      "source": [
        "X = diabetes.data\n",
        "y = diabetes.target"
      ],
      "metadata": {
        "colab": {
          "base_uri": "https://localhost:8080/"
        },
        "id": "MT-xDqBSLWuS",
        "outputId": "fdda0312-6913-4d44-8262-407c402bd9cb"
      },
      "execution_count": 90,
      "outputs": [
        {
          "output_type": "stream",
          "name": "stderr",
          "text": [
            "/usr/local/lib/python3.10/dist-packages/ipykernel/ipkernel.py:283: DeprecationWarning: `should_run_async` will not call `transform_cell` automatically in the future. Please pass the result to `transformed_cell` argument and any exception that happen during thetransform in `preprocessing_exc_tuple` in IPython 7.17 and above.\n",
            "  and should_run_async(code)\n"
          ]
        }
      ]
    },
    {
      "cell_type": "code",
      "source": [
        "algorithms = {\n",
        "    \"Linear Regression\": LinearRegression(),\n",
        "    \"Decision Tree\": DecisionTreeRegressor(random_state=42),\n",
        "    \"Random Forest\": RandomForestRegressor(random_state=42),\n",
        "    \"Support Vector Machine\": SVR(),\n",
        "    \"k-Nearest Neighbors\": KNeighborsRegressor(),\n",
        "    \"Neural Network\": MLPRegressor(alpha=1, max_iter=10000),\n",
        "    \"Gaussian Process Regression\": GaussianProcessRegressor(kernel=RBF(), random_state=42)\n",
        "}"
      ],
      "metadata": {
        "id": "-ZpQl-kLHawl"
      },
      "execution_count": 91,
      "outputs": []
    },
    {
      "cell_type": "code",
      "source": [
        "for i in [0.2,0.3,0.4,0.5]:\n",
        "  X_train, X_test, y_train, y_test = train_test_split(X, y, test_size=i, random_state=42)\n",
        "  print(f\"Test Sample Size = {i*100}%\\n\")\n",
        "  for model_name, model in algorithms.items():\n",
        "    model.fit(X_train, y_train)\n",
        "    score = model.score(X_test, y_test)\n",
        "    print(f\"{model_name}(Accuracy) = {score:.2f}\")\n",
        "  print(\"\\n\")\n",
        "print(\"The most suitable and stable model is using Neural Networks Regression. \")"
      ],
      "metadata": {
        "colab": {
          "base_uri": "https://localhost:8080/"
        },
        "id": "Rw47vOPMHzIs",
        "outputId": "5d9c5edc-0419-458d-a1ac-8c07ede4da4b"
      },
      "execution_count": 92,
      "outputs": [
        {
          "output_type": "stream",
          "name": "stdout",
          "text": [
            "Test Sample Size = 20.0%\n",
            "\n",
            "Linear Regression(Accuracy) = 0.45\n",
            "Decision Tree(Accuracy) = 0.06\n",
            "Random Forest(Accuracy) = 0.44\n",
            "Support Vector Machine(Accuracy) = 0.18\n",
            "k-Nearest Neighbors(Accuracy) = 0.43\n",
            "Neural Network(Accuracy) = 0.45\n",
            "Gaussian Process Regression(Accuracy) = -4.01\n",
            "\n",
            "\n",
            "Test Sample Size = 30.0%\n",
            "\n",
            "Linear Regression(Accuracy) = 0.48\n",
            "Decision Tree(Accuracy) = -0.06\n"
          ]
        },
        {
          "output_type": "stream",
          "name": "stderr",
          "text": [
            "/usr/local/lib/python3.10/dist-packages/sklearn/gaussian_process/kernels.py:420: ConvergenceWarning: The optimal value found for dimension 0 of parameter length_scale is close to the specified lower bound 1e-05. Decreasing the bound and calling fit again may find a better value.\n",
            "  warnings.warn(\n"
          ]
        },
        {
          "output_type": "stream",
          "name": "stdout",
          "text": [
            "Random Forest(Accuracy) = 0.47\n",
            "Support Vector Machine(Accuracy) = 0.16\n",
            "k-Nearest Neighbors(Accuracy) = 0.40\n",
            "Neural Network(Accuracy) = 0.48\n",
            "Gaussian Process Regression(Accuracy) = -4.06\n",
            "\n",
            "\n",
            "Test Sample Size = 40.0%\n",
            "\n",
            "Linear Regression(Accuracy) = 0.52\n",
            "Decision Tree(Accuracy) = -0.03\n"
          ]
        },
        {
          "output_type": "stream",
          "name": "stderr",
          "text": [
            "/usr/local/lib/python3.10/dist-packages/sklearn/gaussian_process/kernels.py:420: ConvergenceWarning: The optimal value found for dimension 0 of parameter length_scale is close to the specified lower bound 1e-05. Decreasing the bound and calling fit again may find a better value.\n",
            "  warnings.warn(\n"
          ]
        },
        {
          "output_type": "stream",
          "name": "stdout",
          "text": [
            "Random Forest(Accuracy) = 0.49\n",
            "Support Vector Machine(Accuracy) = 0.12\n",
            "k-Nearest Neighbors(Accuracy) = 0.38\n",
            "Neural Network(Accuracy) = 0.52\n",
            "Gaussian Process Regression(Accuracy) = -4.04\n",
            "\n",
            "\n",
            "Test Sample Size = 50.0%\n",
            "\n",
            "Linear Regression(Accuracy) = 0.48\n",
            "Decision Tree(Accuracy) = -0.06\n"
          ]
        },
        {
          "output_type": "stream",
          "name": "stderr",
          "text": [
            "/usr/local/lib/python3.10/dist-packages/sklearn/gaussian_process/kernels.py:420: ConvergenceWarning: The optimal value found for dimension 0 of parameter length_scale is close to the specified lower bound 1e-05. Decreasing the bound and calling fit again may find a better value.\n",
            "  warnings.warn(\n"
          ]
        },
        {
          "output_type": "stream",
          "name": "stdout",
          "text": [
            "Random Forest(Accuracy) = 0.41\n",
            "Support Vector Machine(Accuracy) = 0.11\n",
            "k-Nearest Neighbors(Accuracy) = 0.33\n",
            "Neural Network(Accuracy) = 0.49\n",
            "Gaussian Process Regression(Accuracy) = -4.06\n",
            "\n",
            "\n",
            "The most suitable and stable model is using Neural Networks Regression. \n"
          ]
        },
        {
          "output_type": "stream",
          "name": "stderr",
          "text": [
            "/usr/local/lib/python3.10/dist-packages/sklearn/gaussian_process/kernels.py:420: ConvergenceWarning: The optimal value found for dimension 0 of parameter length_scale is close to the specified lower bound 1e-05. Decreasing the bound and calling fit again may find a better value.\n",
            "  warnings.warn(\n"
          ]
        }
      ]
    }
  ]
}