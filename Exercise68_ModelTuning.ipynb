{
  "nbformat": 4,
  "nbformat_minor": 0,
  "metadata": {
    "colab": {
      "provenance": [],
      "authorship_tag": "ABX9TyO73Jp66SJjAaNEICgEsalz",
      "include_colab_link": true
    },
    "kernelspec": {
      "name": "python3",
      "display_name": "Python 3"
    },
    "language_info": {
      "name": "python"
    }
  },
  "cells": [
    {
      "cell_type": "markdown",
      "metadata": {
        "id": "view-in-github",
        "colab_type": "text"
      },
      "source": [
        "<a href=\"https://colab.research.google.com/github/Sanjana-Sarma/NTTF_Training/blob/main/Exercise68_ModelTuning.ipynb\" target=\"_parent\"><img src=\"https://colab.research.google.com/assets/colab-badge.svg\" alt=\"Open In Colab\"/></a>"
      ]
    },
    {
      "cell_type": "code",
      "execution_count": 30,
      "metadata": {
        "id": "zwKhTPORHAp4"
      },
      "outputs": [],
      "source": [
        "import numpy as np\n",
        "import pandas as pd\n",
        "from sklearn.datasets import load_diabetes\n",
        "from sklearn.model_selection import train_test_split\n",
        "from sklearn.linear_model import LinearRegression\n",
        "from sklearn.tree import DecisionTreeRegressor\n",
        "from sklearn.ensemble import RandomForestRegressor\n",
        "from sklearn.svm import SVR\n",
        "from sklearn.neighbors import KNeighborsRegressor\n",
        "from sklearn.neural_network import MLPRegressor\n",
        "from sklearn.gaussian_process import GaussianProcessRegressor\n",
        "from sklearn.gaussian_process.kernels import RBF"
      ]
    },
    {
      "cell_type": "code",
      "source": [
        "diabetes = load_diabetes()\n",
        "X = diabetes.data\n",
        "y = diabetes.target\n",
        "X_train, X_test, y_train, y_test = train_test_split(X, y, test_size=0.4, random_state=42)"
      ],
      "metadata": {
        "id": "WVuaiRjxHHGw"
      },
      "execution_count": 31,
      "outputs": []
    },
    {
      "cell_type": "code",
      "source": [
        "algorithms = {\n",
        "    \"Linear Regression\": LinearRegression(),\n",
        "    \"Decision Tree\": DecisionTreeRegressor(random_state=42),\n",
        "    \"Random Forest\": RandomForestRegressor(random_state=42),\n",
        "    \"Support Vector Machine(Linear Kernel)\": SVR(kernel='linear'),\n",
        "    \"Support Vector Machine(RBF Kernel)\": SVR(kernel='rbf'),\n",
        "    \"k-Nearest Neighbors\": KNeighborsRegressor(),\n",
        "    \"Neural Network\": MLPRegressor(alpha=1, max_iter=5000),\n",
        "    \"Gaussian Process Regression\": GaussianProcessRegressor(kernel=RBF(), random_state=42)\n",
        "}"
      ],
      "metadata": {
        "id": "-ZpQl-kLHawl"
      },
      "execution_count": 32,
      "outputs": []
    },
    {
      "cell_type": "code",
      "source": [
        "for model_name, model in algorithms.items():\n",
        "    model.fit(X_train, y_train)\n",
        "    score = model.score(X_test, y_test)\n",
        "    print(f\"{model_name}:    R-squared (Accuracy) = {score:.2f}\")"
      ],
      "metadata": {
        "colab": {
          "base_uri": "https://localhost:8080/"
        },
        "id": "Rw47vOPMHzIs",
        "outputId": "ce007b30-faab-4aa2-d71a-86971a2145df"
      },
      "execution_count": 33,
      "outputs": [
        {
          "output_type": "stream",
          "name": "stdout",
          "text": [
            "Linear Regression:    R-squared (Accuracy) = 0.52\n",
            "Decision Tree:    R-squared (Accuracy) = -0.03\n",
            "Random Forest:    R-squared (Accuracy) = 0.49\n",
            "Support Vector Machine(Linear Kernel):    R-squared (Accuracy) = -0.01\n",
            "Support Vector Machine(RBF Kernel):    R-squared (Accuracy) = 0.12\n",
            "k-Nearest Neighbors:    R-squared (Accuracy) = 0.38\n",
            "Neural Network:    R-squared (Accuracy) = 0.51\n",
            "Gaussian Process Regression:    R-squared (Accuracy) = -4.04\n"
          ]
        },
        {
          "output_type": "stream",
          "name": "stderr",
          "text": [
            "/usr/local/lib/python3.10/dist-packages/sklearn/gaussian_process/kernels.py:420: ConvergenceWarning: The optimal value found for dimension 0 of parameter length_scale is close to the specified lower bound 1e-05. Decreasing the bound and calling fit again may find a better value.\n",
            "  warnings.warn(\n"
          ]
        }
      ]
    }
  ]
}