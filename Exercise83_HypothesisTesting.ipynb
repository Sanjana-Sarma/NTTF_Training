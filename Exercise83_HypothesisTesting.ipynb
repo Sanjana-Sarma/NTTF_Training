{
  "nbformat": 4,
  "nbformat_minor": 0,
  "metadata": {
    "colab": {
      "provenance": [],
      "authorship_tag": "ABX9TyPlCmEnP5JLInxTQWcdovWo",
      "include_colab_link": true
    },
    "kernelspec": {
      "name": "python3",
      "display_name": "Python 3"
    },
    "language_info": {
      "name": "python"
    }
  },
  "cells": [
    {
      "cell_type": "markdown",
      "metadata": {
        "id": "view-in-github",
        "colab_type": "text"
      },
      "source": [
        "<a href=\"https://colab.research.google.com/github/Sanjana-Sarma/NTTF_Training/blob/main/Exercise83_HypothesisTesting.ipynb\" target=\"_parent\"><img src=\"https://colab.research.google.com/assets/colab-badge.svg\" alt=\"Open In Colab\"/></a>"
      ]
    },
    {
      "cell_type": "code",
      "execution_count": 1,
      "metadata": {
        "id": "lXEuE3zJCId0"
      },
      "outputs": [],
      "source": [
        "import scipy.stats as stats"
      ]
    },
    {
      "cell_type": "code",
      "source": [
        "# Constants\n",
        "n = 100  # Total number of customers surveyed\n",
        "p_initial = 0.40  # Initial satisfaction rate\n",
        "x = 30  # Number of satisfied customers observed"
      ],
      "metadata": {
        "id": "WfcWt3WWCNFl"
      },
      "execution_count": 2,
      "outputs": []
    },
    {
      "cell_type": "code",
      "source": [
        "# Calculate the expected number of satisfied customers under the null hypothesis\n",
        "expected_satisfied = n * p_initial"
      ],
      "metadata": {
        "id": "OIPpP63wCTpN"
      },
      "execution_count": 3,
      "outputs": []
    },
    {
      "cell_type": "code",
      "source": [
        "# Perform a one-sample z-test for proportions\n",
        "z_score = (x - expected_satisfied) / ((p_initial * (1 - p_initial) / n) ** 0.5)\n",
        "p_value = stats.norm.cdf(z_score)"
      ],
      "metadata": {
        "id": "dTdHSfJdCYeb"
      },
      "execution_count": 4,
      "outputs": []
    },
    {
      "cell_type": "code",
      "source": [
        "# Set the significance level\n",
        "alpha = 0.05\n",
        "\n",
        "# Determine if the null hypothesis should be rejected\n",
        "if p_value < alpha:\n",
        "    print(\"Reject the null hypothesis. There is enough evidence to suggest that the satisfaction rate has reduced.\")\n",
        "else:\n",
        "    print(\"Fail to reject the null hypothesis. There is not enough evidence to suggest a reduction in the satisfaction rate.\")"
      ],
      "metadata": {
        "colab": {
          "base_uri": "https://localhost:8080/"
        },
        "id": "aUV7OoPnCfGA",
        "outputId": "c6947bd5-c032-414b-8188-8331af93fe6f"
      },
      "execution_count": 5,
      "outputs": [
        {
          "output_type": "stream",
          "name": "stdout",
          "text": [
            "Reject the null hypothesis. There is enough evidence to suggest that the satisfaction rate has reduced.\n"
          ]
        }
      ]
    }
  ]
}