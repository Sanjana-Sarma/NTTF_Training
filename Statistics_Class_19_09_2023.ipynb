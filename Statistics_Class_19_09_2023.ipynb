{
  "nbformat": 4,
  "nbformat_minor": 0,
  "metadata": {
    "colab": {
      "provenance": [],
      "authorship_tag": "ABX9TyPT8uvsQhOOopDewJbjKcBp",
      "include_colab_link": true
    },
    "kernelspec": {
      "name": "python3",
      "display_name": "Python 3"
    },
    "language_info": {
      "name": "python"
    }
  },
  "cells": [
    {
      "cell_type": "markdown",
      "metadata": {
        "id": "view-in-github",
        "colab_type": "text"
      },
      "source": [
        "<a href=\"https://colab.research.google.com/github/Sanjana-Sarma/NTTF_Training/blob/main/Statistics_Class_19_09_2023.ipynb\" target=\"_parent\"><img src=\"https://colab.research.google.com/assets/colab-badge.svg\" alt=\"Open In Colab\"/></a>"
      ]
    },
    {
      "cell_type": "code",
      "execution_count": 1,
      "metadata": {
        "id": "CXEQMvyPhHGO",
        "colab": {
          "base_uri": "https://localhost:8080/"
        },
        "outputId": "9a1b5ddd-a96d-4b7a-d144-a3e1d43a8f2f"
      },
      "outputs": [
        {
          "output_type": "stream",
          "name": "stdout",
          "text": [
            "Reject the null hypothesis. Delivery time has increased significantly.\n"
          ]
        }
      ],
      "source": [
        "import scipy.stats as stats\n",
        "\n",
        "# Given data\n",
        "sample_mean = 48  # Sample mean\n",
        "population_mean = 45  # Population mean\n",
        "population_std = 5  # Population standard deviation\n",
        "sample_size = 40  # Sample size\n",
        "significance_level = 0.05  # 5% significance level\n",
        "\n",
        "# Calculate the z-test statistic\n",
        "z = (sample_mean - population_mean) / (population_std / (sample_size**0.5))\n",
        "\n",
        "# Calculate the critical value for a two-tailed test at the given significance level\n",
        "critical_value = stats.norm.ppf(1 - (significance_level / 2))\n",
        "\n",
        "# Compare the z-test statistic with the critical value\n",
        "if abs(z) > critical_value:\n",
        "    print(\"Reject the null hypothesis. Delivery time has increased significantly.\")\n",
        "else:\n",
        "    print(\"Fail to reject the null hypothesis. There is no significant increase in delivery time.\")\n"
      ]
    },
    {
      "cell_type": "code",
      "source": [
        "z"
      ],
      "metadata": {
        "colab": {
          "base_uri": "https://localhost:8080/"
        },
        "id": "xguQATnIpqCt",
        "outputId": "0e53701f-7d11-4917-8831-20345f756408"
      },
      "execution_count": 2,
      "outputs": [
        {
          "output_type": "execute_result",
          "data": {
            "text/plain": [
              "3.7947331922020555"
            ]
          },
          "metadata": {},
          "execution_count": 2
        }
      ]
    },
    {
      "cell_type": "code",
      "source": [
        "import scipy.stats as stats\n",
        "\n",
        "# Given data\n",
        "sample_mean = 48  # Sample mean\n",
        "population_mean = 45  # Population mean\n",
        "population_std = 5  # Population standard deviation\n",
        "sample_size = 40  # Sample size\n",
        "significance_level = 0.05  # 5% significance level\n",
        "\n",
        "# Calculate the z-test statistic\n",
        "z = (sample_mean - population_mean) / (population_std / (sample_size**0.5))\n",
        "\n",
        "# Calculate the critical value for a one-tailed test at the given significance level\n",
        "critical_value = stats.norm.ppf(1 - significance_level)\n",
        "\n",
        "# Compare the z-test statistic with the critical value\n",
        "if z > critical_value:\n",
        "    print(\"Reject the null hypothesis. Delivery time has increased greatly.\")\n",
        "else:\n",
        "    print(\"Fail to reject the null hypothesis. There is no significant increase in delivery time.\")\n"
      ],
      "metadata": {
        "colab": {
          "base_uri": "https://localhost:8080/"
        },
        "id": "VOz10DASqCue",
        "outputId": "6b666c33-a9d4-4c48-eb3d-73b34506a5e5"
      },
      "execution_count": 3,
      "outputs": [
        {
          "output_type": "stream",
          "name": "stdout",
          "text": [
            "Reject the null hypothesis. Delivery time has increased greatly.\n"
          ]
        }
      ]
    },
    {
      "cell_type": "code",
      "source": [
        "p_value=stats.norm.cdf(z)\n",
        "p_value > 0.05"
      ],
      "metadata": {
        "colab": {
          "base_uri": "https://localhost:8080/"
        },
        "id": "H5GLOU3BrAtG",
        "outputId": "8063d2cb-3c51-4850-910c-f259d020ee99"
      },
      "execution_count": 8,
      "outputs": [
        {
          "output_type": "execute_result",
          "data": {
            "text/plain": [
              "True"
            ]
          },
          "metadata": {},
          "execution_count": 8
        }
      ]
    },
    {
      "cell_type": "markdown",
      "source": [
        "Philips  production unit produces LED bulbs maufactures in two production in unit A and B, quality control says the quality of product of A is better than B. Quality depends on how long the bulb work, mean life of LED bulb at A  is 1001.3,  and B is 810.47 sample sizes, A = 40, B = 44, population variance A=48127, unit B=59173. conduct a test with  5% of significance level to varify the claim of quality control team is correct.\n"
      ],
      "metadata": {
        "id": "yiOtpqOGyDqx"
      }
    },
    {
      "cell_type": "code",
      "source": [
        "import scipy.stats as stats\n",
        "import math\n",
        "\n",
        "# Given data\n",
        "mean_A = 1001.3\n",
        "mean_B = 810.47\n",
        "sample_size_A = 40\n",
        "sample_size_B = 44\n",
        "variance_A = 48127\n",
        "variance_B = 59173\n",
        "alpha = 0.05\n",
        "\n",
        "# Calculate the test statistic\n",
        "standard_error = math.sqrt((variance_A / sample_size_A) + (variance_B / sample_size_B))\n",
        "test_statistic = (mean_A - mean_B) / standard_error\n",
        "\n",
        "# Calculate the p-value for the one-tailed upper-tailed test\n",
        "p_value = 1-stats.norm.cdf(test_statistic)\n",
        "# Make a decision based on the p-value and significance level\n",
        "if p_value < alpha:\n",
        "    print(\"Reject the null hypothesis. Quality of A is better than B.\")\n",
        "else:\n",
        "    print(\"Fail to reject the null hypothesis. Quality of A is not significantly better than B.\")\n",
        "print(\"P Value = \",p_value)"
      ],
      "metadata": {
        "colab": {
          "base_uri": "https://localhost:8080/"
        },
        "id": "iXtwkpXjzmq0",
        "outputId": "45786f39-2594-47b9-e3e2-3662c4f00136"
      },
      "execution_count": 19,
      "outputs": [
        {
          "output_type": "stream",
          "name": "stdout",
          "text": [
            "Reject the null hypothesis. Quality of A is better than B.\n",
            "P Value =  7.826687450285252e-05\n"
          ]
        }
      ]
    },
    {
      "cell_type": "code",
      "source": [
        "import scipy.stats as stats\n",
        "import math\n",
        "\n",
        "# Given data\n",
        "mean_A = 1001.3\n",
        "mean_B = 810.47\n",
        "sample_size_A = 40\n",
        "sample_size_B = 44\n",
        "variance_A = 48127\n",
        "variance_B = 59173\n",
        "alpha = 0.05\n",
        "\n",
        "# Calculate the test statistic\n",
        "standard_error = math.sqrt((variance_A / sample_size_A) + (variance_B / sample_size_B))\n",
        "test_statistic = (mean_A - mean_B) / standard_error\n",
        "\n",
        "# Find the critical value for an upper-tailed test\n",
        "critical_value = stats.norm.ppf(1 - alpha)\n",
        "\n",
        "# Make a decision\n",
        "if test_statistic > critical_value:\n",
        "    print(\"Reject the null hypothesis. Quality of A is better than B.\")\n",
        "else:\n",
        "    print(\"Fail to reject the null hypothesis. Quality of A is not significantly better than B.\")\n",
        "print(\"Z = \", test_statistic)"
      ],
      "metadata": {
        "colab": {
          "base_uri": "https://localhost:8080/"
        },
        "id": "tjz3DjqJ1H1R",
        "outputId": "b324d0bc-a61a-4b28-be63-f7c0535e22f0"
      },
      "execution_count": 17,
      "outputs": [
        {
          "output_type": "stream",
          "name": "stdout",
          "text": [
            "Reject the null hypothesis. Quality of A is better than B.\n",
            "Z =  3.780468142345511\n"
          ]
        }
      ]
    },
    {
      "cell_type": "markdown",
      "source": [
        "n=100,\n",
        "pbar=0.3\n",
        "p=0.4\n",
        "one sample , lower tailed proportion test"
      ],
      "metadata": {
        "id": "ASmiWzEI3umL"
      }
    },
    {
      "cell_type": "code",
      "source": [
        "import scipy.stats as stats\n",
        "import math\n",
        "\n",
        "# Given data\n",
        "n = 100\n",
        "p_bar = 0.30\n",
        "p = 0.40\n",
        "\n",
        "# Calculate the standard error\n",
        "standard_error = math.sqrt((p * (1 - p)) / n)\n",
        "\n",
        "# Calculate the test statistic\n",
        "z = (p_bar - p) / standard_error\n",
        "\n",
        "# Calculate the p-value for the one-tailed test\n",
        "p_value = stats.norm.cdf(z)\n",
        "\n",
        "# Set the significance level\n",
        "alpha = 0.05\n",
        "\n",
        "# Make a decision based on the p-value and significance level\n",
        "if p_value < alpha:\n",
        "    print(\"Reject the null hypothesis. The rate has gone down.\")\n",
        "else:\n",
        "    print(\"Fail to reject the null hypothesis. There is no sufficient evidence to conclude that the rate has gone down.\")\n",
        "print(\"Z = \", z)\n",
        "print(\"P value = \", p_value)"
      ],
      "metadata": {
        "colab": {
          "base_uri": "https://localhost:8080/"
        },
        "id": "mPoSk9i441xA",
        "outputId": "c22b41e5-905b-4670-a639-06e0e9c5eecc"
      },
      "execution_count": 20,
      "outputs": [
        {
          "output_type": "stream",
          "name": "stdout",
          "text": [
            "Reject the null hypothesis. The rate has gone down.\n",
            "Z =  -2.041241452319316\n",
            "P value =  0.02061341666858179\n"
          ]
        }
      ]
    },
    {
      "cell_type": "markdown",
      "source": [
        "nb=200, 110\n",
        "nc=230, 106\n",
        "alpha=0.05"
      ],
      "metadata": {
        "id": "GCUWAAD36Ut5"
      }
    },
    {
      "cell_type": "code",
      "source": [
        "import scipy.stats as stats\n",
        "\n",
        "# Given data\n",
        "n_Bangalore = 200\n",
        "n_Chennai = 230\n",
        "compliant_Bangalore = 110\n",
        "compliant_Chennai = 106\n",
        "alpha = 0.05\n",
        "\n",
        "# Calculate sample proportions\n",
        "p_Bangalore = compliant_Bangalore / n_Bangalore\n",
        "p_Chennai = compliant_Chennai / n_Chennai\n",
        "\n",
        "# Calculate the pooled sample proportion\n",
        "p_pooled = (n_Bangalore * p_Bangalore + n_Chennai * p_Chennai) / (n_Bangalore + n_Chennai)\n",
        "\n",
        "# Calculate the standard error\n",
        "standard_error = ((p_pooled * (1 - p_pooled)) * ((1 / n_Bangalore) + (1 / n_Chennai)))**0.5\n",
        "\n",
        "# Calculate the test statistic (z)\n",
        "z = (p_Bangalore-p_Chennai) / standard_error\n",
        "\n",
        "# Calculate the p-value for the two-tailed test\n",
        "p_value = 2 * (1 - stats.norm.cdf(abs(z)))\n",
        "\n",
        "# Make a decision based on the p-value and significance level\n",
        "if p_value < alpha:\n",
        "    print(\"Reject the null hypothesis. Compliance rates in Chennai are different from Bangalore.\")\n",
        "else:\n",
        "    print(\"Fail to reject the null hypothesis. There is no sufficient evidence to conclude that compliance rates in Chennai are different from Bangalore.\")\n",
        "print(\"Z = \",z)\n",
        "print(\"P value = \", p_value)"
      ],
      "metadata": {
        "colab": {
          "base_uri": "https://localhost:8080/"
        },
        "id": "yXZoUTOP8FI5",
        "outputId": "ccd893fe-db75-4b5a-e6a3-dbd8d799a8d8"
      },
      "execution_count": 26,
      "outputs": [
        {
          "output_type": "stream",
          "name": "stdout",
          "text": [
            "Fail to reject the null hypothesis. There is no sufficient evidence to conclude that compliance rates in Chennai are different from Bangalore.\n",
            "Z =  1.8437643201697864\n",
            "P value =  0.06521749465064053\n"
          ]
        }
      ]
    },
    {
      "cell_type": "code",
      "source": [
        "import numpy as np\n",
        "a=np.array([80,90,99,80,76,67,78,56,44,54])\n",
        "import scipy.stats as stats\n",
        "\n",
        "# Given data\n",
        "sample_data = [80, 90, 99, 80, 76, 67, 78, 76, 94, 74]\n",
        "population_mean = 80  # Population mean under the null hypothesis\n",
        "\n",
        "# Perform a one-sample t-test\n",
        "t_statistic, p_value = stats.ttest_1samp(sample_data, population_mean)\n",
        "\n",
        "# Set the significance level\n",
        "alpha = 0.05\n",
        "\n",
        "# Make a decision based on the p-value and significance level\n",
        "if p_value < alpha:\n",
        "    print(\"Reject the null hypothesis. The average score has increased.\")\n",
        "else:\n",
        "    print(\"Fail to reject the null hypothesis. There is no sufficient evidence to conclude that the average score has increased.\")\n"
      ],
      "metadata": {
        "colab": {
          "base_uri": "https://localhost:8080/"
        },
        "id": "IdoAvN-HAVCA",
        "outputId": "a64fab0b-f774-4bcc-cf7d-7601bd33fb6e"
      },
      "execution_count": 28,
      "outputs": [
        {
          "output_type": "stream",
          "name": "stdout",
          "text": [
            "Fail to reject the null hypothesis. There is no sufficient evidence to conclude that the average score has increased.\n"
          ]
        }
      ]
    }
  ]
}