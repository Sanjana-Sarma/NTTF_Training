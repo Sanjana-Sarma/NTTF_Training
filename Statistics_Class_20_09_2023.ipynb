{
  "nbformat": 4,
  "nbformat_minor": 0,
  "metadata": {
    "colab": {
      "provenance": [],
      "authorship_tag": "ABX9TyOpny1QYDT/cNqwQzHDKxRQ",
      "include_colab_link": true
    },
    "kernelspec": {
      "name": "python3",
      "display_name": "Python 3"
    },
    "language_info": {
      "name": "python"
    }
  },
  "cells": [
    {
      "cell_type": "markdown",
      "metadata": {
        "id": "view-in-github",
        "colab_type": "text"
      },
      "source": [
        "<a href=\"https://colab.research.google.com/github/Sanjana-Sarma/NTTF_Training/blob/main/Statistics_Class_20_09_2023.ipynb\" target=\"_parent\"><img src=\"https://colab.research.google.com/assets/colab-badge.svg\" alt=\"Open In Colab\"/></a>"
      ]
    },
    {
      "cell_type": "markdown",
      "source": [
        "alpha=5%\n",
        "n=10\n",
        "scores(Bangalore)\n",
        "scores(Chennai)"
      ],
      "metadata": {
        "id": "p4MK906srbuh"
      }
    },
    {
      "cell_type": "code",
      "source": [
        "import numpy as np\n",
        "from scipy import stats\n",
        "\n",
        "# Scores for 10 students in Bangalore\n",
        "scores_bangalore = np.array([85, 78, 92, 88, 76, 90, 84, 79, 87, 91])\n",
        "\n",
        "# Scores for 10 students in Chennai\n",
        "scores_chennai = np.array([79, 82, 88, 85, 75, 87, 80, 81, 84, 86])\n",
        "\n",
        "# Calculate the sample means\n",
        "mean_bangalore = np.mean(scores_bangalore)\n",
        "mean_chennai = np.mean(scores_chennai)\n",
        "\n",
        "# Perform a one-sample t-test\n",
        "t_statistic, p_value = stats.ttest_ind(scores_bangalore, scores_chennai)\n",
        "\n",
        "# Define the significance level\n",
        "alpha = 0.05\n",
        "\n",
        "# Print the results\n",
        "print(f\"Mean score in Bangalore: {mean_bangalore}\")\n",
        "print(f\"Mean score in Chennai: {mean_chennai}\")\n",
        "print(f\"T-statistic: {t_statistic}\")\n",
        "print(f\"P-value: {p_value}\")\n",
        "\n",
        "if p_value < alpha:\n",
        "    print(\"Reject the null hypothesis: The average scores of the two centers are not the same.\")\n",
        "else:\n",
        "    print(\"Fail to reject the null hypothesis: The average scores of the two centers are the same.\")\n"
      ],
      "metadata": {
        "colab": {
          "base_uri": "https://localhost:8080/"
        },
        "id": "vzUw1_xGuZ7T",
        "outputId": "aefd6487-d7b5-4e7f-f7f0-94da059a0438"
      },
      "execution_count": 3,
      "outputs": [
        {
          "output_type": "stream",
          "name": "stdout",
          "text": [
            "Mean score in Bangalore: 85.0\n",
            "Mean score in Chennai: 82.7\n",
            "T-statistic: 1.0424673556655828\n",
            "P-value: 0.31099488219018556\n",
            "Fail to reject the null hypothesis: The average scores of the two centers are the same.\n"
          ]
        }
      ]
    },
    {
      "cell_type": "markdown",
      "source": [
        "alpha=5%\n"
      ],
      "metadata": {
        "id": "Q0sHOysYu6Qv"
      }
    },
    {
      "cell_type": "code",
      "source": [
        "import numpy as np\n",
        "from scipy import stats\n",
        "\n",
        "# Scores before the program\n",
        "scores_before = np.array([80,87,90,99,32,34,45,56,67,77])\n",
        "\n",
        "# Scores after the program\n",
        "scores_after = np.array([70,67,80,89,32,74,65,46,60,70])\n",
        "\n",
        "# Perform a paired-sample t-test\n",
        "t_statistic, p_value = stats.ttest_rel(scores_after, scores_before)\n",
        "\n",
        "# Define the significance level\n",
        "alpha = 0.05\n",
        "\n",
        "# Print the results\n",
        "print(f\"T-statistic: {t_statistic}\")\n",
        "print(f\"P-value: {p_value}\")\n",
        "\n",
        "if p_value < alpha:\n",
        "    print(\"Reject the null hypothesis: There is a significant improvement in scores after the program.\")\n",
        "else:\n",
        "    print(\"Fail to reject the null hypothesis: There is no significant improvement in scores after the program.\")\n"
      ],
      "metadata": {
        "colab": {
          "base_uri": "https://localhost:8080/"
        },
        "id": "TT4w2Ekfu3P_",
        "outputId": "0afd976b-f774-492a-e050-a0ae4695e7a7"
      },
      "execution_count": 5,
      "outputs": [
        {
          "output_type": "stream",
          "name": "stdout",
          "text": [
            "T-statistic: -0.2475561485655466\n",
            "P-value: 0.8100330806550997\n",
            "Fail to reject the null hypothesis: There is no significant improvement in scores after the program.\n"
          ]
        }
      ]
    },
    {
      "cell_type": "code",
      "source": [
        "a=[40,35,30,45] #in bushels per acre\n",
        "b=[45,35,40,25]\n",
        "c=[55,50,41,32]\n",
        "\n",
        "stats.f_oneway(a,b,c)"
      ],
      "metadata": {
        "colab": {
          "base_uri": "https://localhost:8080/"
        },
        "id": "kj4oeHfizf-9",
        "outputId": "56724496-81fd-4642-ba93-479bc0f3f9b4"
      },
      "execution_count": 6,
      "outputs": [
        {
          "output_type": "execute_result",
          "data": {
            "text/plain": [
              "F_onewayResult(statistic=1.0903868249712756, pvalue=0.37667599395186785)"
            ]
          },
          "metadata": {},
          "execution_count": 6
        }
      ]
    },
    {
      "cell_type": "code",
      "source": [
        "0.3766>0.05"
      ],
      "metadata": {
        "colab": {
          "base_uri": "https://localhost:8080/"
        },
        "id": "xSFmx_AMzxr5",
        "outputId": "174453f6-8935-4874-c2ba-5eb703057b4c"
      },
      "execution_count": 7,
      "outputs": [
        {
          "output_type": "execute_result",
          "data": {
            "text/plain": [
              "True"
            ]
          },
          "metadata": {},
          "execution_count": 7
        }
      ]
    },
    {
      "cell_type": "code",
      "source": [
        "#Failed to reject null hypothesis"
      ],
      "metadata": {
        "id": "3NIWR5oQz1OF"
      },
      "execution_count": null,
      "outputs": []
    }
  ]
}