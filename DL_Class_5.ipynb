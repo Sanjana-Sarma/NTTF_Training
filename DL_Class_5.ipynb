{
  "nbformat": 4,
  "nbformat_minor": 0,
  "metadata": {
    "colab": {
      "provenance": [],
      "authorship_tag": "ABX9TyO9YssAXx3KW1g0qRQ1OK/d",
      "include_colab_link": true
    },
    "kernelspec": {
      "name": "python3",
      "display_name": "Python 3"
    },
    "language_info": {
      "name": "python"
    }
  },
  "cells": [
    {
      "cell_type": "markdown",
      "metadata": {
        "id": "view-in-github",
        "colab_type": "text"
      },
      "source": [
        "<a href=\"https://colab.research.google.com/github/Sanjana-Sarma/NTTF_Training/blob/main/DL_Class_5.ipynb\" target=\"_parent\"><img src=\"https://colab.research.google.com/assets/colab-badge.svg\" alt=\"Open In Colab\"/></a>"
      ]
    },
    {
      "cell_type": "code",
      "execution_count": null,
      "metadata": {
        "id": "B2rjq-TqIK9N"
      },
      "outputs": [],
      "source": [
        "import numpy as np\n",
        "import pandas as pd\n",
        "import matplotlib.pyplot as plt\n",
        "from sklearn.datasets import load_iris\n",
        "from sklearn.model_selection import train_test_split\n",
        "from sklearn.tree import DecisionTreeClassifier"
      ]
    },
    {
      "cell_type": "code",
      "source": [
        "X,y=load_iris(return_X_y=True)\n",
        "X_train, X_test, y_train, y_test = train_test_split(X,y,test_size=0.5,random_state=42)\n"
      ],
      "metadata": {
        "id": "QOwMxG4wImbv"
      },
      "execution_count": null,
      "outputs": []
    },
    {
      "cell_type": "code",
      "source": [
        "clf=DecisionTreeClassifier()\n",
        "clf.fit(X_train, y_train)\n",
        "y_pred=clf.predict(X_test)\n",
        "N=y_test.shape[0]\n",
        "C=(y_test==y_pred).sum()\n",
        "print(\"Total points: %d correctly labeled points: %d\"%(N,C))"
      ],
      "metadata": {
        "colab": {
          "base_uri": "https://localhost:8080/"
        },
        "id": "iorGVTtZI8Sr",
        "outputId": "b2851e5c-c5fc-4f08-c279-43c00e103870"
      },
      "execution_count": null,
      "outputs": [
        {
          "output_type": "stream",
          "name": "stdout",
          "text": [
            "Total points: 75 correctly labeled points: 70\n"
          ]
        }
      ]
    },
    {
      "cell_type": "code",
      "source": [
        "from sklearn.datasets import load_iris\n",
        "from sklearn.model_selection import train_test_split\n",
        "from sklearn.ensemble import RandomForestClassifier"
      ],
      "metadata": {
        "id": "x22tQr2xKVel"
      },
      "execution_count": null,
      "outputs": []
    },
    {
      "cell_type": "code",
      "source": [
        "X,y=load_iris(return_X_y=True)\n",
        "X_train, X_test, y_train, y_test = train_test_split(X,y,test_size=0.5,random_state=42)\n"
      ],
      "metadata": {
        "id": "Ak3QuFI9K5QM"
      },
      "execution_count": null,
      "outputs": []
    },
    {
      "cell_type": "code",
      "source": [
        "clf=RandomForestClassifier()\n",
        "clf.fit(X_train, y_train)\n",
        "y_pred=clf.predict(X_test)\n",
        "print(\"Total points: %d correctly labeled points: %d\" %(y_test.shape[0], (y_test==y_pred).sum()))"
      ],
      "metadata": {
        "colab": {
          "base_uri": "https://localhost:8080/"
        },
        "id": "k59bdUk9K-Es",
        "outputId": "3b86c75b-3517-4081-b889-6d872fa01d04"
      },
      "execution_count": null,
      "outputs": [
        {
          "output_type": "stream",
          "name": "stdout",
          "text": [
            "Total points: 75 correctly labeled points: 74\n"
          ]
        }
      ]
    },
    {
      "cell_type": "code",
      "source": [
        "from sklearn.datasets import load_iris\n",
        "from sklearn.model_selection import train_test_split\n",
        "from sklearn.neighbors import KNeighborsClassifier"
      ],
      "metadata": {
        "id": "m0DnIWTaMjGt"
      },
      "execution_count": null,
      "outputs": []
    },
    {
      "cell_type": "code",
      "source": [
        "X,y=load_iris(return_X_y=True)\n",
        "X_train, X_test, y_train, y_test = train_test_split(X,y,test_size=0.5,random_state=42)\n"
      ],
      "metadata": {
        "id": "3-htE9_rMy7n"
      },
      "execution_count": null,
      "outputs": []
    },
    {
      "cell_type": "code",
      "source": [
        "clf=KNeighborsClassifier()\n",
        "clf.fit(X_train, y_train)\n",
        "y_pred=clf.predict(X_test)\n",
        "print(\"Total points: %d correctly labeled points: %d\" %(y_test.shape[0], (y_test==y_pred).sum()))"
      ],
      "metadata": {
        "colab": {
          "base_uri": "https://localhost:8080/"
        },
        "id": "AQbfy63oM2i6",
        "outputId": "e2ab7d36-f314-4f77-f3dc-8e82c4e5b09d"
      },
      "execution_count": null,
      "outputs": [
        {
          "output_type": "stream",
          "name": "stdout",
          "text": [
            "Total points: 75 correctly labeled points: 71\n"
          ]
        }
      ]
    },
    {
      "cell_type": "code",
      "source": [
        "import tensorflow as tf\n",
        "from tensorflow import keras\n",
        "from sklearn.model_selection import train_test_split\n",
        "from tensorflow.keras.models import Sequential\n",
        "from tensorflow.keras.layers import Dense\n",
        "from sklearn.datasets import load_iris\n",
        "from sklearn.svm import SVC\n",
        "from sklearn.naive_bayes import GaussianNB\n",
        "from sklearn.discriminant_analysis import LinearDiscriminantAnalysis, QuadraticDiscriminantAnalysis\n",
        "from sklearn.tree import DecisionTreeClassifier\n",
        "from sklearn.ensemble import RandomForestClassifier\n",
        "from sklearn.neighbors import KNeighborsClassifier\n",
        "from sklearn.neural_network import MLPClassifier\n"
      ],
      "metadata": {
        "id": "hUYS7El-NExR"
      },
      "execution_count": null,
      "outputs": []
    },
    {
      "cell_type": "code",
      "source": [
        "model_names=['SVM','Naive_Bayes','LDA','QDA','Decision Tree','Random Forest',\n",
        "       'K-Nearest Neighbors','Neural Networks']\n"
      ],
      "metadata": {
        "id": "KS7XzBMNPJ7L"
      },
      "execution_count": null,
      "outputs": []
    },
    {
      "cell_type": "code",
      "source": [
        "classifiers=[SVC(),\n",
        "             GaussianNB(),\n",
        "             LinearDiscriminantAnalysis(),\n",
        "             QuadraticDiscriminantAnalysis(),\n",
        "             DecisionTreeClassifier(),\n",
        "             RandomForestClassifier(),\n",
        "             KNeighborsClassifier(),\n",
        "             MLPClassifier(alpha=1,max_iter=1000)\n",
        "             ]"
      ],
      "metadata": {
        "id": "oV_-pDrXPdSY"
      },
      "execution_count": null,
      "outputs": []
    },
    {
      "cell_type": "code",
      "source": [
        "X,y=load_iris(return_X_y=True)\n",
        "X_train, X_test, y_train, y_test = train_test_split(X,y,test_size=0.5,random_state=42)"
      ],
      "metadata": {
        "id": "EBrrPFFsP71D"
      },
      "execution_count": null,
      "outputs": []
    },
    {
      "cell_type": "code",
      "source": [
        "for name, clf in zip(model_names, classifiers):\n",
        "  clf.fit(X_train,y_train)\n",
        "  score=clf.score(X_test, y_test)\n",
        "  print(name + \" : \" +str(score))"
      ],
      "metadata": {
        "colab": {
          "base_uri": "https://localhost:8080/"
        },
        "id": "i3DTpF-fP_NI",
        "outputId": "6b548c38-dbcc-448a-9ec2-be4751fd1cd4"
      },
      "execution_count": null,
      "outputs": [
        {
          "output_type": "stream",
          "name": "stdout",
          "text": [
            "SVM : 1.0\n",
            "Naive_Bayes : 0.9866666666666667\n",
            "LDA : 0.9866666666666667\n",
            "QDA : 0.9733333333333334\n",
            "Decision Tree : 0.9466666666666667\n",
            "Random Forest : 0.9733333333333334\n",
            "K-Nearest Neighbors : 0.9466666666666667\n",
            "Neural Networks : 0.9866666666666667\n"
          ]
        }
      ]
    },
    {
      "cell_type": "code",
      "source": [
        "import matplotlib.pyplot as plt\n",
        "from scipy import stats"
      ],
      "metadata": {
        "id": "WkIqqtSPSQ1x"
      },
      "execution_count": null,
      "outputs": []
    },
    {
      "cell_type": "code",
      "source": [
        "x=[0,1,2,3,4]\n",
        "y=[3,5,5,6,7]\n",
        "slope, intercept, r, p, std_err = stats.linregress(x,y)\n",
        "print(\"Slope: \", slope)\n",
        "print(\"Intercept: \", intercept)\n",
        "\n",
        "def myfunc(x):\n",
        "  return slope*x+intercept\n",
        "\n",
        "mymodel=list(map(myfunc, x))\n",
        "\n",
        "plt.scatter(x,y)\n",
        "plt.plot(x, mymodel)"
      ],
      "metadata": {
        "colab": {
          "base_uri": "https://localhost:8080/",
          "height": 482
        },
        "id": "QigFc0oTQXie",
        "outputId": "f6fedc2a-5ef4-44fd-b11c-7941854ef17c"
      },
      "execution_count": null,
      "outputs": [
        {
          "output_type": "stream",
          "name": "stdout",
          "text": [
            "Slope:  0.9\n",
            "Intercept:  3.4000000000000004\n"
          ]
        },
        {
          "output_type": "execute_result",
          "data": {
            "text/plain": [
              "[<matplotlib.lines.Line2D at 0x796eff594d90>]"
            ]
          },
          "metadata": {},
          "execution_count": 38
        },
        {
          "output_type": "display_data",
          "data": {
            "text/plain": [
              "<Figure size 640x480 with 1 Axes>"
            ],
            "image/png": "[encoded data removed]"
          },
          "metadata": {}
        }
      ]
    },
    {
      "cell_type": "code",
      "source": [],
      "metadata": {
        "id": "SDuPRjwCS5iJ"
      },
      "execution_count": null,
      "outputs": []
    }
  ]
}