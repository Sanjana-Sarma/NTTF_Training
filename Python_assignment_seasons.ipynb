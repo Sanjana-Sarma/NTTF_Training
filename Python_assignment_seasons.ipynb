{
  "nbformat": 4,
  "nbformat_minor": 0,
  "metadata": {
    "colab": {
      "provenance": [],
      "authorship_tag": "ABX9TyO089G9fAO+L7Bbts8LaSN0",
      "include_colab_link": true
    },
    "kernelspec": {
      "name": "python3",
      "display_name": "Python 3"
    },
    "language_info": {
      "name": "python"
    }
  },
  "cells": [
    {
      "cell_type": "markdown",
      "metadata": {
        "id": "view-in-github",
        "colab_type": "text"
      },
      "source": [
        "<a href=\"https://colab.research.google.com/github/Sanjana-Sarma/NTTF_Training/blob/main/Python_assignment_seasons.ipynb\" target=\"_parent\"><img src=\"https://colab.research.google.com/assets/colab-badge.svg\" alt=\"Open In Colab\"/></a>"
      ]
    },
    {
      "cell_type": "code",
      "execution_count": null,
      "metadata": {
        "colab": {
          "base_uri": "https://localhost:8080/",
          "height": 131
        },
        "id": "5fVoc3SlAUSm",
        "outputId": "12a76527-71f2-4f50-a7c0-50f44df92e85"
      },
      "outputs": [
        {
          "output_type": "error",
          "ename": "IndentationError",
          "evalue": "ignored",
          "traceback": [
            "\u001b[0;36m  File \u001b[0;32m\"<tokenize>\"\u001b[0;36m, line \u001b[0;32m3\u001b[0m\n\u001b[0;31m    spring_months = ['march','april','may','june']\u001b[0m\n\u001b[0m    ^\u001b[0m\n\u001b[0;31mIndentationError\u001b[0m\u001b[0;31m:\u001b[0m unindent does not match any outer indentation level\n"
          ]
        }
      ],
      "source": [
        "def get_season(month, day):\n",
        "\t\tmonth = month.lower\n",
        "    spring_months = ['march','april','may','june']\n",
        "    summer_months = ['june','july','august','september']\n",
        "    autumn_months = ['september','october','november','december']\n",
        "    winter_months = ['december','january','february','march']\n",
        "    if month in spring_months:\n",
        "\t\t  if month == 'march' and day >= 20:\n",
        "\t\t\t  if month == 'april' and 1 <= day <= 30:\n",
        "\t\t\t\t  if month == 'may' and 1 <= day <= 31:\n",
        "\t\t\t\t\t  if month == 'june' and day < 20:\n",
        "\t\t\t\t\t\t  return 'Spring'\n",
        "\t\tif month in summer_months:\n",
        "      if month == 'june' and day >= 21:\n",
        "\t\t\t  if month == 'july' and 1 <= day <= 31:\n",
        "\t\t\t\t  if month == 'august' and 1 <= day <= 31:\n",
        "\t\t\t\t\t  if month == 'september' and day < 22:\n",
        "\t\t\t\t\t\t  return 'Summer'\n",
        "\t\tif month in autumn_months:\n",
        "      if month == 'september' and day >= 22:\n",
        "\t\t\t  if month == 'october' and 1 <= day <= 31:\n",
        "\t\t\t\t  if month == 'november' and 1 <= day <= 30:\n",
        "\t\t\t\t\t  if month == 'december' and Day_ < 21:\n",
        "\t\t\t\t\t\t  return 'Autumn'\n",
        "\t\tif month in winter_months:\n",
        "      if month == 'december' and day >= 21:\n",
        "\t\t\t  if month == 'january' and 1 <= day <= 31:\n",
        "\t\t\t\t  if month == 'february' and 1 <= day < 30:\n",
        "\t\t\t\t\t  if month == 'march' and day < 20:\n",
        "\t\t\t\t\t\t  return 'Winter'"
      ]
    },
    {
      "cell_type": "code",
      "source": [],
      "metadata": {
        "id": "YkS6RslKBb9P"
      },
      "execution_count": null,
      "outputs": []
    },
    {
      "cell_type": "code",
      "source": [
        "month_ = str(input(\"Enter name of month: \"))"
      ],
      "metadata": {
        "colab": {
          "base_uri": "https://localhost:8080/"
        },
        "id": "FgDsNDPyAqat",
        "outputId": "601e431b-ca76-4fca-9486-7c60bbc2b8ac"
      },
      "execution_count": null,
      "outputs": [
        {
          "name": "stdout",
          "output_type": "stream",
          "text": [
            "Enter name of month: july\n"
          ]
        }
      ]
    },
    {
      "cell_type": "code",
      "source": [
        "Day_ = int(input(\"Enter date: \"))\n"
      ],
      "metadata": {
        "colab": {
          "base_uri": "https://localhost:8080/"
        },
        "id": "CtBwRkIrAwQB",
        "outputId": "17171e31-dd05-48f8-c4ce-741c1c92949a"
      },
      "execution_count": null,
      "outputs": [
        {
          "name": "stdout",
          "output_type": "stream",
          "text": [
            "Enter date: 28\n"
          ]
        }
      ]
    },
    {
      "cell_type": "code",
      "source": [
        "season_name = get_season(month_, Day_)"
      ],
      "metadata": {
        "id": "VthVsCRsA2DX"
      },
      "execution_count": null,
      "outputs": []
    },
    {
      "cell_type": "code",
      "source": [
        "print(\"For the given date the season is {}\".format(season_name))"
      ],
      "metadata": {
        "colab": {
          "base_uri": "https://localhost:8080/"
        },
        "id": "j7kyLIEKA-PM",
        "outputId": "2d23db64-3c4e-47ce-fe94-b4218401bdd5"
      },
      "execution_count": null,
      "outputs": [
        {
          "output_type": "stream",
          "name": "stdout",
          "text": [
            "For the given date the season is None\n"
          ]
        }
      ]
    }
  ]
}