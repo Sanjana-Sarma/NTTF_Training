{
  "nbformat": 4,
  "nbformat_minor": 0,
  "metadata": {
    "colab": {
      "provenance": [],
      "authorship_tag": "ABX9TyPWQQY1sXgb9sMnxR6kJwfY",
      "include_colab_link": true
    },
    "kernelspec": {
      "name": "python3",
      "display_name": "Python 3"
    },
    "language_info": {
      "name": "python"
    }
  },
  "cells": [
    {
      "cell_type": "markdown",
      "metadata": {
        "id": "view-in-github",
        "colab_type": "text"
      },
      "source": [
        "<a href=\"https://colab.research.google.com/github/Sanjana-Sarma/NTTF_Training/blob/main/Exercise91%2692.ipynb\" target=\"_parent\"><img src=\"https://colab.research.google.com/assets/colab-badge.svg\" alt=\"Open In Colab\"/></a>"
      ]
    },
    {
      "cell_type": "code",
      "execution_count": 1,
      "metadata": {
        "id": "R9w-NH4HNqes"
      },
      "outputs": [],
      "source": [
        "import os"
      ]
    },
    {
      "cell_type": "code",
      "source": [
        "# Create a root directory for your package\n",
        "package_dir = \"my_package\"\n",
        "os.mkdir(package_dir)"
      ],
      "metadata": {
        "id": "MDO9JX6wADFJ"
      },
      "execution_count": 2,
      "outputs": []
    },
    {
      "cell_type": "code",
      "source": [
        "# Create an __init__.py file in the root directory\n",
        "with open(os.path.join(package_dir, \"__init__.py\"), \"w\") as init_file:\n",
        "    pass"
      ],
      "metadata": {
        "id": "EjeLZGRaAIya"
      },
      "execution_count": 3,
      "outputs": []
    },
    {
      "cell_type": "code",
      "source": [
        "# Create the main modules (module1.py and module2.py) in the root directory\n",
        "for module_name in [\"module1.py\", \"module2.py\"]:\n",
        "    with open(os.path.join(package_dir, module_name), \"w\") as module_file:\n",
        "        pass"
      ],
      "metadata": {
        "id": "j5g9ZGL3ALVX"
      },
      "execution_count": 4,
      "outputs": []
    },
    {
      "cell_type": "code",
      "source": [
        "# Create subpackages within your package\n",
        "subpackage1_dir = os.path.join(package_dir, \"subpackage1\")\n",
        "os.mkdir(subpackage1_dir)\n",
        "\n",
        "subpackage2_dir = os.path.join(package_dir, \"subpackage2\")\n",
        "os.mkdir(subpackage2_dir)"
      ],
      "metadata": {
        "id": "Itn0X_DAAPGd"
      },
      "execution_count": 5,
      "outputs": []
    },
    {
      "cell_type": "code",
      "source": [
        "# Create an __init__.py file in each subpackage\n",
        "for subpackage_dir in [subpackage1_dir, subpackage2_dir]:\n",
        "    with open(os.path.join(subpackage_dir, \"__init__.py\"), \"w\") as init_file:\n",
        "        pass"
      ],
      "metadata": {
        "id": "KorGDsMfAWlW"
      },
      "execution_count": 6,
      "outputs": []
    },
    {
      "cell_type": "code",
      "source": [
        "# Create modules within the subpackages (module3.py, module4.py, and module5.py)\n",
        "module_names = [\"module3.py\", \"module4.py\", \"module5.py\"]\n",
        "for subpackage_dir, module_name in zip([subpackage1_dir, subpackage1_dir, subpackage2_dir], module_names):\n",
        "    with open(os.path.join(subpackage_dir, module_name), \"w\") as module_file:\n",
        "        pass"
      ],
      "metadata": {
        "id": "Jo5DCOWXAZQf"
      },
      "execution_count": 7,
      "outputs": []
    },
    {
      "cell_type": "code",
      "source": [
        "import sys\n",
        "import os"
      ],
      "metadata": {
        "id": "LBjD_Q_hAg6f"
      },
      "execution_count": 8,
      "outputs": []
    },
    {
      "cell_type": "code",
      "source": [
        "# Add the directory containing your modules to the sys.path\n",
        "module_dir = os.path.abspath('my_package')\n",
        "sys.path.append(module_dir)"
      ],
      "metadata": {
        "id": "QFYrjFQxC_Hn"
      },
      "execution_count": 9,
      "outputs": []
    },
    {
      "cell_type": "code",
      "source": [
        "import module1\n",
        "import module2\n",
        "from subpackage1 import module3"
      ],
      "metadata": {
        "id": "xNM2U7UnDIkb"
      },
      "execution_count": 10,
      "outputs": []
    },
    {
      "cell_type": "code",
      "source": [],
      "metadata": {
        "id": "DKw7qcw_DjCD"
      },
      "execution_count": null,
      "outputs": []
    }
  ]
}