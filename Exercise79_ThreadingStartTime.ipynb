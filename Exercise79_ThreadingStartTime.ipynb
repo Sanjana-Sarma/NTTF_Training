{
  "nbformat": 4,
  "nbformat_minor": 0,
  "metadata": {
    "colab": {
      "provenance": [],
      "authorship_tag": "ABX9TyOH9kj5UH/hhx4K1YZu618s",
      "include_colab_link": true
    },
    "kernelspec": {
      "name": "python3",
      "display_name": "Python 3"
    },
    "language_info": {
      "name": "python"
    }
  },
  "cells": [
    {
      "cell_type": "markdown",
      "metadata": {
        "id": "view-in-github",
        "colab_type": "text"
      },
      "source": [
        "<a href=\"https://colab.research.google.com/github/Sanjana-Sarma/NTTF_Training/blob/main/Exercise79_ThreadingStartTime.ipynb\" target=\"_parent\"><img src=\"https://colab.research.google.com/assets/colab-badge.svg\" alt=\"Open In Colab\"/></a>"
      ]
    },
    {
      "cell_type": "code",
      "execution_count": 13,
      "metadata": {
        "id": "tukOK3bBgp96"
      },
      "outputs": [],
      "source": [
        "import threading\n",
        "import time\n",
        "import datetime"
      ]
    },
    {
      "cell_type": "code",
      "source": [
        "# Create an event to signal when the thread starts running\n",
        "thread_started_event = threading.Event()"
      ],
      "metadata": {
        "id": "2TsHknRJmWcu"
      },
      "execution_count": 14,
      "outputs": []
    },
    {
      "cell_type": "code",
      "source": [
        "def my_thread():\n",
        "    # Get the start time\n",
        "    start_time = time.time()\n",
        "    thread_started_event.set()  # Signal that the thread has started running\n",
        "    for i in range(5):\n",
        "        print(f\"Thread is working, iteration {i}\")\n",
        "        time.sleep(1)\n",
        "    # Get the end time\n",
        "    end_time = time.time()\n",
        "    start_time_str = datetime.datetime.fromtimestamp(start_time).strftime('%Y-%m-%d %H:%M:%S')\n",
        "    end_time_str = datetime.datetime.fromtimestamp(end_time).strftime('%Y-%m-%d %H:%M:%S')\n",
        "    print(f\"\\nThread finished its work.\\n\\nStarted at {start_time_str}, ended at {end_time_str}\")"
      ],
      "metadata": {
        "id": "bzQzo0eUmhHd"
      },
      "execution_count": 15,
      "outputs": []
    },
    {
      "cell_type": "code",
      "source": [
        "# Create and start the thread\n",
        "my_thread_instance = threading.Thread(target=my_thread)\n",
        "print(\"\\n-----Main program: Thread has started running-----\\n\")\n",
        "my_thread_instance.start()\n",
        "thread_started_event.wait()\n",
        "my_thread_instance.join()\n",
        "print(\"\\n-----Main program: Thread has finished------------\")"
      ],
      "metadata": {
        "colab": {
          "base_uri": "https://localhost:8080/"
        },
        "id": "Jzl-6RB_mphs",
        "outputId": "c37f9c48-386f-4a19-b89f-628981727520"
      },
      "execution_count": 16,
      "outputs": [
        {
          "output_type": "stream",
          "name": "stdout",
          "text": [
            "\n",
            "-----Main program: Thread has started running-----\n",
            "\n",
            "Thread is working, iteration 0\n",
            "Thread is working, iteration 1\n",
            "Thread is working, iteration 2\n",
            "Thread is working, iteration 3\n",
            "Thread is working, iteration 4\n",
            "\n",
            "Thread finished its work.\n",
            "\n",
            "Started at 2023-09-11 15:02:25, ended at 2023-09-11 15:02:30\n",
            "\n",
            "-----Main program: Thread has finished------------\n"
          ]
        }
      ]
    }
  ]
}