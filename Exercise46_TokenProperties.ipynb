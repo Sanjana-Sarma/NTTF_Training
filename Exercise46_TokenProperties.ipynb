{
  "nbformat": 4,
  "nbformat_minor": 0,
  "metadata": {
    "colab": {
      "provenance": [],
      "authorship_tag": "ABX9TyP04upWyX/kHE/0Z/ddattf",
      "include_colab_link": true
    },
    "kernelspec": {
      "name": "python3",
      "display_name": "Python 3"
    },
    "language_info": {
      "name": "python"
    }
  },
  "cells": [
    {
      "cell_type": "markdown",
      "metadata": {
        "id": "view-in-github",
        "colab_type": "text"
      },
      "source": [
        "<a href=\"https://colab.research.google.com/github/Sanjana-Sarma/NTTF_Training/blob/main/Exercise46_TokenProperties.ipynb\" target=\"_parent\"><img src=\"https://colab.research.google.com/assets/colab-badge.svg\" alt=\"Open In Colab\"/></a>"
      ]
    },
    {
      "cell_type": "code",
      "execution_count": 1,
      "metadata": {
        "colab": {
          "base_uri": "https://localhost:8080/"
        },
        "id": "2N7Wom73f-Ki",
        "outputId": "1d48723d-3623-4493-e70a-a2b7945e7bdd"
      },
      "outputs": [
        {
          "output_type": "stream",
          "name": "stdout",
          "text": [
            "\u001b[38;5;2m✔ Download and installation successful\u001b[0m\n",
            "You can now load the package via spacy.load('en_core_web_md')\n"
          ]
        }
      ],
      "source": [
        "import spacy\n",
        "import spacy.cli\n",
        "spacy.cli.download(\"en_core_web_md\")"
      ]
    },
    {
      "cell_type": "code",
      "source": [
        "nlp=spacy.load(\"en_core_web_md\")"
      ],
      "metadata": {
        "id": "7kts0sMggMYM"
      },
      "execution_count": 2,
      "outputs": []
    },
    {
      "cell_type": "code",
      "source": [
        "comp_sentence = \"I saw a sweet red fox and it ran far away before jumping over the dark blue fence, into the dark jungle.\""
      ],
      "metadata": {
        "id": "R95aMk1pgQ38"
      },
      "execution_count": 3,
      "outputs": []
    },
    {
      "cell_type": "code",
      "source": [
        "doc=nlp(comp_sentence)\n",
        "doc"
      ],
      "metadata": {
        "colab": {
          "base_uri": "https://localhost:8080/"
        },
        "id": "lq9qJcIkgf3-",
        "outputId": "e30317c0-a73a-4694-814a-c359282ebe14"
      },
      "execution_count": 4,
      "outputs": [
        {
          "output_type": "execute_result",
          "data": {
            "text/plain": [
              "I saw a sweet red fox and it ran far away before jumping over the dark blue fence, into the dark jungle."
            ]
          },
          "metadata": {},
          "execution_count": 4
        }
      ]
    },
    {
      "cell_type": "code",
      "source": [
        "header = [\"Token\", \"Lemma\", \"POS\", \"Tag\", \"Dependency\", \"POS Explanation\", \"Tag Explanation\", \"Dep Explanation\", \"Head\", \"Shape\", \"Is Alphabetical\",\"Is Punctuation\",\"Is Stop Word\"]\n",
        "print(\" | \".join(f\"{field:<50}\" for field in header))\n",
        "print(\"=\" * 560)\n",
        "for token in doc:\n",
        "    fields = [\n",
        "        token.text, token.lemma_,\n",
        "        token.pos_, token.tag_,\n",
        "        token.dep_,spacy.explain(token.pos_),\n",
        "        spacy.explain(token.tag_), spacy.explain(token.dep_),\n",
        "        token.head.text if token.head is not None else \"None\",\n",
        "        token.shape_, str(token.is_alpha),\n",
        "        str(token.is_punct), str(token.is_stop)]\n",
        "    print(\" | \".join(f\"{field:<50}\" for field in fields))"
      ],
      "metadata": {
        "colab": {
          "base_uri": "https://localhost:8080/"
        },
        "id": "G9xcJJO0glzJ",
        "outputId": "cb7b0981-2029-4da5-d26d-55379a3157f5"
      },
      "execution_count": 11,
      "outputs": [
        {
          "output_type": "stream",
          "name": "stdout",
          "text": [
            "Token                                              | Lemma                                              | POS                                                | Tag                                                | Dependency                                         | POS Explanation                                    | Tag Explanation                                    | Dep Explanation                                    | Head                                               | Shape                                              | Is Alphabetical                                    | Is Punctuation                                     | Is Stop Word                                      \n",
            "================================================================================================================================================================================================================================================================================================================================================================================================================================================================================================================================================================================\n",
            "I                                                  | I                                                  | PRON                                               | PRP                                                | nsubj                                              | pronoun                                            | pronoun, personal                                  | nominal subject                                    | saw                                                | X                                                  | True                                               | False                                              | True                                              \n",
            "saw                                                | see                                                | VERB                                               | VBD                                                | ROOT                                               | verb                                               | verb, past tense                                   | root                                               | saw                                                | xxx                                                | True                                               | False                                              | False                                             \n",
            "a                                                  | a                                                  | DET                                                | DT                                                 | det                                                | determiner                                         | determiner                                         | determiner                                         | fox                                                | x                                                  | True                                               | False                                              | True                                              \n",
            "sweet                                              | sweet                                              | ADJ                                                | JJ                                                 | amod                                               | adjective                                          | adjective (English), other noun-modifier (Chinese) | adjectival modifier                                | fox                                                | xxxx                                               | True                                               | False                                              | False                                             \n",
            "red                                                | red                                                | ADJ                                                | JJ                                                 | amod                                               | adjective                                          | adjective (English), other noun-modifier (Chinese) | adjectival modifier                                | fox                                                | xxx                                                | True                                               | False                                              | False                                             \n",
            "fox                                                | fox                                                | NOUN                                               | NN                                                 | dobj                                               | noun                                               | noun, singular or mass                             | direct object                                      | saw                                                | xxx                                                | True                                               | False                                              | False                                             \n",
            "and                                                | and                                                | CCONJ                                              | CC                                                 | cc                                                 | coordinating conjunction                           | conjunction, coordinating                          | coordinating conjunction                           | saw                                                | xxx                                                | True                                               | False                                              | True                                              \n",
            "it                                                 | it                                                 | PRON                                               | PRP                                                | nsubj                                              | pronoun                                            | pronoun, personal                                  | nominal subject                                    | ran                                                | xx                                                 | True                                               | False                                              | True                                              \n",
            "ran                                                | run                                                | VERB                                               | VBD                                                | conj                                               | verb                                               | verb, past tense                                   | conjunct                                           | saw                                                | xxx                                                | True                                               | False                                              | False                                             \n",
            "far                                                | far                                                | ADV                                                | RB                                                 | advmod                                             | adverb                                             | adverb                                             | adverbial modifier                                 | away                                               | xxx                                                | True                                               | False                                              | False                                             \n",
            "away                                               | away                                               | ADV                                                | RB                                                 | advmod                                             | adverb                                             | adverb                                             | adverbial modifier                                 | ran                                                | xxxx                                               | True                                               | False                                              | False                                             \n",
            "before                                             | before                                             | ADP                                                | IN                                                 | prep                                               | adposition                                         | conjunction, subordinating or preposition          | prepositional modifier                             | ran                                                | xxxx                                               | True                                               | False                                              | True                                              \n",
            "jumping                                            | jump                                               | VERB                                               | VBG                                                | pcomp                                              | verb                                               | verb, gerund or present participle                 | complement of preposition                          | before                                             | xxxx                                               | True                                               | False                                              | False                                             \n",
            "over                                               | over                                               | ADP                                                | IN                                                 | prep                                               | adposition                                         | conjunction, subordinating or preposition          | prepositional modifier                             | jumping                                            | xxxx                                               | True                                               | False                                              | True                                              \n",
            "the                                                | the                                                | DET                                                | DT                                                 | det                                                | determiner                                         | determiner                                         | determiner                                         | fence                                              | xxx                                                | True                                               | False                                              | True                                              \n",
            "dark                                               | dark                                               | ADJ                                                | JJ                                                 | amod                                               | adjective                                          | adjective (English), other noun-modifier (Chinese) | adjectival modifier                                | fence                                              | xxxx                                               | True                                               | False                                              | False                                             \n",
            "blue                                               | blue                                               | ADJ                                                | JJ                                                 | amod                                               | adjective                                          | adjective (English), other noun-modifier (Chinese) | adjectival modifier                                | fence                                              | xxxx                                               | True                                               | False                                              | False                                             \n",
            "fence                                              | fence                                              | NOUN                                               | NN                                                 | pobj                                               | noun                                               | noun, singular or mass                             | object of preposition                              | over                                               | xxxx                                               | True                                               | False                                              | False                                             \n",
            ",                                                  | ,                                                  | PUNCT                                              | ,                                                  | punct                                              | punctuation                                        | punctuation mark, comma                            | punctuation                                        | jumping                                            | ,                                                  | False                                              | True                                               | False                                             \n",
            "into                                               | into                                               | ADP                                                | IN                                                 | prep                                               | adposition                                         | conjunction, subordinating or preposition          | prepositional modifier                             | jumping                                            | xxxx                                               | True                                               | False                                              | True                                              \n",
            "the                                                | the                                                | DET                                                | DT                                                 | det                                                | determiner                                         | determiner                                         | determiner                                         | jungle                                             | xxx                                                | True                                               | False                                              | True                                              \n",
            "dark                                               | dark                                               | ADJ                                                | JJ                                                 | amod                                               | adjective                                          | adjective (English), other noun-modifier (Chinese) | adjectival modifier                                | jungle                                             | xxxx                                               | True                                               | False                                              | False                                             \n",
            "jungle                                             | jungle                                             | NOUN                                               | NN                                                 | pobj                                               | noun                                               | noun, singular or mass                             | object of preposition                              | into                                               | xxxx                                               | True                                               | False                                              | False                                             \n",
            ".                                                  | .                                                  | PUNCT                                              | .                                                  | punct                                              | punctuation                                        | punctuation mark, sentence closer                  | punctuation                                        | ran                                                | .                                                  | False                                              | True                                               | False                                             \n"
          ]
        }
      ]
    }
  ]
}