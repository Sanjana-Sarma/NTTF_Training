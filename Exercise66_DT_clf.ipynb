{
  "nbformat": 4,
  "nbformat_minor": 0,
  "metadata": {
    "colab": {
      "provenance": [],
      "authorship_tag": "ABX9TyNrE07vgkYkiPHqB7hl69qs",
      "include_colab_link": true
    },
    "kernelspec": {
      "name": "python3",
      "display_name": "Python 3"
    },
    "language_info": {
      "name": "python"
    }
  },
  "cells": [
    {
      "cell_type": "markdown",
      "metadata": {
        "id": "view-in-github",
        "colab_type": "text"
      },
      "source": [
        "<a href=\"https://colab.research.google.com/github/Sanjana-Sarma/NTTF_Training/blob/main/Exercise66_DT_clf.ipynb\" target=\"_parent\"><img src=\"https://colab.research.google.com/assets/colab-badge.svg\" alt=\"Open In Colab\"/></a>"
      ]
    },
    {
      "cell_type": "code",
      "execution_count": 19,
      "metadata": {
        "id": "vwyKy3W2328Q"
      },
      "outputs": [],
      "source": [
        "import pandas as pd\n",
        "import numpy as np\n",
        "from sklearn.datasets import load_wine\n",
        "from sklearn.model_selection import train_test_split\n",
        "from sklearn.tree import DecisionTreeClassifier\n",
        "from sklearn.metrics import accuracy_score, classification_report, confusion_matrix\n"
      ]
    },
    {
      "cell_type": "code",
      "source": [
        "wine = load_wine()\n",
        "X = wine.data\n",
        "y = wine.target\n",
        "class_names = wine.target_names"
      ],
      "metadata": {
        "id": "KhW3gKxh9Lft"
      },
      "execution_count": 20,
      "outputs": []
    },
    {
      "cell_type": "code",
      "source": [
        "X_train, X_test, y_train, y_test = train_test_split(X, y, test_size=0.2, random_state=42)"
      ],
      "metadata": {
        "id": "cP7iY2bq9Pmy"
      },
      "execution_count": 21,
      "outputs": []
    },
    {
      "cell_type": "code",
      "source": [
        "for crit in ['gini','entropy']:\n",
        "  clf_DT = DecisionTreeClassifier(criterion=crit, max_depth=None, random_state=42)\n",
        "  clf_DT.fit(X_train, y_train)\n",
        "  y_pred=clf_DT.predict(X_test)\n",
        "  accuracy = accuracy_score(y_test, y_pred)\n",
        "  confusion = np.array(confusion_matrix(y_test, y_pred, labels=range(len(class_names))))\n",
        "  confusion_df = pd.DataFrame(confusion, columns=class_names, index=class_names)\n",
        "  confusion_df.index.name = 'Actual'\n",
        "  confusion_df.columns.name = 'Predicted'\n",
        "  classification_rep = classification_report(y_test, y_pred, target_names=wine.target_names)\n",
        "  print(f\"\\nCriterion used for splitting: {crit}\\n\")\n",
        "  print(f\"Accuracy: {accuracy:.2f}\")\n",
        "  print(\"\\nConfusion Matrix:\")\n",
        "  print(confusion_df)\n",
        "  print(\"\\nClassification Report:\")\n",
        "  print(classification_rep)\n"
      ],
      "metadata": {
        "colab": {
          "base_uri": "https://localhost:8080/"
        },
        "id": "pXDcoQO99StD",
        "outputId": "64a6698d-a3af-42de-f7a8-c0709e517482"
      },
      "execution_count": 23,
      "outputs": [
        {
          "output_type": "stream",
          "name": "stdout",
          "text": [
            "\n",
            "Criterion used for splitting: gini\n",
            "\n",
            "Accuracy: 0.94\n",
            "\n",
            "Confusion Matrix:\n",
            "Predicted  class_0  class_1  class_2\n",
            "Actual                              \n",
            "class_0         13        1        0\n",
            "class_1          0       14        0\n",
            "class_2          1        0        7\n",
            "\n",
            "Classification Report:\n",
            "              precision    recall  f1-score   support\n",
            "\n",
            "     class_0       0.93      0.93      0.93        14\n",
            "     class_1       0.93      1.00      0.97        14\n",
            "     class_2       1.00      0.88      0.93         8\n",
            "\n",
            "    accuracy                           0.94        36\n",
            "   macro avg       0.95      0.93      0.94        36\n",
            "weighted avg       0.95      0.94      0.94        36\n",
            "\n",
            "\n",
            "Criterion used for splitting: entropy\n",
            "\n",
            "Accuracy: 0.92\n",
            "\n",
            "Confusion Matrix:\n",
            "Predicted  class_0  class_1  class_2\n",
            "Actual                              \n",
            "class_0         14        0        0\n",
            "class_1          0       14        0\n",
            "class_2          1        2        5\n",
            "\n",
            "Classification Report:\n",
            "              precision    recall  f1-score   support\n",
            "\n",
            "     class_0       0.93      1.00      0.97        14\n",
            "     class_1       0.88      1.00      0.93        14\n",
            "     class_2       1.00      0.62      0.77         8\n",
            "\n",
            "    accuracy                           0.92        36\n",
            "   macro avg       0.94      0.88      0.89        36\n",
            "weighted avg       0.93      0.92      0.91        36\n",
            "\n"
          ]
        }
      ]
    }
  ]
}