{
  "nbformat": 4,
  "nbformat_minor": 0,
  "metadata": {
    "colab": {
      "provenance": [],
      "authorship_tag": "ABX9TyPM1c7gpAulneXtETCnBhRN",
      "include_colab_link": true
    },
    "kernelspec": {
      "name": "python3",
      "display_name": "Python 3"
    },
    "language_info": {
      "name": "python"
    }
  },
  "cells": [
    {
      "cell_type": "markdown",
      "metadata": {
        "id": "view-in-github",
        "colab_type": "text"
      },
      "source": [
        "<a href=\"https://colab.research.google.com/github/Sanjana-Sarma/NTTF_Training/blob/main/EXERCISE93.ipynb\" target=\"_parent\"><img src=\"https://colab.research.google.com/assets/colab-badge.svg\" alt=\"Open In Colab\"/></a>"
      ]
    },
    {
      "cell_type": "markdown",
      "source": [
        "Imagine that you are at a party and playing the game of rolling a 6 sided fair dice. You lose if the sum of the dice is 1,2 or 3. On the other hand , you win if the sum is 11 or 12. If the sum(denoted by i) is any number other than 1,2,3,11 or 12, you keep rolling the dice until the sum is 11 or i. You lose if the sum is 11, and you win if its i. Let R be the total number of times you roll the dice in the game."
      ],
      "metadata": {
        "id": "mjIKrEj37pAB"
      }
    },
    {
      "cell_type": "markdown",
      "source": [
        "Part (a) Find the probability distribution for the sum of the dice."
      ],
      "metadata": {
        "id": "43Q6nKzpK_Rt"
      }
    },
    {
      "cell_type": "code",
      "execution_count": 13,
      "metadata": {
        "colab": {
          "base_uri": "https://localhost:8080/"
        },
        "id": "4dI8aiZCJjmB",
        "outputId": "2187d4b4-3319-45fe-b8c9-69d32ec0dd66"
      },
      "outputs": [
        {
          "output_type": "stream",
          "name": "stdout",
          "text": [
            "Probability distribution for S: [0.0, 0.0278, 0.0556, 0.0833, 0.1111, 0.1389, 0.1667, 0.1389, 0.1111, 0.0833, 0.0556, 0.0278]\n"
          ]
        }
      ],
      "source": [
        "# Probability distribution for the sum of two dice rolls\n",
        "# Initialize probabilities for sums 2 through 12\n",
        "probabilities = [0] * 13  # Index 0 is not used\n",
        "for die1 in range(1, 7):\n",
        "    for die2 in range(1, 7):\n",
        "        sum_of_dice = die1 + die2\n",
        "        probabilities[sum_of_dice] += 1\n",
        "\n",
        "total_outcomes = 6 * 6  # Total possible outcomes when rolling two dice\n",
        "# Calculate probabilities by dividing by the total outcomes and round to 4 decimal places\n",
        "probabilities = [round(count / total_outcomes, 4) for count in probabilities]\n",
        "\n",
        "# Probability distribution for S (sum of dice at the first roll)\n",
        "P_S = probabilities[1:13]  # S can be 1 to 12\n",
        "\n",
        "print(\"Probability distribution for S:\", P_S)"
      ]
    },
    {
      "cell_type": "code",
      "source": [
        "import scipy.stats as stats\n",
        "import numpy as np\n",
        "\n",
        "# Define the possible outcomes and their probabilities\n",
        "outcomes = np.arange(2, 13)  # Possible sums range from 2 to 12\n",
        "probabilities = [1, 2, 3, 4, 5, 6, 5, 4, 3, 2, 1]  # Corresponding probabilities\n",
        "\n",
        "# Normalize the probabilities so that they sum to 1\n",
        "total_prob = sum(probabilities)\n",
        "normalized_probabilities = [p / total_prob for p in probabilities]\n",
        "\n",
        "# Create a discrete random variable for the sum of two dice rolls\n",
        "dice_sum_distribution = stats.rv_discrete(name='dice_sum', values=(outcomes, normalized_probabilities))\n",
        "\n",
        "# Calculate the probability distribution for S (sum of dice at the first roll) and round to 4 decimal places\n",
        "P_S = [round(dice_sum_distribution.pmf(i), 4) for i in range(1, 13)]\n",
        "\n",
        "print(\"Probability distribution for S:\", P_S)"
      ],
      "metadata": {
        "colab": {
          "base_uri": "https://localhost:8080/"
        },
        "id": "r34RIV0-KLem",
        "outputId": "4e5ffec7-23a7-429b-9202-f7962fa1abd6"
      },
      "execution_count": 14,
      "outputs": [
        {
          "output_type": "stream",
          "name": "stdout",
          "text": [
            "Probability distribution for S: [0.0, 0.0278, 0.0556, 0.0833, 0.1111, 0.1389, 0.1667, 0.1389, 0.1111, 0.0833, 0.0556, 0.0278]\n"
          ]
        }
      ]
    },
    {
      "cell_type": "markdown",
      "source": [
        "Part (b) Let S be the sum of the dice at the first roll. Find E[R|S=i] for all possible values of i."
      ],
      "metadata": {
        "id": "s9YKeO0ZLIAr"
      }
    },
    {
      "cell_type": "code",
      "source": [
        "import scipy.stats as stats\n",
        "import numpy as np\n",
        "\n",
        "# Define the possible outcomes and their probabilities\n",
        "outcomes = np.arange(2, 13)  # Possible sums range from 2 to 12\n",
        "probabilities = [1, 2, 3, 4, 5, 6, 5, 4, 3, 2, 1]  # Corresponding probabilities\n",
        "\n",
        "# Normalize the probabilities so that they sum to 1\n",
        "total_prob = sum(probabilities)\n",
        "normalized_probabilities = [p / total_prob for p in probabilities]\n",
        "\n",
        "# Create a discrete random variable for the sum of two dice rolls\n",
        "dice_sum_distribution = stats.rv_discrete(name='dice_sum', values=(outcomes, normalized_probabilities))\n",
        "\n",
        "# Initialize a dictionary to store E[R|S=i] for all possible values of i\n",
        "E_R_given_S_dict = {}\n",
        "\n",
        "# Calculate and print E[R|S=i] for all possible values of i\n",
        "for i in range(2, 13):\n",
        "    if i == 1 or i == 2 or i == 3:\n",
        "        E_R_given_S_dict[i] = 0  # You lose immediately for sums 1, 2, 3\n",
        "    elif i == 11 or i == 12:\n",
        "        E_R_given_S_dict[i] = 1  # You win immediately for sums 11, 12\n",
        "    else:\n",
        "        # For other sums, you roll until you get 11 or i\n",
        "        E_R_given_S_dict[i] = 1 + normalized_probabilities[i - 2] * E_R_given_S_dict[i - 2] + normalized_probabilities[9] * 0  # You win immediately if reaching 11\n",
        "    print(f\"E[R|S={i}] =\", int(E_R_given_S_dict[i]))  # Convert to integer for clarity"
      ],
      "metadata": {
        "colab": {
          "base_uri": "https://localhost:8080/"
        },
        "id": "sdkohgE0KMqZ",
        "outputId": "012db323-d626-4c10-f6a0-521b8ca6820f"
      },
      "execution_count": 15,
      "outputs": [
        {
          "output_type": "stream",
          "name": "stdout",
          "text": [
            "E[R|S=2] = 0\n",
            "E[R|S=3] = 0\n",
            "E[R|S=4] = 1\n",
            "E[R|S=5] = 1\n",
            "E[R|S=6] = 1\n",
            "E[R|S=7] = 1\n",
            "E[R|S=8] = 1\n",
            "E[R|S=9] = 1\n",
            "E[R|S=10] = 1\n",
            "E[R|S=11] = 1\n",
            "E[R|S=12] = 1\n"
          ]
        }
      ]
    },
    {
      "cell_type": "markdown",
      "source": [
        "Part (c) Find E[R]"
      ],
      "metadata": {
        "id": "El3WMtb0Ohju"
      }
    },
    {
      "cell_type": "code",
      "source": [
        "# Calculate E[R] using the law of total expectation\n",
        "E_R = 0\n",
        "\n",
        "for i in range(2, 13):\n",
        "    E_R += E_R_given_S_dict[i] * normalized_probabilities[i - 2]\n",
        "\n",
        "print(\"E[R] =\", E_R)\n"
      ],
      "metadata": {
        "colab": {
          "base_uri": "https://localhost:8080/"
        },
        "id": "L0vmzMXaOng1",
        "outputId": "3d70c840-62d0-4619-c090-bfb1f7c5e266"
      },
      "execution_count": 16,
      "outputs": [
        {
          "output_type": "stream",
          "name": "stdout",
          "text": [
            "E[R] = 1.0081500771604937\n"
          ]
        }
      ]
    }
  ]
}