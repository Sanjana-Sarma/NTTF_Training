{
  "nbformat": 4,
  "nbformat_minor": 0,
  "metadata": {
    "colab": {
      "provenance": [],
      "authorship_tag": "ABX9TyNulo3GZN0JfjnQ/RptEfAN",
      "include_colab_link": true
    },
    "kernelspec": {
      "name": "python3",
      "display_name": "Python 3"
    },
    "language_info": {
      "name": "python"
    }
  },
  "cells": [
    {
      "cell_type": "markdown",
      "metadata": {
        "id": "view-in-github",
        "colab_type": "text"
      },
      "source": [
        "<a href=\"https://colab.research.google.com/github/Sanjana-Sarma/NTTF_Training/blob/main/Exercise77_MultithreadingNoDeadlocks.ipynb\" target=\"_parent\"><img src=\"https://colab.research.google.com/assets/colab-badge.svg\" alt=\"Open In Colab\"/></a>"
      ]
    },
    {
      "cell_type": "code",
      "execution_count": 20,
      "metadata": {
        "id": "h0VaFO-BaT16"
      },
      "outputs": [],
      "source": [
        "import threading\n",
        "import time"
      ]
    },
    {
      "cell_type": "code",
      "source": [
        "# Creating locks\n",
        "lock_state_1 = threading.Lock()\n",
        "lock_state_2 = threading.Lock()\n",
        "\n",
        "# Flag to signal threads to stop\n",
        "stop_threads = False"
      ],
      "metadata": {
        "id": "qq1A4mSeaWXd"
      },
      "execution_count": 21,
      "outputs": []
    },
    {
      "cell_type": "code",
      "source": [
        "def thread_1():\n",
        "    global stop_threads\n",
        "    while not stop_threads:\n",
        "        with lock_state_1:\n",
        "            with lock_state_2:\n",
        "                print('Thread-1')\n",
        "        time.sleep(1)  # Sleep for 1 second to avoid busy-waiting"
      ],
      "metadata": {
        "id": "bgvrvnQHaa9K"
      },
      "execution_count": 22,
      "outputs": []
    },
    {
      "cell_type": "code",
      "source": [
        "def thread_2():\n",
        "    global stop_threads\n",
        "    while not stop_threads:\n",
        "        with lock_state_1:\n",
        "            with lock_state_2:\n",
        "                print('Thread-2')\n",
        "        time.sleep(1)"
      ],
      "metadata": {
        "id": "0dYaCK3sajFU"
      },
      "execution_count": 23,
      "outputs": []
    },
    {
      "cell_type": "code",
      "source": [
        "t1 = threading.Thread(target=thread_1)\n",
        "t1.daemon = True\n",
        "t1.start()\n",
        "\n",
        "t2 = threading.Thread(target=thread_2)\n",
        "t2.daemon = True\n",
        "t2.start()\n",
        "\n",
        "# Run the threads for a certain duration (e.g., 5 seconds)\n",
        "time.sleep(5)\n",
        "\n",
        "# Set the stop_threads flag to True to signal threads to stop\n",
        "stop_threads = True\n",
        "\n",
        "# Wait for threads to finish\n",
        "t1.join()\n",
        "t2.join()\n",
        "\n",
        "print(\"Both threads have finished\")"
      ],
      "metadata": {
        "colab": {
          "base_uri": "https://localhost:8080/"
        },
        "id": "sVD7a0YoaqW8",
        "outputId": "14854496-e56a-4f68-c320-1c9a7098a3a2"
      },
      "execution_count": 24,
      "outputs": [
        {
          "output_type": "stream",
          "name": "stdout",
          "text": [
            "Thread-1\n",
            "Thread-2\n",
            "Thread-1\n",
            "Thread-2\n",
            "Thread-1\n",
            "Thread-2\n",
            "Thread-1\n",
            "Thread-2\n",
            "Thread-1\n",
            "Thread-2\n",
            "Thread-2\n",
            "Thread-1\n",
            "Thread-1\n",
            "Thread-2\n",
            "Thread-2\n",
            "Thread-1\n",
            "Thread-1\n",
            "Thread-2\n",
            "Thread-1\n",
            "Thread-2\n",
            "Thread-1\n",
            "Both threads have finished\n"
          ]
        }
      ]
    }
  ]
}