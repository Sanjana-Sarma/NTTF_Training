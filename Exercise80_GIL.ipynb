{
  "nbformat": 4,
  "nbformat_minor": 0,
  "metadata": {
    "colab": {
      "provenance": [],
      "authorship_tag": "ABX9TyNMTWkgw0RQfFoFcOrH1xy+",
      "include_colab_link": true
    },
    "kernelspec": {
      "name": "python3",
      "display_name": "Python 3"
    },
    "language_info": {
      "name": "python"
    }
  },
  "cells": [
    {
      "cell_type": "markdown",
      "metadata": {
        "id": "view-in-github",
        "colab_type": "text"
      },
      "source": [
        "<a href=\"https://colab.research.google.com/github/Sanjana-Sarma/NTTF_Training/blob/main/Exercise80_GIL.ipynb\" target=\"_parent\"><img src=\"https://colab.research.google.com/assets/colab-badge.svg\" alt=\"Open In Colab\"/></a>"
      ]
    },
    {
      "cell_type": "code",
      "execution_count": 30,
      "metadata": {
        "id": "BNpL8A8xzFUP"
      },
      "outputs": [],
      "source": [
        "import threading\n",
        "import time"
      ]
    },
    {
      "cell_type": "code",
      "source": [
        "# Define a simple CPU-bound task\n",
        "def cpu_bound_task(n):\n",
        "    result = 0\n",
        "    for i in range(n):\n",
        "        result += i\n",
        "    return result"
      ],
      "metadata": {
        "id": "bs4CT2nd6jtG"
      },
      "execution_count": 31,
      "outputs": []
    },
    {
      "cell_type": "code",
      "source": [
        "# Function to measure execution time\n",
        "def measure_time(func):\n",
        "    start_time = time.time()\n",
        "    func()\n",
        "    end_time = time.time()\n",
        "    print(f\"Execution time: {end_time - start_time:.4f} seconds\")"
      ],
      "metadata": {
        "id": "4VrM6s6Y6qsr"
      },
      "execution_count": 32,
      "outputs": []
    },
    {
      "cell_type": "code",
      "source": [
        "# Number of threads to create\n",
        "num_threads = 4\n",
        "\n",
        "# Function to run the CPU-bound task in multiple threads\n",
        "def run_cpu_bound_threads():\n",
        "    threads = []\n",
        "\n",
        "    for _ in range(num_threads):\n",
        "        thread = threading.Thread(target=cpu_bound_task, args=(10**7,))\n",
        "        threads.append(thread)\n",
        "        thread.start()\n",
        "\n",
        "    for thread in threads:\n",
        "        thread.join()"
      ],
      "metadata": {
        "id": "ckO4httB6w9f"
      },
      "execution_count": 33,
      "outputs": []
    },
    {
      "cell_type": "code",
      "source": [
        "# Measure the execution time with threads\n",
        "print(\"Using threads:\")\n",
        "measure_time(run_cpu_bound_threads)\n",
        "\n",
        "# Measure the execution time without threads (single-threaded)\n",
        "print(\"Without threads:\")\n",
        "measure_time(lambda: cpu_bound_task(4 * 10**7))"
      ],
      "metadata": {
        "colab": {
          "base_uri": "https://localhost:8080/"
        },
        "id": "2T-CjhH068Vx",
        "outputId": "03e240bb-66da-413f-8f28-22b85427ccb4"
      },
      "execution_count": 34,
      "outputs": [
        {
          "output_type": "stream",
          "name": "stdout",
          "text": [
            "Using threads:\n",
            "Execution time: 2.2720 seconds\n",
            "Without threads:\n",
            "Execution time: 2.3460 seconds\n"
          ]
        }
      ]
    }
  ]
}