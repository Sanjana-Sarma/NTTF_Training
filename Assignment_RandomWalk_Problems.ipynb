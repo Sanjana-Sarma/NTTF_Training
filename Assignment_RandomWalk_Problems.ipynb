{
  "nbformat": 4,
  "nbformat_minor": 0,
  "metadata": {
    "colab": {
      "provenance": [],
      "authorship_tag": "ABX9TyN+I+yyHoEV9LSsBKQEgekM",
      "include_colab_link": true
    },
    "kernelspec": {
      "name": "python3",
      "display_name": "Python 3"
    },
    "language_info": {
      "name": "python"
    }
  },
  "cells": [
    {
      "cell_type": "markdown",
      "metadata": {
        "id": "view-in-github",
        "colab_type": "text"
      },
      "source": [
        "<a href=\"https://colab.research.google.com/github/Sanjana-Sarma/NTTF_Training/blob/main/Assignment_RandomWalk_Problems.ipynb\" target=\"_parent\"><img src=\"https://colab.research.google.com/assets/colab-badge.svg\" alt=\"Open In Colab\"/></a>"
      ]
    },
    {
      "cell_type": "code",
      "execution_count": null,
      "metadata": {
        "id": "73tEcK6vUNFa"
      },
      "outputs": [],
      "source": [
        "import random\n",
        "import matplotlib.pyplot as plt"
      ]
    },
    {
      "cell_type": "code",
      "source": [
        "def create_random_grid(rows, cols, max_barriers, num_organisms):\n",
        "    grid = [['.' for _ in range(cols)] for _ in range(rows)]\n",
        "\n",
        "    # Randomly determine the number of barriers and their positions\n",
        "    num_barriers = random.randint(1, max_barriers)\n",
        "    barrier_positions = random.sample(range(rows * cols), num_barriers)\n",
        "    for position in barrier_positions:\n",
        "        row = position // cols\n",
        "        col = position % cols\n",
        "        grid[row][col] = '#'\n",
        "\n",
        "    # Place organisms randomly on the grid\n",
        "    organism_positions = random.sample(range(rows * cols), num_organisms)\n",
        "    for position in organism_positions:\n",
        "        row = position // cols\n",
        "        col = position % cols\n",
        "        grid[row][col] = 'o'\n",
        "\n",
        "    return grid, organism_positions"
      ],
      "metadata": {
        "id": "CpHY7fcyUZmE"
      },
      "execution_count": null,
      "outputs": []
    },
    {
      "cell_type": "code",
      "source": [
        "def get_neighbors(x, y, rows, cols):\n",
        "    neighbors = []\n",
        "    if x > 0:\n",
        "        neighbors.append((x - 1, y))\n",
        "    if x < rows - 1:\n",
        "        neighbors.append((x + 1, y))\n",
        "    if y > 0:\n",
        "        neighbors.append((x, y - 1))\n",
        "    if y < cols - 1:\n",
        "        neighbors.append((x, y + 1))\n",
        "    return neighbors"
      ],
      "metadata": {
        "id": "kfxWaYA6Udkt"
      },
      "execution_count": null,
      "outputs": []
    },
    {
      "cell_type": "code",
      "source": [
        "def random_walks_with_absorbing_barriers(grid, num_steps, num_organisms):\n",
        "    rows = len(grid)\n",
        "    cols = len(grid[0])\n",
        "\n",
        "    organisms = [(x, y) for x in range(rows) for y in range(cols) if grid[x][y] == 'o']\n",
        "\n",
        "    for step in range(num_steps):\n",
        "        new_organisms = []\n",
        "\n",
        "        if not organisms:\n",
        "            break\n",
        "\n",
        "        for x, y in organisms:\n",
        "            if grid[x][y] == '#':\n",
        "                grid[x][y] = '.'  # Organism is absorbed into the barrier\n",
        "            else:\n",
        "                neighbors = get_neighbors(x, y, rows, cols)\n",
        "                valid_neighbors = [(x, y) for x, y in neighbors if grid[x][y] == '.']\n",
        "\n",
        "                if valid_neighbors:\n",
        "                    next_x, next_y = random.choice(valid_neighbors)\n",
        "                    grid[x][y] = '.'  # Move organism from current cell\n",
        "                    grid[next_x][next_y] = 'o'  # Place organism in new cell\n",
        "                    new_organisms.append((next_x, next_y))\n",
        "                else:\n",
        "                    new_organisms.append((x, y))  # Stay in the same cell\n",
        "\n",
        "        organisms = new_organisms\n",
        "        organisms = [(x, y) for x, y in organisms if grid[x][y] != '.']  # Remove absorbed organisms\n",
        "        if not organisms or len(organisms) <= num_organisms:\n",
        "            break\n",
        "\n",
        "    return grid, len(organisms)"
      ],
      "metadata": {
        "id": "mh_VlxH8Uj4B"
      },
      "execution_count": null,
      "outputs": []
    },
    {
      "cell_type": "code",
      "source": [
        "def plot_grid(grid):\n",
        "    rows = len(grid)\n",
        "    cols = len(grid[0])\n",
        "\n",
        "    plt.figure(figsize=(cols, rows))\n",
        "    plt.imshow([[0 if cell == '.' else 1 for cell in row] for row in grid], cmap='gray')\n",
        "\n",
        "    plt.title(\"Random Walk with Absorbing Barriers\")\n",
        "    plt.xlabel(\"Columns\")\n",
        "    plt.ylabel(\"Rows\")\n",
        "    plt.gca().invert_yaxis()  # Invert y-axis to match grid indexing\n",
        "    plt.grid()\n",
        "    plt.show()"
      ],
      "metadata": {
        "id": "x7mP2I2qUqsU"
      },
      "execution_count": null,
      "outputs": []
    },
    {
      "cell_type": "code",
      "source": [
        "if __name__ == \"__main__\":\n",
        "    rows = int(input(\"Enter the number of rows: \"))\n",
        "    cols = int(input(\"Enter the number of columns: \"))\n",
        "    max_barriers = int(input(\"Enter the maximum number of barriers: \"))\n",
        "    num_organisms = int(input(\"Enter the number of organisms: \"))\n",
        "    num_steps = int(input(\"Enter the number of steps: \"))\n",
        "\n",
        "    initial_grid, initial_organisms = create_random_grid(rows, cols, max_barriers, num_organisms)\n",
        "\n",
        "    print(\"Initial grid:\")\n",
        "    for row in initial_grid:\n",
        "        print(''.join(row))\n",
        "\n",
        "    final_grid, final_organisms = random_walks_with_absorbing_barriers(initial_grid, num_steps, num_organisms)\n",
        "\n",
        "    print(\"\\nFinal grid:\")\n",
        "    for row in final_grid:\n",
        "        print(''.join(row))\n",
        "\n",
        "    print(\"\\nNumber of organisms before random walk:\", initial_organisms)\n",
        "    print(\"Number of organisms after random walk:\", final_organisms)\n",
        "\n",
        "    plot_grid(final_grid)"
      ],
      "metadata": {
        "colab": {
          "base_uri": "https://localhost:8080/",
          "height": 749
        },
        "id": "2y4SHp4nUu8j",
        "outputId": "88dab0c2-6cfa-48fb-c3ba-13960c3d0ecc"
      },
      "execution_count": null,
      "outputs": [
        {
          "output_type": "stream",
          "name": "stdout",
          "text": [
            "Enter the number of rows: 10\n",
            "Enter the number of columns: 20\n",
            "Enter the maximum number of barriers: 80\n",
            "Enter the number of organisms: 20\n",
            "Enter the number of steps: 40\n",
            "Initial grid:\n",
            "o.##o......#.###..#.\n",
            "#.o#.#..#.o.......#.\n",
            "o.....#o..####.#o.##\n",
            ".o....#..#.....#...o\n",
            "...#.....#...#...#.#\n",
            "#.o.o...o..#...#.###\n",
            "...oo#....##..#...##\n",
            "..#.....#..o.##..#..\n",
            "o###....#....##..#o.\n",
            "##o.....#.#o..o..#.#\n"
          ]
        },
        {
          "output_type": "error",
          "ename": "TypeError",
          "evalue": "ignored",
          "traceback": [
            "\u001b[0;31m---------------------------------------------------------------------------\u001b[0m",
            "\u001b[0;31mTypeError\u001b[0m                                 Traceback (most recent call last)",
            "\u001b[0;32m<ipython-input-6-634d39223e4e>\u001b[0m in \u001b[0;36m<cell line: 1>\u001b[0;34m()\u001b[0m\n\u001b[1;32m     12\u001b[0m         \u001b[0mprint\u001b[0m\u001b[0;34m(\u001b[0m\u001b[0;34m''\u001b[0m\u001b[0;34m.\u001b[0m\u001b[0mjoin\u001b[0m\u001b[0;34m(\u001b[0m\u001b[0mrow\u001b[0m\u001b[0;34m)\u001b[0m\u001b[0;34m)\u001b[0m\u001b[0;34m\u001b[0m\u001b[0;34m\u001b[0m\u001b[0m\n\u001b[1;32m     13\u001b[0m \u001b[0;34m\u001b[0m\u001b[0m\n\u001b[0;32m---> 14\u001b[0;31m     \u001b[0mfinal_grid\u001b[0m\u001b[0;34m,\u001b[0m \u001b[0mfinal_organisms\u001b[0m \u001b[0;34m=\u001b[0m \u001b[0mrandom_walks_with_absorbing_barriers\u001b[0m\u001b[0;34m(\u001b[0m\u001b[0minitial_grid\u001b[0m\u001b[0;34m,\u001b[0m \u001b[0mnum_steps\u001b[0m\u001b[0;34m,\u001b[0m \u001b[0minitial_organisms\u001b[0m\u001b[0;34m)\u001b[0m\u001b[0;34m\u001b[0m\u001b[0;34m\u001b[0m\u001b[0m\n\u001b[0m\u001b[1;32m     15\u001b[0m \u001b[0;34m\u001b[0m\u001b[0m\n\u001b[1;32m     16\u001b[0m     \u001b[0mprint\u001b[0m\u001b[0;34m(\u001b[0m\u001b[0;34m\"\\nFinal grid:\"\u001b[0m\u001b[0;34m)\u001b[0m\u001b[0;34m\u001b[0m\u001b[0;34m\u001b[0m\u001b[0m\n",
            "\u001b[0;32m<ipython-input-4-729e4e15a619>\u001b[0m in \u001b[0;36mrandom_walks_with_absorbing_barriers\u001b[0;34m(grid, num_steps, num_organisms)\u001b[0m\n\u001b[1;32m     28\u001b[0m         \u001b[0morganisms\u001b[0m \u001b[0;34m=\u001b[0m \u001b[0mnew_organisms\u001b[0m\u001b[0;34m\u001b[0m\u001b[0;34m\u001b[0m\u001b[0m\n\u001b[1;32m     29\u001b[0m         \u001b[0morganisms\u001b[0m \u001b[0;34m=\u001b[0m \u001b[0;34m[\u001b[0m\u001b[0;34m(\u001b[0m\u001b[0mx\u001b[0m\u001b[0;34m,\u001b[0m \u001b[0my\u001b[0m\u001b[0;34m)\u001b[0m \u001b[0;32mfor\u001b[0m \u001b[0mx\u001b[0m\u001b[0;34m,\u001b[0m \u001b[0my\u001b[0m \u001b[0;32min\u001b[0m \u001b[0morganisms\u001b[0m \u001b[0;32mif\u001b[0m \u001b[0mgrid\u001b[0m\u001b[0;34m[\u001b[0m\u001b[0mx\u001b[0m\u001b[0;34m]\u001b[0m\u001b[0;34m[\u001b[0m\u001b[0my\u001b[0m\u001b[0;34m]\u001b[0m \u001b[0;34m!=\u001b[0m \u001b[0;34m'.'\u001b[0m\u001b[0;34m]\u001b[0m  \u001b[0;31m# Remove absorbed organisms\u001b[0m\u001b[0;34m\u001b[0m\u001b[0;34m\u001b[0m\u001b[0m\n\u001b[0;32m---> 30\u001b[0;31m         \u001b[0;32mif\u001b[0m \u001b[0;32mnot\u001b[0m \u001b[0morganisms\u001b[0m \u001b[0;32mor\u001b[0m \u001b[0mlen\u001b[0m\u001b[0;34m(\u001b[0m\u001b[0morganisms\u001b[0m\u001b[0;34m)\u001b[0m \u001b[0;34m<=\u001b[0m \u001b[0mnum_organisms\u001b[0m\u001b[0;34m:\u001b[0m\u001b[0;34m\u001b[0m\u001b[0;34m\u001b[0m\u001b[0m\n\u001b[0m\u001b[1;32m     31\u001b[0m             \u001b[0;32mbreak\u001b[0m\u001b[0;34m\u001b[0m\u001b[0;34m\u001b[0m\u001b[0m\n\u001b[1;32m     32\u001b[0m \u001b[0;34m\u001b[0m\u001b[0m\n",
            "\u001b[0;31mTypeError\u001b[0m: '<=' not supported between instances of 'int' and 'list'"
          ]
        }
      ]
    }
  ]
}
