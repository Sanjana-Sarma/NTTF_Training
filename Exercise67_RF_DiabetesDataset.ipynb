{
  "nbformat": 4,
  "nbformat_minor": 0,
  "metadata": {
    "colab": {
      "provenance": [],
      "authorship_tag": "ABX9TyN6I2XwbYMURo+uPwq9Nk+I",
      "include_colab_link": true
    },
    "kernelspec": {
      "name": "python3",
      "display_name": "Python 3"
    },
    "language_info": {
      "name": "python"
    }
  },
  "cells": [
    {
      "cell_type": "markdown",
      "metadata": {
        "id": "view-in-github",
        "colab_type": "text"
      },
      "source": [
        "<a href=\"https://colab.research.google.com/github/Sanjana-Sarma/NTTF_Training/blob/main/Exercise67_RF_DiabetesDataset.ipynb\" target=\"_parent\"><img src=\"https://colab.research.google.com/assets/colab-badge.svg\" alt=\"Open In Colab\"/></a>"
      ]
    },
    {
      "cell_type": "code",
      "execution_count": 137,
      "metadata": {
        "id": "I6wx192hZ_Kf"
      },
      "outputs": [],
      "source": [
        "import numpy as np\n",
        "import pandas as pd\n",
        "import matplotlib.pyplot as plt\n",
        "from sklearn.datasets import load_diabetes\n",
        "from sklearn.model_selection import train_test_split, cross_val_score\n",
        "from sklearn.ensemble import RandomForestRegressor\n",
        "from sklearn.metrics import mean_squared_error, r2_score"
      ]
    },
    {
      "cell_type": "code",
      "source": [
        "diabetes=load_diabetes()\n",
        "X=diabetes.data\n",
        "y=diabetes.target"
      ],
      "metadata": {
        "id": "mvBv9jUIa8NC"
      },
      "execution_count": 138,
      "outputs": []
    },
    {
      "cell_type": "code",
      "source": [
        "for test_sample in [0.2,0.3,0.4,0.5]:\n",
        "  for n_est in [50,100,500,1000,2000,3000,4000,5000]:\n",
        "    X_train, X_test, y_train, y_test = train_test_split(X, y, test_size=test_sample, random_state=42)\n",
        "    clf_RF=RandomForestRegressor(n_estimators=n_est, random_state=42)\n",
        "    clf_RF.fit(X_train, y_train)\n",
        "    y_pred=clf_RF.predict(X_test)\n",
        "    r2 = r2_score(y_test, y_pred)\n",
        "    if r2>=0.49:\n",
        "      print(f\"RandomForest Regressor (Sample Test Size={test_sample*100}%, Number of Estimators={n_est}:\")\n",
        "      print(f\"R-squared (R2): {r2:.2f}\\n\")"
      ],
      "metadata": {
        "colab": {
          "base_uri": "https://localhost:8080/"
        },
        "id": "xUK3OYBJu_Fp",
        "outputId": "96c1e93f-b9d7-45bc-ef6d-846bdbfd3af8"
      },
      "execution_count": 139,
      "outputs": [
        {
          "output_type": "stream",
          "name": "stdout",
          "text": [
            "RandomForest Regressor (Sample Test Size=40.0%, Number of Estimators=500:\n",
            "R-squared (R2): 0.50\n",
            "\n",
            "RandomForest Regressor (Sample Test Size=40.0%, Number of Estimators=1000:\n",
            "R-squared (R2): 0.49\n",
            "\n",
            "RandomForest Regressor (Sample Test Size=40.0%, Number of Estimators=2000:\n",
            "R-squared (R2): 0.49\n",
            "\n",
            "RandomForest Regressor (Sample Test Size=40.0%, Number of Estimators=3000:\n",
            "R-squared (R2): 0.49\n",
            "\n",
            "RandomForest Regressor (Sample Test Size=40.0%, Number of Estimators=4000:\n",
            "R-squared (R2): 0.49\n",
            "\n",
            "RandomForest Regressor (Sample Test Size=40.0%, Number of Estimators=5000:\n",
            "R-squared (R2): 0.50\n",
            "\n"
          ]
        }
      ]
    }
  ]
}