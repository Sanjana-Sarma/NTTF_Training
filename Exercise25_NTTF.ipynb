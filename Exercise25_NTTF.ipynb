{
  "nbformat": 4,
  "nbformat_minor": 0,
  "metadata": {
    "colab": {
      "provenance": [],
      "authorship_tag": "ABX9TyNAxmzlH7c8w4BjeuUP2cEK",
      "include_colab_link": true
    },
    "kernelspec": {
      "name": "python3",
      "display_name": "Python 3"
    },
    "language_info": {
      "name": "python"
    }
  },
  "cells": [
    {
      "cell_type": "markdown",
      "metadata": {
        "id": "view-in-github",
        "colab_type": "text"
      },
      "source": [
        "<a href=\"https://colab.research.google.com/github/Sanjana-Sarma/NTTF_Training/blob/main/Exercise25_NTTF.ipynb\" target=\"_parent\"><img src=\"https://colab.research.google.com/assets/colab-badge.svg\" alt=\"Open In Colab\"/></a>"
      ]
    },
    {
      "cell_type": "code",
      "execution_count": null,
      "metadata": {
        "id": "lap37VjE33NI"
      },
      "outputs": [],
      "source": [
        "import sys\n",
        "assert sys.version_info>=(3,5)\n",
        "import numpy as np\n",
        "import pandas as pd\n",
        "import os\n",
        "import random\n",
        "import networkx as nx\n",
        "np.random.seed(42)\n",
        "%matplotlib inline\n",
        "import matplotlib.pyplot as plt\n",
        "import matplotlib as mpl\n",
        "mpl.rc('axes',labelsize=14)\n",
        "mpl.rc('xtick',labelsize=12)\n",
        "mpl.rc('ytick',labelsize=12)\n",
        "\n",
        "import warnings\n",
        "warnings.filterwarnings(action=\"ignore\",message=\"^internal gesld\")\n",
        "PROJECT_ROOT_DIR=\" \"\n",
        "IMAGES_PATH=os.path.join(PROJECT_ROOT_DIR,\"images\")\n",
        "os.makedirs(IMAGES_PATH, exist_ok=True)\n",
        "\n",
        "def save_first(fig_id,tight_layout=True,fig_extension=\"png\",resolution=300):\n",
        "  path=os.path.join(IMAGES_PATH,fig_id + \",\" + fig_extension)\n",
        "  print(\"Saving figure\", fig_id)\n",
        "  if tight_layout:\n",
        "    plt.tight_layout()\n",
        "  plt.savefig(path, format=fig_extension, dpi=resolution)"
      ]
    },
    {
      "cell_type": "code",
      "source": [
        "# Create a grid with random colors\n",
        "def create_grid(size):\n",
        "    colors = ['R', 'B', 'Y', 'G']\n",
        "    return np.random.choice(colors, (size, size))\n"
      ],
      "metadata": {
        "id": "Al3zsc4hDuSE"
      },
      "execution_count": null,
      "outputs": []
    },
    {
      "cell_type": "code",
      "source": [
        "# Simulate random motion of cells\n",
        "def simulate_motion(grid):\n",
        "    new_grid = grid.copy()\n",
        "    size = grid.shape[0]\n",
        "\n",
        "    for i in range(size):\n",
        "        for j in range(size):\n",
        "            if grid[i, j] != ' ':\n",
        "                new_i, new_j = i, j\n",
        "                while new_i == i and new_j == j:\n",
        "                    new_i = i + random.choice([-1, 0, 1])\n",
        "                    new_j = j + random.choice([-1, 0, 1])\n",
        "                    if new_i < 0 or new_i >= size or new_j < 0 or new_j >= size:\n",
        "                        new_i, new_j = i, j\n",
        "\n",
        "                    # Stop motion if cell contacts same color\n",
        "                    if new_grid[new_i, new_j] == grid[i, j]:\n",
        "                        break\n",
        "\n",
        "                new_grid[new_i, new_j] = grid[i, j]\n",
        "                new_grid[i, j] = ' '\n",
        "\n",
        "    return new_grid\n",
        "\n"
      ],
      "metadata": {
        "id": "0xLQObYpGHjo"
      },
      "execution_count": null,
      "outputs": []
    },
    {
      "cell_type": "code",
      "source": [
        "# Visualize the grid\n",
        "def plot_grid(grid):\n",
        "    colors = {'R': 'red', 'B': 'blue', 'Y': 'yellow', 'G': 'green'}\n",
        "    size = grid.shape[0]\n",
        "    plt.figure(figsize=(3,3))\n",
        "    plt.gca().set_aspect('equal', adjustable='box')\n",
        "    plt.axis('off')\n",
        "    for i in range(size):\n",
        "        for j in range(size):\n",
        "            color = colors.get(grid[i, j], 'white')\n",
        "            if color != 'white':\n",
        "                plt.fill([i, i+1, i+1, i], [j, j, j+1, j+1], color=color)\n",
        "    plt.xlim(0, size)\n",
        "    plt.ylim(0, size)\n",
        "    plt.show()"
      ],
      "metadata": {
        "id": "Ff3vEfBpGNYu"
      },
      "execution_count": null,
      "outputs": []
    },
    {
      "cell_type": "code",
      "source": [
        "def main():\n",
        "    size = 5\n",
        "    grid = create_grid(size)\n",
        "\n",
        "    while not np.all(grid[0, 0] == grid):\n",
        "        plot_grid(grid)\n",
        "        grid = simulate_motion(grid)\n",
        "\n",
        "    print(\"Cells have clustered!\")\n",
        "\n",
        "if __name__ == \"__main__\":\n",
        "    main()"
      ],
      "metadata": {
        "colab": {
          "base_uri": "https://localhost:8080/",
          "height": 1000
        },
        "id": "0TTf0IDNGQqJ",
        "outputId": "db223e8b-4281-4321-eb74-47176fc4ff00"
      },
      "execution_count": null,
      "outputs": [
        {
          "output_type": "display_data",
          "data": {
            "text/plain": [
              "<Figure size 300x300 with 1 Axes>"
            ],
            "image/png": "[encoded data removed]"
          },
          "metadata": {}
        },
        {
          "output_type": "display_data",
          "data": {
            "text/plain": [
              "<Figure size 300x300 with 1 Axes>"
            ],
            "image/png": "[encoded data removed]"
          },
          "metadata": {}
        },
        {
          "output_type": "display_data",
          "data": {
            "text/plain": [
              "<Figure size 300x300 with 1 Axes>"
            ],
            "image/png": "[encoded data removed]"
          },
          "metadata": {}
        },
        {
          "output_type": "display_data",
          "data": {
            "text/plain": [
              "<Figure size 300x300 with 1 Axes>"
            ],
            "image/png": "[encoded data removed]"
          },
          "metadata": {}
        },
        {
          "output_type": "display_data",
          "data": {
            "text/plain": [
              "<Figure size 300x300 with 1 Axes>"
            ],
            "image/png": "[encoded data removed]"
          },
          "metadata": {}
        },
        {
          "output_type": "display_data",
          "data": {
            "text/plain": [
              "<Figure size 300x300 with 1 Axes>"
            ],
            "image/png": "[encoded data removed]"
          },
          "metadata": {}
        },
        {
          "output_type": "display_data",
          "data": {
            "text/plain": [
              "<Figure size 300x300 with 1 Axes>"
            ],
            "image/png": "[encoded data removed]"
          },
          "metadata": {}
        },
        {
          "output_type": "display_data",
          "data": {
            "text/plain": [
              "<Figure size 300x300 with 1 Axes>"
            ],
            "image/png": "[encoded data removed]"
          },
          "metadata": {}
        },
        {
          "output_type": "stream",
          "name": "stdout",
          "text": [
            "Cells have clustered!\n"
          ]
        }
      ]
    },
    {
      "cell_type": "code",
      "source": [
        "# Create a grid with random colors\n",
        "def create_grid(size):\n",
        "    colors = ['R', 'B', 'Y', 'G']\n",
        "    return np.random.choice(colors, (size, size))"
      ],
      "metadata": {
        "id": "hFIh0QruHzHP"
      },
      "execution_count": null,
      "outputs": []
    },
    {
      "cell_type": "code",
      "source": [
        "# Simulate random motion of cells and form clusters\n",
        "def simulate_clusters(grid):\n",
        "    size = grid.shape[0]\n",
        "    G = nx.Graph()\n",
        "    for i in range(size):\n",
        "        for j in range(size):\n",
        "            if grid[i, j] != ' ':\n",
        "                G.add_node((i, j))\n",
        "    for i in range(size):\n",
        "        for j in range(size):\n",
        "            if grid[i, j] != ' ':\n",
        "                current_node = (i, j)\n",
        "                neighbors = [(i + dx, j + dy) for dx in [-1, 0, 1] for dy in [-1, 0, 1] if (dx != 0 or dy != 0)]\n",
        "                neighbors = [(x, y) for x, y in neighbors if 0 <= x < size and 0 <= y < size and grid[x, y] == grid[i, j]]\n",
        "\n",
        "                for neighbor in neighbors:\n",
        "                    G.add_edge(current_node, neighbor)\n",
        "\n",
        "    clusters = list(nx.connected_components(G))\n",
        "    new_grid = np.full((size, size), ' ', dtype='U1')\n",
        "    for cluster in clusters:\n",
        "        color = grid[cluster.pop()]\n",
        "        for node in cluster:\n",
        "            new_grid[node] = color\n",
        "    return new_grid"
      ],
      "metadata": {
        "id": "z-1hxUDtQcoB"
      },
      "execution_count": null,
      "outputs": []
    },
    {
      "cell_type": "code",
      "source": [
        "# Visualize the grid\n",
        "def plot_grid(grid):\n",
        "    colors = {'R': 'red', 'B': 'blue', 'Y': 'yellow', 'G': 'green'}\n",
        "    size = grid.shape[0]\n",
        "\n",
        "    plt.figure(figsize=(3, 3))\n",
        "    plt.gca().set_aspect('equal', adjustable='box')  # Set equal aspect ratio\n",
        "    plt.axis('off')  # Turn off axis\n",
        "    for i in range(size):\n",
        "        for j in range(size):\n",
        "            color = colors.get(grid[i, j], 'white')\n",
        "            plt.fill([i, i+1, i+1, i], [j, j, j+1, j+1], color=color)\n",
        "\n",
        "    plt.xlim(0, size)\n",
        "    plt.ylim(0, size)\n",
        "    plt.show()"
      ],
      "metadata": {
        "id": "U68dmc-VQd7J"
      },
      "execution_count": null,
      "outputs": []
    },
    {
      "cell_type": "code",
      "source": [
        "# Main simulation loop\n",
        "def main():\n",
        "    size = 5\n",
        "    grid = create_grid(size)\n",
        "\n",
        "    while not np.all(grid[0, 0] == grid):\n",
        "        plot_grid(grid)\n",
        "        grid = simulate_clusters(grid)\n",
        "\n",
        "    print(\"Cells have clustered!\")\n",
        "\n",
        "if __name__ == \"__main__\":\n",
        "    main()"
      ],
      "metadata": {
        "colab": {
          "base_uri": "https://localhost:8080/",
          "height": 1000
        },
        "id": "O8RvS8SrQhqh",
        "outputId": "cf5addaf-507d-42ea-f6c3-5d4882fd9064"
      },
      "execution_count": null,
      "outputs": [
        {
          "output_type": "display_data",
          "data": {
            "text/plain": [
              "<Figure size 300x300 with 1 Axes>"
            ],
            "image/png": "[encoded data removed]"
          },
          "metadata": {}
        },
        {
          "output_type": "display_data",
          "data": {
            "text/plain": [
              "<Figure size 300x300 with 1 Axes>"
            ],
            "image/png": "[encoded data removed]"
          },
          "metadata": {}
        },
        {
          "output_type": "display_data",
          "data": {
            "text/plain": [
              "<Figure size 300x300 with 1 Axes>"
            ],
            "image/png": "[encoded data removed]"
          },
          "metadata": {}
        },
        {
          "output_type": "display_data",
          "data": {
            "text/plain": [
              "<Figure size 300x300 with 1 Axes>"
            ],
            "image/png": "[encoded data removed]"
          },
          "metadata": {}
        },
        {
          "output_type": "display_data",
          "data": {
            "text/plain": [
              "<Figure size 300x300 with 1 Axes>"
            ],
            "image/png": "[encoded data removed]"
          },
          "metadata": {}
        },
        {
          "output_type": "stream",
          "name": "stdout",
          "text": [
            "Cells have clustered!\n"
          ]
        }
      ]
    }
  ]
}