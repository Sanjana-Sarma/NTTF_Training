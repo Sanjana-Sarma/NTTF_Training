{
  "nbformat": 4,
  "nbformat_minor": 0,
  "metadata": {
    "colab": {
      "provenance": [],
      "authorship_tag": "ABX9TyO8haHRZ4X3STQRKKXs/26G",
      "include_colab_link": true
    },
    "kernelspec": {
      "name": "python3",
      "display_name": "Python 3"
    },
    "language_info": {
      "name": "python"
    }
  },
  "cells": [
    {
      "cell_type": "markdown",
      "metadata": {
        "id": "view-in-github",
        "colab_type": "text"
      },
      "source": [
        "<a href=\"https://colab.research.google.com/github/Sanjana-Sarma/NTTF_Training/blob/main/Python_Math_Class_13_09_2023.ipynb\" target=\"_parent\"><img src=\"https://colab.research.google.com/assets/colab-badge.svg\" alt=\"Open In Colab\"/></a>"
      ]
    },
    {
      "cell_type": "code",
      "execution_count": 1,
      "metadata": {
        "colab": {
          "base_uri": "https://localhost:8080/"
        },
        "id": "3k6zVZbJyRG1",
        "outputId": "b9f0a124-85db-4c7e-e7cc-1a8e5de175be"
      },
      "outputs": [
        {
          "output_type": "stream",
          "name": "stdout",
          "text": [
            "Requirement already satisfied: sympy in /usr/local/lib/python3.10/dist-packages (1.12)\n",
            "Requirement already satisfied: mpmath>=0.19 in /usr/local/lib/python3.10/dist-packages (from sympy) (1.3.0)\n"
          ]
        }
      ],
      "source": [
        "pip install sympy"
      ]
    },
    {
      "cell_type": "code",
      "source": [
        "import sympy as sp\n",
        "from sympy import symbols, Symbol\n",
        "x,y=symbols('x,y')\n",
        "a=Symbol('a')\n",
        "\n",
        "from sympy import factor, expand\n",
        "factorized_expr=factor(x**2-y**2)\n",
        "\n",
        "expanded_expr=expand((x-y)**3)\n",
        "\n",
        "print(\"After factorizing x**2-y**2: \", factorized_expr)\n",
        "print(\"After expanding (x-y)**3: \",expanded_expr)"
      ],
      "metadata": {
        "colab": {
          "base_uri": "https://localhost:8080/"
        },
        "id": "AMpQkiVrznB3",
        "outputId": "6b1fcd34-1c21-4fe8-d7aa-3b1ad64e837f"
      },
      "execution_count": 4,
      "outputs": [
        {
          "output_type": "stream",
          "name": "stdout",
          "text": [
            "After factorizing x**2-y**2:  (x - y)*(x + y)\n",
            "After expanding (x-y)**3:  x**3 - 3*x**2*y + 3*x*y**2 - y**3\n"
          ]
        }
      ]
    },
    {
      "cell_type": "code",
      "source": [
        "from sympy import solve\n",
        "factr_expr=solve(x**2-5*x+6, dict=True)\n",
        "print(\"After solving the given quadratic equation: \", factr_expr)"
      ],
      "metadata": {
        "colab": {
          "base_uri": "https://localhost:8080/"
        },
        "id": "tCdAq7730o9L",
        "outputId": "87b01b4b-3c7a-4b63-dd56-5bc211d31219"
      },
      "execution_count": 10,
      "outputs": [
        {
          "output_type": "stream",
          "name": "stdout",
          "text": [
            "After solving the given quadratic equation:  [{x: 2}, {x: 3}]\n"
          ]
        }
      ]
    },
    {
      "cell_type": "code",
      "source": [
        "exp1=2*x-y+4\n",
        "exp2=3*x+2*y-1\n",
        "solve((exp1, exp2), dict=True)"
      ],
      "metadata": {
        "colab": {
          "base_uri": "https://localhost:8080/"
        },
        "id": "DuLgxDCm1n6E",
        "outputId": "9407cc00-6903-4829-e7ca-aa786fcc12e9"
      },
      "execution_count": 20,
      "outputs": [
        {
          "output_type": "execute_result",
          "data": {
            "text/plain": [
              "[{x: -1, y: 2}]"
            ]
          },
          "metadata": {},
          "execution_count": 20
        }
      ]
    },
    {
      "cell_type": "code",
      "source": [
        "exp1_=x+4-y\n",
        "exp2_=3*x-y\n",
        "solve((exp1,exp2),dict=True)\n"
      ],
      "metadata": {
        "colab": {
          "base_uri": "https://localhost:8080/"
        },
        "id": "Qyk_OazL3v_C",
        "outputId": "4a1aa46e-53dd-4cd1-8fc9-c7168028fe8a"
      },
      "execution_count": 25,
      "outputs": [
        {
          "output_type": "execute_result",
          "data": {
            "text/plain": [
              "[{x: 2, y: 6}]"
            ]
          },
          "metadata": {},
          "execution_count": 25
        }
      ]
    },
    {
      "cell_type": "code",
      "source": [
        "import numpy as np\n",
        "import matplotlib.pyplot as plt\n",
        "from sympy.plotting import plot\n",
        "%matplotlib inline\n",
        "plot(x+4, 3*x)\n",
        "solve((exp1_,exp2_),dict=True)"
      ],
      "metadata": {
        "colab": {
          "base_uri": "https://localhost:8080/",
          "height": 504
        },
        "id": "nFL1qUoo4jxt",
        "outputId": "d6ff39b9-ea04-4748-ec27-d5a2f3134e2a"
      },
      "execution_count": 26,
      "outputs": [
        {
          "output_type": "display_data",
          "data": {
            "text/plain": [
              "<Figure size 640x480 with 1 Axes>"
            ],
            "image/png": "[encoded data removed]"
          },
          "metadata": {}
        },
        {
          "output_type": "execute_result",
          "data": {
            "text/plain": [
              "[{x: 2, y: 6}]"
            ]
          },
          "metadata": {},
          "execution_count": 26
        }
      ]
    },
    {
      "cell_type": "code",
      "source": [
        "pip install scipy"
      ],
      "metadata": {
        "colab": {
          "base_uri": "https://localhost:8080/"
        },
        "id": "1BMSFpHW5S7U",
        "outputId": "b1c35324-6160-41ae-d13b-c7aaa782d507"
      },
      "execution_count": 27,
      "outputs": [
        {
          "output_type": "stream",
          "name": "stdout",
          "text": [
            "Requirement already satisfied: scipy in /usr/local/lib/python3.10/dist-packages (1.11.2)\n",
            "Requirement already satisfied: numpy<1.28.0,>=1.21.6 in /usr/local/lib/python3.10/dist-packages (from scipy) (1.23.5)\n"
          ]
        }
      ]
    },
    {
      "cell_type": "code",
      "source": [
        "from scipy.stats import binom\n",
        "import scipy.stats as stats\n",
        "n = 8  # Number of trials\n",
        "p = 0.6  # Probability of success\n",
        "k = 3  # Number of successes\n",
        "\n",
        "probability = binom.pmf(k, n, p)\n",
        "print(f\"The probability of getting {k} successes is {probability:.4f}\")"
      ],
      "metadata": {
        "colab": {
          "base_uri": "https://localhost:8080/"
        },
        "id": "ZsdTk9gAL_Zz",
        "outputId": "c47cf6cf-b6d9-4ddf-e27f-af11ff228b07"
      },
      "execution_count": 29,
      "outputs": [
        {
          "output_type": "stream",
          "name": "stdout",
          "text": [
            "The probability of getting 3 successes is 0.1239\n"
          ]
        }
      ]
    },
    {
      "cell_type": "code",
      "source": [
        "binom.cdf(4,n,p)"
      ],
      "metadata": {
        "colab": {
          "base_uri": "https://localhost:8080/"
        },
        "id": "jgmWN2sDMeK0",
        "outputId": "710c94f9-ce6b-47cd-e6c4-9a98eac97f58"
      },
      "execution_count": 31,
      "outputs": [
        {
          "output_type": "execute_result",
          "data": {
            "text/plain": [
              "0.40591360000000004"
            ]
          },
          "metadata": {},
          "execution_count": 31
        }
      ]
    },
    {
      "cell_type": "code",
      "source": [
        "lam=2\n",
        "r=3\n",
        "stats.poisson.pmf(r,lam)"
      ],
      "metadata": {
        "colab": {
          "base_uri": "https://localhost:8080/"
        },
        "id": "ceh47Bf6NBjd",
        "outputId": "8c2d7521-b0d2-49ac-a4c5-ec3149b3ab98"
      },
      "execution_count": 32,
      "outputs": [
        {
          "output_type": "execute_result",
          "data": {
            "text/plain": [
              "0.18044704431548356"
            ]
          },
          "metadata": {},
          "execution_count": 32
        }
      ]
    }
  ]
}